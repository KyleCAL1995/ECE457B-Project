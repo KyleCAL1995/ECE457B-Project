{
 "cells": [
  {
   "cell_type": "markdown",
   "metadata": {},
   "source": [
    "# Text Exploration"
   ]
  },
  {
   "cell_type": "code",
   "execution_count": 140,
   "metadata": {},
   "outputs": [
    {
     "name": "stdout",
     "output_type": "stream",
     "text": [
      "3.5.2 |Continuum Analytics, Inc.| (default, Jul  5 2016, 11:41:13) [MSC v.1900 64 bit (AMD64)]\n"
     ]
    }
   ],
   "source": [
    "import sys\n",
    "print(sys.version)"
   ]
  },
  {
   "cell_type": "code",
   "execution_count": 141,
   "metadata": {
    "collapsed": true
   },
   "outputs": [],
   "source": [
    "#  Use AzureML's data collector to log various metrics!\n",
    "#from azureml.logging import current_scriptrun\n",
    "#logger = current_scriptrun()\n",
    "# Use AzureML's data collector to log various metrics!\n",
    "#from azureml.logging import current_scriptrun\n",
    "#logger = current_scriptrun()\n",
    "\n",
    "import string, re\n",
    "import pandas as pd\n",
    "from nltk.corpus import stopwords\n",
    "from gensim import corpora, models, similarities\n",
    "import azureml\n",
    "from __future__ import division\n",
    "import numpy as np\n",
    "import nltk\n",
    "from nltk.corpus import stopwords\n",
    "from azure.storage.blob import BlockBlobService\n",
    "\n",
    "# import libraries\n",
    "from __future__ import print_function\n",
    "import numpy as np\n",
    "from six.moves import zip\n",
    "import json\n",
    "import warnings\n",
    "import pandas as pd\n",
    "from pandas import DataFrame   \n",
    "import pickle\n",
    "import re\n",
    "import sys \n",
    "import azureml\n",
    "import string\n",
    "from scipy import stats\n",
    "import pip\n",
    "import keras\n",
    "from keras.preprocessing.sequence import pad_sequences\n",
    "from keras.utils.np_utils import to_categorical\n",
    "from keras.preprocessing.text import Tokenizer     \n",
    "from keras.preprocessing import sequence\n",
    "import os\n",
    "import tempfile  \n",
    "import logging\n",
    "import gensim\n",
    "from gensim.models import Phrases, phrases\n",
    "from gensim.models.phrases import Phraser\n",
    "from gensim.models import Word2Vec as wv\n",
    "import nltk\n",
    "from nltk.corpus import stopwords\n",
    "from gensim import corpora, models, similarities\n",
    "from IPython.display import SVG\n",
    "import cloudpickle\n",
    "import csv\n",
    "import mkl\n",
    "import matplotlib.pyplot as plt\n",
    "import h5py\n",
    "from keras.models import load_model\n",
    "import re\n",
    "import io\n",
    "from os.path import dirname, join\n",
    "import regex\n",
    "import pandas as pd\n",
    "from nltk.corpus import stopwords\n",
    "from gensim import corpora, models, similarities\n",
    "import azureml\n",
    "from __future__ import division\n",
    "import numpy as np\n",
    "import nltk\n",
    "from nltk.corpus import stopwords"
   ]
  },
  {
   "cell_type": "markdown",
   "metadata": {},
   "source": [
    "Imprt source text and write to a pandas dataframe"
   ]
  },
  {
   "cell_type": "code",
   "execution_count": 142,
   "metadata": {},
   "outputs": [
    {
     "name": "stdout",
     "output_type": "stream",
     "text": [
      "Data unpickled\n"
     ]
    },
    {
     "data": {
      "text/plain": [
       "(996, 2)"
      ]
     },
     "execution_count": 142,
     "metadata": {},
     "output_type": "execute_result"
    }
   ],
   "source": [
    "import pickle\n",
    "with open('biotechcleaned.pkl', 'rb') as f:\n",
    "    data = pickle.load(f)\n",
    "    print(\"Data unpickled\")\n",
    "    import pandas as pd\n",
    "biotech_cleaned = pd.DataFrame(data)\n",
    "\n",
    "biotech_cleaned.shape"
   ]
  },
  {
   "cell_type": "code",
   "execution_count": 143,
   "metadata": {},
   "outputs": [
    {
     "name": "stdout",
     "output_type": "stream",
     "text": [
      "Data unpickled\n"
     ]
    },
    {
     "data": {
      "text/plain": [
       "(32233, 4)"
      ]
     },
     "execution_count": 143,
     "metadata": {},
     "output_type": "execute_result"
    }
   ],
   "source": [
    "import pickle\n",
    "with open('allindustries.pkl', 'rb') as f:\n",
    "    data = pickle.load(f)\n",
    "    print(\"Data unpickled\")\n",
    "    import pandas as pd\n",
    "allindustries = pd.DataFrame(data)\n",
    "\n",
    "allindustries.shape"
   ]
  },
  {
   "cell_type": "code",
   "execution_count": 144,
   "metadata": {},
   "outputs": [
    {
     "name": "stdout",
     "output_type": "stream",
     "text": [
      "['Independent Oil & Gas' 'Semiconductor - Integrated Circuits'\n",
      " 'Oil & Gas Equipment & Services' 'Regional - Midwest Banks'\n",
      " 'Oil & Gas Drilling & Exploration' 'Industrial Electrical Equipment'\n",
      " 'Credit Services' '' 'REIT - Diversified' 'Shipping'\n",
      " 'Beverages - Soft Drinks' 'Auto Dealerships' 'Mortgage Investment'\n",
      " 'Regional - Pacific Banks' 'Asset Management' 'Business Services'\n",
      " 'Money Center Banks' 'Metal Fabrication' 'General Building Materials'\n",
      " 'Heavy Construction' 'Biotechnology' 'Application Software'\n",
      " 'Networking & Communication Devices' 'Textile - Apparel Clothing'\n",
      " 'Health Care Plans' 'Steel & Iron' 'Restaurants' 'Rubber & Plastics'\n",
      " 'REIT - Hotel/Motel' 'Property & Casualty Insurance' 'Broadcasting - TV'\n",
      " 'Technical & System Software' 'Diversified Electronics' 'Drug Stores'\n",
      " 'Semiconductor Equipment & Materials' 'Internet Information Providers'\n",
      " 'Tobacco Products' 'Regional - Mid-Atlantic Banks' 'Life Insurance'\n",
      " 'Oil & Gas Pipelines' 'Specialty Chemicals' 'Trucks & Other Vehicles'\n",
      " 'Apparel Stores' 'Diversified Communication Services'\n",
      " 'Medical Instruments & Supplies' 'Home Furnishings & Fixtures'\n",
      " 'Chemicals - Major Diversified' 'Savings & Loans' 'Drugs - Generic'\n",
      " 'Communication Equipment' 'Investment Brokerage - National'\n",
      " 'Regional Airlines' 'Drug Manufacturers - Major' 'Waste Management'\n",
      " 'Pollution & Treatment Controls' 'Department Stores'\n",
      " 'Scientific & Technical Instruments' 'Regional - Southeast Banks'\n",
      " 'Drug Manufacturers - Other' 'Computer Based Systems' 'Gas Utilities'\n",
      " 'Specialty Retail' 'Machine Tools & Accessories' 'Marketing Services'\n",
      " 'Food - Major Diversified' 'Industrial Metals & Minerals'\n",
      " 'Industrial Equipment & Components' 'Long Distance Carriers'\n",
      " 'Management Services' 'Packaging & Containers' 'Diversified Machinery'\n",
      " 'Technical Services' 'Auto Parts' 'Foreign Regional Banks'\n",
      " 'Resorts & Casinos' 'Diagnostic Substances' 'REIT - Residential'\n",
      " 'Real Estate Development' 'Staffing & Outsourcing Services'\n",
      " 'Grocery Stores' 'Business Software & Services' 'Railroads'\n",
      " 'Aerospace/Defense Products & Services' 'Regional - Northeast Banks'\n",
      " 'Diversified Investments' 'Paper & Paper Products'\n",
      " 'Building Materials Wholesale' 'Textile - Apparel Footwear & Accessories'\n",
      " 'Water Utilities' 'Processed & Packaged Goods' 'Lumber'\n",
      " 'Broadcasting - Radio' 'General Entertainment'\n",
      " 'Catalog & Mail Order Houses' 'Business Equipment'\n",
      " 'Entertainment - Diversified' 'Major Airlines'\n",
      " 'Diversified Computer Systems' 'Rental & Leasing Services'\n",
      " 'Personal Services' 'Electronics Stores' 'Wireless Communications'\n",
      " 'Data Storage Devices' 'Agricultural Chemicals' 'Personal Products'\n",
      " 'Electronic Equipment' 'Movie Production' 'Internet Software & Services'\n",
      " 'Semiconductor - Broad Line' 'Semiconductor - Specialized'\n",
      " 'Publishing - Newspapers' 'Hospitals' 'Computer Peripherals'\n",
      " 'Toy & Hobby Stores' 'Residential Construction' 'Discount'\n",
      " 'Telecom Services - Domestic' 'Drug Related Products' 'Food Wholesale'\n",
      " 'Long-Term Care Facilities' 'Investment Brokerage - Regional'\n",
      " 'Medical Appliances & Equipment' 'Healthcare Information Services'\n",
      " 'Medical Laboratories & Research' 'Telecom Services - Foreign'\n",
      " 'Farm Products' 'Security Software & Services' 'Cleaning Products'\n",
      " 'CATV Systems' 'REIT - Healthcare Facilities'\n",
      " 'Information Technology Services' 'REIT - Retail'\n",
      " 'Education & Training Services' 'Regional - Southwest  Banks'\n",
      " 'Research Services' 'Industrial Equipment Wholesale' 'Gaming Activities'\n",
      " 'Gold' 'Printed Circuit Boards' 'Electric Utilities' 'Conglomerates'\n",
      " 'Sporting Goods Stores' 'Lodging' 'Small Tools & Accessories'\n",
      " 'Sporting Activities' 'Farm & Construction Machinery' 'Meat Products'\n",
      " 'Office Supplies' 'Multimedia & Graphics Software' 'Computers Wholesale'\n",
      " 'Home Health Care' 'Sporting Goods' 'Property Management'\n",
      " 'Publishing - Periodicals' 'Electronics Wholesale'\n",
      " 'Oil & Gas Refining & Marketing' 'Accident & Health Insurance'\n",
      " 'General Contractors' 'REIT - Office' 'Confectioners' 'REIT - Industrial'\n",
      " 'Jewelry Stores' 'Air Delivery & Freight Services'\n",
      " 'Information & Delivery Services' 'Aerospace/Defense - Major Diversified'\n",
      " 'Appliances' 'Drug Delivery' 'Recreational Vehicles' 'Trucking'\n",
      " 'Drugs Wholesale' 'Security & Protection Services'\n",
      " 'Internet Service Providers' 'Surety & Title Insurance'\n",
      " 'Auto Manufacturers - Major' 'Semiconductor- Memory Chips'\n",
      " 'Auto Parts Stores' 'Specialty Eateries' 'Auto Parts Wholesale' 'Cement'\n",
      " 'Diversified Utilities' 'Insurance Brokers' 'Major Integrated Oil & Gas'\n",
      " 'Home Improvement Stores' 'Cigarettes' 'Textile Industrial'\n",
      " 'Advertising Agencies' 'Beverages - Brewers' 'Foreign Money Center Banks'\n",
      " 'Air Services' 'Toys & Games' 'Processing Systems & Products'\n",
      " 'Medical Equipment Wholesale' 'Housewares & Accessories'\n",
      " 'Specialized Health Services' 'Aluminum' 'Copper' 'Silver'\n",
      " 'Manufactured Housing']\n"
     ]
    }
   ],
   "source": [
    "print(allindustries.Category.unique())\n",
    "#print(data2['Category'].value_counts())"
   ]
  },
  {
   "cell_type": "code",
   "execution_count": 145,
   "metadata": {},
   "outputs": [
    {
     "data": {
      "text/plain": [
       "'C:\\\\Users\\\\pattyry\\\\Documents\\\\AzureML\\\\NextAgenda_CodeStory\\\\NextAgenda_CodeStory'"
      ]
     },
     "execution_count": 145,
     "metadata": {},
     "output_type": "execute_result"
    }
   ],
   "source": [
    "os.getcwd()"
   ]
  },
  {
   "cell_type": "code",
   "execution_count": 146,
   "metadata": {},
   "outputs": [
    {
     "data": {
      "text/plain": [
       "ReturnBin_4Weeks    category\n",
       "CleanText             object\n",
       "dtype: object"
      ]
     },
     "execution_count": 146,
     "metadata": {},
     "output_type": "execute_result"
    }
   ],
   "source": [
    "biotech_cleaned.dtypes"
   ]
  },
  {
   "cell_type": "code",
   "execution_count": 147,
   "metadata": {},
   "outputs": [
    {
     "data": {
      "text/html": [
       "<div>\n",
       "<style>\n",
       "    .dataframe thead tr:only-child th {\n",
       "        text-align: right;\n",
       "    }\n",
       "\n",
       "    .dataframe thead th {\n",
       "        text-align: left;\n",
       "    }\n",
       "\n",
       "    .dataframe tbody tr th {\n",
       "        vertical-align: top;\n",
       "    }\n",
       "</style>\n",
       "<table border=\"1\" class=\"dataframe\">\n",
       "  <thead>\n",
       "    <tr style=\"text-align: right;\">\n",
       "      <th></th>\n",
       "      <th>ReturnBin_4Weeks</th>\n",
       "      <th>CleanText</th>\n",
       "    </tr>\n",
       "  </thead>\n",
       "  <tbody>\n",
       "    <tr>\n",
       "      <th>131</th>\n",
       "      <td>0</td>\n",
       "      <td>acad overview biopharmaceutical company focuse...</td>\n",
       "    </tr>\n",
       "    <tr>\n",
       "      <th>133</th>\n",
       "      <td>2</td>\n",
       "      <td>acad company overview biopharmaceutical compan...</td>\n",
       "    </tr>\n",
       "    <tr>\n",
       "      <th>134</th>\n",
       "      <td>0</td>\n",
       "      <td>acad company overview biopharmaceutical compan...</td>\n",
       "    </tr>\n",
       "  </tbody>\n",
       "</table>\n",
       "</div>"
      ],
      "text/plain": [
       "    ReturnBin_4Weeks                                          CleanText\n",
       "131                0  acad overview biopharmaceutical company focuse...\n",
       "133                2  acad company overview biopharmaceutical compan...\n",
       "134                0  acad company overview biopharmaceutical compan..."
      ]
     },
     "execution_count": 147,
     "metadata": {},
     "output_type": "execute_result"
    }
   ],
   "source": [
    "biotech_cleaned.head(3)"
   ]
  },
  {
   "cell_type": "code",
   "execution_count": 148,
   "metadata": {},
   "outputs": [
    {
     "name": "stdout",
     "output_type": "stream",
     "text": [
      "996\n"
     ]
    }
   ],
   "source": [
    "documents_biotech = biotech_cleaned['CleanText'].values\n",
    "#documents_allindustry = allindustries['CleanText'].values\n",
    "print(len(documents_biotech))"
   ]
  },
  {
   "cell_type": "code",
   "execution_count": 149,
   "metadata": {},
   "outputs": [
    {
     "data": {
      "text/plain": [
       "'acad overview biopharmaceutical company focused discovery development commercialization small molecule drugs treatment central nervous system disorders currently six clinical programs several additional programs discovery development most advanced program conducting phaseiii studies pimavanserin treatment parkinson disease psychosis reported positive results phaseii trial program pimavanserin co therapy schizophrenia also completed enrollment phaseiib trial program acp stand alone treatment schizophrenia addition completed proof of concept clinical study pimavanserin treatment sleep maintenance insomnia healthy older adults retained worldwide commercialization rights programs pimavanserin acp additionally neuropathic pain program phaseii development glaucoma program phasei studies collaboration allergan inc all drug candidates product pipeline emanate discoveries made using proprietary drug discovery platform pipeline addresses diseases well served currently available therapies represent large potential commercial opportunities believe drug candidates offer innovative therapeutic approaches provide significant advantages relative current therapies clinical programs consist following pimavanserin treatment parkinson disease psychosis parkinson disease psychosis debilitating psychiatric disorder occurs up percent patients parkinson disease associated increased caregiver burden nursing home placement increased mortality currently there table contents no therapies approved treat parkinson disease psychosis united states believe pimavanserin effectively treat psychosis patients parkinson disease while allowing optimal motor control thereby significantly improving quality life patients currently conducting first pivotal trial preparing initiate second pivotal trial phaseiii program pimavanserin co therapy schizophrenia current drugs used treat schizophrenia substantial limitations inadequate efficacy severe side effects believe co therapy pimavanserin result enhanced efficacy fewer side effects relative existing treatments thereby providing improved therapy patients schizophrenia reported positive results phaseii trial demonstrated several advantages co therapy pimavanserin sub maximal dose risperidone commonly prescribed antipsychotic drug enhanced efficacy faster onset antipsychotic action improved side effect profile acp treatment schizophrenia currently prescribed treatments do effectively address exacerbate cognitive disturbances associated schizophrenia believe acp represents promising new approach schizophrenia therapy combines potential superior atypical antipsychotic efficacy profile enhanced cognition completed enrollment phaseiib clinicaltrial designed evaluate safety efficacy acp patients schizophrenia expect report top line results trial second quarter pimavanserin treatment sleep maintenance insomnia frequent awakenings difficulty returning sleep common sleep disturbances older adults patients neurological psychiatric disorders believe pimavanserin provides opportunity treat symptoms sleep maintenance insomnia without inducing sleep impairing daytime functioning completed proof of concept clinical study demonstrated pimavanserin induced statistically significant dose related increase deep slow wave sleep healthy older adults neuropathic pain discovered new class compounds collaboration allergan believe represent significant breakthrough treatment neuropathic pain allergan currently conducting phaseii development program glaucoma discovered collaboration allergan developing small molecule drug candidate treatment glaucoma allergan conducting phasei testing program built integrated drug discovery platform use rapidly discover new compounds serve potential treatments significant unmet medical needs proprietary technologies include target based chemistry based technologies integrate discovery development capabilities believe breadth discovery development programs rapid pace discovered drug candidates provide strong validation proprietary platform basis expanding pipeline assembled management team significant industry experience lead discovery development commercialization drug candidates members management team contributed discovery development approval multiple drug candidates complement management team network scientific clinical advisors includes recognized experts fields schizophrenia parkinson disease central nervous system disorders were originally incorporated vermont receptor technologies inc reincorporated delaware cadia xr sat registered trademarks logos trademarks property acadia pharmaceuticals inc all brand names trademarks appearing report property their respective holders use display parties trademarks trade dress products report intended does imply relationship endorsements sponsorship trademark trade dress owners table contents maintain website wwwacadia pharmcom make available free charge website periodic current reports soon reasonably practicable after reports filed securities exchange commission sec information contained accessible through website part report filings sec strategy goal become leader discovery development commercialization novel small molecule drugs treatment central nervous system disorders areas unmet medical need key elements strategy to develop commercialize lead drug candidates focused advancing development lead clinical programs pimavanserin acp intend complete development phaseiii program pimavanserin treatment parkinson disease psychosis successful participate commercialization pimavanserin indication united states also intend continue advance programs each pimavanserin acp treatment schizophrenia through clinical development commercialization through collaboration partners selectively establish strategic collaborations advance maximize commercial potential pipeline will continue pursue strategic collaborations leverage development commercialization expertise partners therapeutic areas schizophrenia involve more extensive development program address large primary care markets intend complete late stage clinical development commercialization drug candidates through collaboration partners plan retain selected commercialization rights products areas where feel they can sold specialty sales force calls focused group physicians expand pipeline drug candidates treatment central nervous system related disorders plan continue using drug discovery platform expertise expand pipeline drug candidates treatment central nervous system related disorders believe disorders represent significant market opportunities believe diversified pipeline programs will mitigate risks inherent drug discovery development increase likelihood commercial success maintain technology leadership position continue build development capabilities believe leader discovery small molecule drugs central nervous system disorders intend continue maintain proprietary discovery technologies capabilities also intend continue expand development capabilities drug candidates advance clinical development leverage proprietary drug discovery platform outside core focus addition focus central nervous system disorders leveraging proprietary drug discovery platform identify novel drug candidates therapeutic areas outside core focus develop partnerships independently opportunistically in license acquire complementary technologies drug candidates although all drug candidates currently pipeline emanate discoveries made using proprietary platform future elect in license acquire complementary technologies augment internal pipeline drug candidates products table contents programs pipeline includes six clinical programs two ind track development programs where selected drug candidate development seeking complete required testing preparation future clinicaltrials four preclinical programs where yet selected drug candidate development programs address diseases well served currently available therapies represent large potential commercial market opportunities believe drug candidates offer innovative therapeutic approaches provide significant advantages relative current therapies following table summarizes programs program stage development commercialization rights pimavanserin parkinson disease psychosis phaseiii acadia pimavanserin co therapy schizophrenia phaseii acadia acp schizophrenia phaseii acadia pimavanserin sleep maintenance insomnia phaseii acadia agn xx agn yy neuropathic pain phaseii allergan ac glaucoma phasei allergan acp endocrine indications ind track development acadia acp neuropsychiatry sleep indications ind track development acadia serotonin program neuropsychiatry sleep indications preclinical acadia pro cognitive antipsychotic pcap program schizophrenia preclinical acadia muscarinic program neuropsychiatry indications preclinical acadia cannabinoid cb program obesity preclinical acadia clinical programs parkinson disease psychosis disease market overview parkinson disease chronic progressive neurological disorder results degeneration neurons region brain controls movement degeneration creates shortage important brain signaling chemical neurotransmitter known dopamine rendering patients unable initiate their movements normal manner parkinson disease characterized number symptoms tremors limb stiffness slowness movements difficulties posture balance severity parkinson disease symptoms tends worsen over time table contents according national parkinson foundation over million people united states suffer disease parkinson disease more prevalent people over years age incidence disease expected increase average age population increases parkinson disease patients currently treated dopamine replacement therapies levodopa commonly referred dopa metabolized dopamine dopamine agonists molecules mimic action dopamine therapies relatively effective controlling symptoms disease most patients use agents normally required throughout course disease studies suggested up percent patients parkinson disease will develop psychotic symptoms commonly consisting visual hallucinations delusions development psychosis patients parkinson disease often disrupts their ability perform many activities daily living keeps independent active result parkinson disease psychosis associated increased caregiver burden nursing home placement increased mortality food drug administration fda has approved therapy parkinson disease psychosis physicians attempt address disorder initially decreasing dose dopamine replacement drugs administered patients manage motoric symptoms parkinson disease however approach generally effective alleviating psychotic symptoms most patients often associated significant worsening motor function patients despite substantial limitations currently marketed antipsychotic drugs seroquel also used off label treat patients parkinson disease psychosis because antipsychotic agents worsen preexisting brain dopamine deficit drugs generally well tolerated patients parkinson disease doses required achieve antipsychotic effects one antipsychotic therapy has demonstrated efficacy reducing psychosis patients parkinson disease without further impairing motor function low dose treatment generic drug clozapine studies suggest unique clinical utility clozapine arises potent blocking key serotonin receptor protein responds neurotransmitter serotonin known hta receptor use low dose clozapine has been approved europe treatment psychotic disorders parkinson disease however patients being treated clozapine require frequent blood monitoring because clozapine associated occurrence rare blood disorder leading complete loss blood cells known agranulocytosis currently there large unmet medical need new therapies will effectively treat psychosis patients parkinson disease without impairing motor function pimavanerin treatment parkinson disease psychosis overview pimavanserin small molecule drug candidate discovered developing treat patients parkinson disease psychosis pimavanserin can taken orally novel potent selective hta inverse agonist meaning it blocks activity hta receptor believe pimavanserin effectively treat parkinson disease psychosis without impairing motor function thereby significantly improving quality life patients parkinson disease development status currently conducting first pivotal trial phaseiii development program pimavanserin parkinson disease psychosis multi center double blind placebo controlled phaseiii trial designed evaluate safety efficacy pimavanserin approximately patients patients trial randomized three different study arms include two different doses pimavanserin one placebo arm patients receive oral doses either pimavanserin placebo once daily six weeks addition stable doses their existing dopamine replacement therapy primary endpoint trial antipsychotic efficacy table contents measured using scale assessment positive symptoms saps motoric tolerability important secondary endpoint trial measured using uniform parkinson disease rating scale updrs also preparing initiate second pivotal trial phaseiii program pimavanserin parkinson disease psychosis study will similar size duration nature first pivotal trial addition two pivotal trials currently conducting open label extension study pursuant patients who completed either pivotal trials will opportunity enroll opinion physician patient benefit continued treatment pimavanserin announced top line results multi center double blind placebo controlled phaseii clinicaltrial designed evaluate efficacy safety tolerability pimavanserin patients parkinson disease psychosis trial met primary endpoint demonstrate administration pimavanserin did result deterioration motoric function patients measured updrs pimavanserin also showed antipsychotic effects secondary endpoints using two different rating scales saps pimavanserin safe well tolerated study connection phaseii trial continue conduct open label extension study pursuant patients parkinson disease psychosis been treated pimavanserin least one year whom been treated least two years schizophrenia disease market overview schizophrenia chronic debilitating mental illness characterized disturbances thinking emotional reaction behavior disturbances include positive symptoms hallucinations delusions range negative symptoms loss interest emotional withdrawal cognitive disturbances schizophrenia associated persistent impairment patient social functioning productivity it believed cognitive disturbances prevent patients schizophrenia readjusting society result patients schizophrenia normally required medical care their entire lives according national institute mental health nimh approximately one percent population develops schizophrenia during their lifetime more than two million people united states suffer disease worldwide sales drugs used treat schizophrenia psychoses approached billion despite their commercial success current drugs used treat schizophrenia substantial limitations inadequate efficacy severe side effects first generation typical antipsychotics were introduced late block dopamine receptors while drugs effective against positive symptoms schizophrenia many patients they also induce disabling motor disturbances akathisia extremely distressful condition characterized feelings inner restlessness urge move typical antipsychotics fail address worsen most negative symptoms schizophrenia their use has decreased united states europe most schizophrenia patients united states today treated second generation atypical antipsychotics induce fewer motor disturbances than typical antipsychotic agents but still fail address most negative symptoms schizophrenia addition currently prescribed treatments do effectively address exacerbate cognitive disturbances associated schizophrenia clozapine more so than atypical antipsychotics appears ability partially address cognitive disturbances some patients it believed efficacy atypical antipsychotics due their interactions dopamine hta receptors side effects induced atypical agents include weight gain non insulin dependent type ii diabetes cardiovascular side effects motor disturbances akathisia believe side effects arise either non essential receptor interactions excessive dopamine blockade table contents limitations currently available antipsychotics result poor patient compliance study conducted nimh published new england journal medicine september found percent patients taking typical atypical antipsychotics discontinued treatment within months because side effects lack efficacy believe there large unmet medical need new therapies broadened efficacy profile extends beyond positive symptoms effects negative symptoms cognitive deficits induce fewer side effects two development programs believe offer innovative therapeutic solutions major unmet medical needs schizophrenia pimavanserin co therapy schizophrenia overview developing pimavanserin co therapy used together antipsychotic drugs treat schizophrenia believe co therapy pimavanserin result enhanced efficacy fewer side effects relative existing treatments thereby providing improved therapy patients schizophrenia related psychiatric disorders pimavanserin can taken orally novel potent selective hta inverse agonist adding pimavanserin low dose antipsychotic drug believe optimal relationship between hta blockade partial dopamine receptor blockade can achieved range existing antipsychotic drugs development status reported positive results multi center double blind placebo controlled phaseii clinicaltrial designed evaluate ability pimavanserin when used co therapy together low doses either risperidone atypical antipsychotic drug haloperidol typical antipsychotic drug treat patients schizophrenia enrolled total patients schizophrenia phaseii trial results trial demonstrated several advantages co therapy pimavanserin sub maximal dose risperidone advantages included enhanced efficacy comparable efficacy high dose risperidone plus placebo faster onset antipsychotic action improved side effect profile less weight gain also completed two earlier clinicaltrials program pimavanserin co therapy schizophrenia reported top line results double blind placebo controlled phaseii clinicaltrial designed evaluate ability pimavanserin treat haloperidol induced akathisia patients schizophrenia reported results clinical study designed assess ability pimavanserin reduce side effects associated drug treatment haloperidol healthy volunteers acp stand alone treatment schizophrenia overview acp small molecule drug candidate developing stand alone treatment patients schizophrenia believe acp provide effective antipsychotic therapy added advantage improving cognitive function patients schizophrenia it known large amounts acp desmethylclozapine formed body after administration clozapine clozapine metabolized acp discovered acp has unique ability stimulate muscarinic receptors widely known play important role cognition since clozapine itself blocks muscarinic receptor patients need extensively metabolize clozapine into acp stimulate receptor thereby overcome blocking action clozapine like clozapine acp also interacts hta dopamine receptors research indicates acp partial agonist causes weak activation dopamine receptors whereas clozapine most antipsychotic drugs block dopamine receptors partial agonist properties acp lead less motoric side effects than seen most antipsychotic drugs table contents development status completed enrollment multi center double blind placebo controlled phaseiib trial designed evaluate safety efficacy acp patients schizophrenia who experiencing acute psychotic episode total patients were enrolled trial patients were randomized one three study arms included two different doses acp one placebo arm six weeks primary endpoint trial antipsychotic efficacy measured using positive negative syndrome scale panss industry standard rating scale commonly used schizophrenia trials expect report top line results trial during second quarter completed four initial studies acp involving total patients schizophrenia studies included single ascending dose study day multiple ascending dose study single dose positron emission tomography pet study food effect study results studies demonstrated acp well tolerated initial signals antipsychotic effects indicated clinically meaningful reductions panss scores were observed within tolerated dose range acp no food effect observed also analyzed data clozapine acp plasma levels relative clinical response two clinicaltrials included patients schizophrenia treated clozapine up six months demonstrated analysis plasma drug ratio acp clozapine positively predicts improvement cognitive functioning quality of life parameters patients analysis indicated higher ratio acp relative clozapine resulted better response patients wide range standard cognitive functioning quality life clinical measures results analysis preclinical tests suggest due ability stimulate muscarinic receptors acp responsible cognitive benefits clozapine sleep maintenance insomnia disease market overview chronic insomnia sleep disorder lasting month more estimated affect about percent adult population significant portion insomnia patients complain frequent awakenings during night difficulty returning sleep referred sleep maintenance insomnia patients sleep maintenance insomnia experience number problems lack energy difficulty concentrating irritability impairment daytime functioning prevalence sleep disorders appears increase advancing age particular slow wave sleep deepest most restorative sleep normally decreases age contribute increase sleep maintenance insomnia there also increased incidence sleep maintenance insomnia patients neurological psychiatric disorders sales prescription drugs used treat insomnia major markets were estimated approximately billion most currently marketed therapies insomnia sedatives designed primarily address sleep onset limitations treating symptoms sleep maintenance insomnia most therapies work interacting gamma aminobutyric acid gaba receptors brain associated side effects risk developing tolerance drug potential causing lethargy upon awakening referred hangover effect addition drugs work activating gaba receptors designated drug enforcement administration controlled substances due their potential abuse believe there large unmet medical need new therapies can treat symptoms sleep maintenance insomnia without impairing daytime functioning pimavanserin sleep maintenance insomnia overview believe pimavanserin hta inverse agonists generated serotonin program provide sleep maintenance insomnia patients novel type sleep therapy without limitations most current sleep inducing agents table contents development status announced positive top line results proof of concept clinical study designed assess effect pimavanserin slow wave sleep healthy volunteers ranging age results study demonstrated pimavanserin induced statistically significant dose related increase slow wave sleep addition pimavanserin had positive impact measures sleep maintenance decreases number awakenings after sleep onset time awake after sleep onset referred waso pimavanserin also did alter latency sleep onset did impair daytime functioning pimavanserin safe well tolerated study neuropathic pain disease market overview neuropathic pain common form pain thought involve alteration nervous system function reorganization nervous system structure neuropathic pain can associated nerve damage caused trauma diseases diabetes shingles irritable bowel syndrome late stage cancer toxic effects chemotherapy many patients damage sensory nerves accompanied varying degrees pain experience can range mildly increased sensitivity touch temperature excruciating pain kind pain extremely difficult manage clinically because it fails respond most medications currently used treat forms pain according pharmaprojects healthcare publication each year approximately million people worldwide suffer some form neuropathic pain drugs opioid painkillers non steroidal anti inflammatory agents effective treating inflammatory acute pain usually effective treating neuropathic pain opioid painkillers also significant adverse side effects limit their usefulness respiratory depression nausea vomiting dizziness sedation mental clouding constipation urinary retention severe itching addition prolonged chronic use opioid painkillers can lead need increasing dosage potentially addiction neurontin first product approved fda treatment neuropathic pain now generic currently leading drugs approved neuropathic pain indications include lyrica successor neurontin cymbalta lyrica had worldwide sales billion cymbalta indicated treatment diabetic peripheral neuropathic pain well treatment major depressive disorder had worldwide sales billion believe there large unmet medical need new therapies improved efficacy side effect profiles drug candidates neuropathic pain collaboration allergan discovered developing new class small molecule drug candidates believe provide potential significant breakthrough treatment neuropathic pain using proprietary drug discovery platform identified previously unappreciated target neuropathic pain alpha adrenergic receptor discovered developing orally active small molecule drug candidates selectively activate target novel alpha adrenergic agonists provide highly effective pain relief wide range preclinical models without side effects current pain therapies sedation cardiovascular respiratory effects allergan has demonstrated drug candidates highly potent efficacious when administered orally relevant animal models more efficacious than neurontin preclinical models approximately fold lower doses allergan currently conducting phaseii development program glaucoma disease market overview glaucoma eye disease left untreated can lead degeneration optic nerve blindness glaucoma leading cause blindness united states prevalent symptom glaucoma increased fluid pressure within eye intraocular pressure currently physicians treat glaucoma multiple classes therapeutics optimize therapy minimize side effects table contents ac treatment glaucoma discovered collaboration allergan developing ac small molecule drug candidate treatment glaucoma using proprietary drug discovery platform identified subtype muscarinic receptors controls intraocular pressure discovered lead compounds selectively activate target primate model glaucoma ac demonstrated efficacy long duration action allergan conducting phasei studies ac ind track development preclinical programs addition clinical programs two programs ind track development where selected drug candidate development seeking complete required development testing preparation future clinicaltrials also four programs preclinical testing where yet selected drug candidate development following summarizes ind track development preclinical programs acp treatment endocrine indications discovered developing acp non steroidal selective androgen receptor agonist acp part class molecules referred selective androgen receptor modulators sarms sarms advance standard treatment variety disorders muscle wasting conditions osteoporosis fewer side effects compared current treatments based testosterone replacement acp has exhibited promising pharmacological properties favorable safety profile preclinical testing addition acp has reversed endocrine bone related markers testosterone deficiency preclinical animal testing unlike testosterone acp had little effect prostate thereby demonstrating tissue specificity actions initiated development acp intend seek partner advance further development program acp neuropsychiatry sleep indications serotonin preclinical program used serotonin program generate new drug candidates treat neuropsychiatric related central nervous system disturbances well sleep maintenance insomnia discovered pimavanserin potent selective hta inverse agonist program addition pimavanserin discovered large number compounds having diverse pharmacological chemical pharmaceutical properties interact hta receptor novel hta inverse agonists serve back up follow on molecules pimavanserin nominated acp potent selective hta inverse agonist clinical candidate acp belongs class molecules structurally different than pimavanserin initiated development acp intend complete required testing preparation potential clinicaltrials believe acp compounds serotonin preclinical program provide strong foundation enable more broadly pursue range potential therapeutic indications suitable mechanism action pcap preclinical program discovered series novel lead compounds provide potential new class pro cognitive antipsychotic drugs compounds differ structurally acp but like acp they combine muscarinic agonism actions both dopamine serotonin receptors novel compounds demonstrate robust effects animal models psychosis pro cognitive effects preclinical models cognition currently seeking identify clinical candidate further development program table contents muscarinic preclinical program muscarinic program designed deliver new drug candidates treat psychosis cognitive disturbances patients schizophrenia dementia neuropathic pain indications identified novel sites muscarinic receptor drug interactions yield selective muscarinic agonists compounds shown side effects typical non selective muscarinic agents but show robust effects animal models psychosis cognition neuropathic pain program includes muscarinic agonists selectively target muscarinic receptor represent novel approach treatment cognition patients schizophrenia discovered over potent muscarinic agonists selectively target muscarinic receptor muscarinic agonist compounds inhibit behaviors associated psychotic states enhance cognitive function preclinical models cannabinoid cb preclinical program discovered structurally novel lead compounds potently selectively block cannabinoid cb receptor cb receptor predominantly expressed central nervous system has key role regulating appetite reward based behaviors blockade cb receptors lead novel treatments obesity substance abuse cb receptor antagonists also useful treatment disorders associated cognitive deficits discovered proprietary compounds potent selective cb receptor active following oral dosing preclinical animal models well tolerated high doses drug discovery platform capabilities overview established drug discovery technical expertise areas molecular biology ultra high throughput screening molecular behavioral pharmacology combinatorial medicinal analytical chemistry integrated discovery development capabilities proprietary technologies seamless fashion addition collaborate world renowned scientists clinicians academic institutions believe expertise combined proprietary drug discovery platform has allowed discover drug candidates more efficiently than traditional approaches all drug candidates currently clinicaltrials earlier stages discovery development emanate discoveries made using proprietary drug discovery platform demonstrated platform can used rapidly identify drug like small molecule chemistries wide range drug targets believe breadth discovery development programs rapid pace discovered drug candidates provide strong validation proprietary platform basis expanding pipeline drug discovery approach drug discovery approach designed introduce chemistry early stage drug discovery process enable selection most attractive drug like chemistries desired targets validate past clinical experience key discovery approach set proprietary functional test systems assays developed focused members three important gene families protein coupled receptors gpcrs nuclear receptors nrs tyrosine kinase linked receptors rtks believe gene families represent most relevant feasible targets small molecule drug discovery use proprietary assays validate drug targets discover novel small molecule drug candidates specific targets using two complementary approaches table contents first approach validate potential drug targets profile collection reference drugs primarily consisting currently formerly marketed central nervous system drugs over range targets functional assays link clinical physiological effects drugs specific drug targets using reference drug approach able identify key drug targets validated past clinical experience well targets believe responsible various side effects drugs discoveries pimavanserin acp resulted successful application reference drug approach second approach broadly screen number targets most attractive small molecule chemistries chemistries prioritized used starting points drug discovery programs using approach discovered one target specific chemistries demonstrated activity preclinical models neuropathic pain providing starting point collaborative neuropathic pain clinical program similarly one selective muscarinic agonists active glaucoma model without showing classical side effects providing starting point collaborative glaucoma development program key components drug discovery platform key components drug discovery platform discussed below target based discovery technologies overview human genome project has provided information about genetic structure essentially all potential drug targets human genome knowledge when combined proprietary technologies allows efficient testing effects chemical compounds wide range potential drug targets within human genome there families genes include most frequent targets drugs focus drug discovery efforts families targets most likely affected small molecule drugs sat functional assay technologies proprietary receptor selection amplification technology refer sat valuable component drug discovery platform sat cell based assay system where genes transferred cultured cells functional activity gene products potential drug targets then evaluated through signal transduction pathways lead cellular growth growth signals reported using marker gene technologies thus effects drugs potential drug targets can efficiently detected changes color fluorescence sat enables efficient screening large compound libraries identification new chemistries given targets well detailed pharmacological testing compounds wide range targets addition sat developed proprietary tools evaluate compound interaction targets one technologies measures physical interaction gpcrs rtks signaling proteins proprietary receptor assay platforms scientists cloned genes majority targets protein coupled receptor nuclear receptor tyrosine kinsase gene families represent some largest families genes targeted known drugs sat assay system has enabled building functional assays large number genes also developed assays several additional targets relevant gene families chemistry based discovery technologies drug discovery approach aims identify small molecules can serve chemical starting points leads optimization efforts providing novel potent selective drug candidates targets most likely affected small molecule drugs enable screening operation identify high quality leads table contents assembled large proprietary chemical library diverse compounds diverse compound library consists about small organic molecules also developed proprietary synthetic methods library construction lead optimization addition reference drug library provides opportunity validate targets another key component drug discovery platform reference drug library includes wide range known central nervous system active drugs drug discovery opportunities proprietary drug discovery platform has generated range novel chemistries believe will continue provide starting points additional programs using target specific chemistries established portfolio proprietary drug discovery assets projects multiple therapeutic areas each areas identified novel chemistries different drug targets believe play important role major diseases discovery projects aim answer specific scientific questions using relatively limited synthetic chemistry biological efforts when all key criteria been fulfilled earlier stage discovery projects advanced into preclinical programs collaboration agreements established three separate collaboration agreements allergan technology license agreement aventis leverage drug discovery platform related assets commercialize selected drug candidates collaborations included upfront payments initiation collaboration form equity investment research support during term milestone payments upon successful completion specified development objectives royalties based upon sales drugs developed collaboration current agreements follows allergan march entered into collaboration agreement allergan discover develop commercialize new therapeutics ophthalmic indications agreement originally provided three year research term has been extended parties through march december had received aggregate million agreement consisting upfront payment research funding related fees during extended research term allergan entitled exclusively license specified chemistry related assets development commercialization grant allergan exclusive license would eligible receive license fees milestone payments upon successful achievement agreed upon clinical regulatory objectives well royalties future product sales worldwide assuming license successful development product area eye care could receive up approximately million aggregate license fees milestone payments per product agreement excluding product royalties july entered into collaboration agreement allergan discover develop commercialize selective muscarinic drugs treatment glaucoma based compounds agreement provided chemistry discovery expertise enable allergan select compound development granted allergan exclusive worldwide rights commercialize products based compound treatment ocular disease program currently phasei testing december had received aggregate million payments agreement consisting upfront fees research funding milestone payments eligible receive additional milestone payments up million aggregate well royalties future product sales worldwide allergan terminate agreement upon days notice however terminated allergan rights selected compound would revert september entered into collaboration agreement allergan focused primarily discovery development new therapeutics neuropathic pain program currently phaseii testing ophthalmic indications agreement amended conjunction execution table contents subsequent amendments march collaboration agreement provides continued development drug candidates one target area restricted conducting competing research target area pursuant agreement granted allergan exclusive worldwide rights commercialize products resulting collaboration had received aggregate million research funding milestone payments through december eligible receive additional milestone payments up million aggregate well royalties future product sales worldwide connection execution collaboration agreement allergan made million equity investment general terms collaboration agreements allergan continue until later expiration last expire patent covering drug candidate licensed collaboration least years date first commercial sale drug candidate addition each allergan collaboration agreements includes research term shorter but renewed agreed parties aventis july entered into agreement aventis licensed portion technology their use specified area pursuing presently intellectual property currently hold issued patents issued foreign patents all patents originated addition provisional utility patent applications foreign patent applications patents proprietary rights essential element business strategy file patent applications united states country represents important potential commercial market addition seek protect technology inventions improvements inventions important development business patent applications claim proprietary technology methods screening chemical synthetic methods novel drug targets novel compounds identified using technology also rely upon trade secret rights protect technologies used discover validate targets used identify develop novel drugs protect trade secrets part through confidentiality proprietary information agreements entered into license agreement dated november intellectual property rights ipsen group order expand strengthen intellectual property portfolio serotonin platform party various license agreements give rights use technologies research development pimavanserin two patents been issued provide generic coverage pimavanserin issued foreign patents generally cover pimavanserin patents european countries australia hong kong new zealand singapore south africa continue prosecute patent applications directed pimavanserin methods treating various diseases using pimavanserin either alone combination agents worldwide acp acp formed body clozapine structure known prior filing patent applications relating use treat conditions accordingly will able obtain composition matter patents directed form acp known prior filing patent applications filed patent applications claims directed use acp treatment neuropsychiatric table contents diseases either alone combination various agents addition filed patent applications directed methods synthesis acp various crystalline polymorphs thereof aware issued patent owned claims use acp analgesic drug discovery platform core sat technology protected four issued patents foreign patents drug candidates nine issued patents claims compounds affect muscarinic receptor activity also three issued patents compounds than pimavanserin serotonin program continue pursue patent applications areas countries competition face will continue face intense competition pharmaceutical biotechnology companies well numerous academic research institutions governmental agencies both united states abroad compete will compete applicable existing new products being developed competitors some competitors pursuing development pharmaceuticals target same diseases conditions research development programs target each clinical programs intend complete clinicaltrials designed evaluate potential advantages drug candidates compared current standard care even collaborators successful developing drug candidates resulting products would compete variety established drugs areas parkinson disease schizophrenia sleep maintenance insomnia neuropathic pain glaucoma example potential product treatment parkinson disease psychosis will compete off label use antipsychotic drugs seroquel marketed astra zeneca clozapine generic drug potential products treatment schizophrenia would compete zyprexa marketed eli lilly risperdal marketed johnson johnson abilify marketed jointly bristol myers squibb otsuka pharmaceutical seroquel clozapine zyprexa market leader worldwide sales billion while proven effective schizophrenia bipolar mania it produces variety adverse events weight gain orthostatic hypertension side effects potential products treatment sleep maintenance insomnia would compete ambien ambien cr marketed sanofi aventis lunesta marketed sepracor sonata marketed king pharmaceuticals inc rozerem marketed takeda pharmaceuticals north america inc various benzodiazepines ambien current market leader worldwide sales approximately billion potential products treatment neuropathic pain would compete neurontin lyrica each marketed pfizer cymbalta marketed eli lilly well variety generic proprietary opioids neurontin first product approved fda treatment neuropathic pain currently leading drugs approved neuropathic pain indications include lyrica successor neurontin cymbalta lyrica had worldwide sales billion cymbalta indicated treatment diabetic peripheral neuropathic pain well treatment major depressive disorder had worldwide sales billion potential products treatment glaucoma would compete xalatan marketed pfizer lumigan alphagan marketed allergan xalatan leading drug glaucoma treatment had worldwide sales excess billion it effective anti glaucoma agent but frequently causes increased pigmentation iris lead change iris color side effects xalatan include blurred vision burning stinging sensations eye table contents addition companies described above competitors variety drugs development awaiting fda approval could reach market become established before product sell competitors also develop alternative therapies could further limit market drugs develop some competitors using functional genomics technologies methods identify validate drug targets discover novel small molecule drugs many competitors their collaborators significantly greater experience than do following identifying validating targets screening compounds against targets preclinical clinicaltrials potential pharmaceutical products obtaining fda regulatory clearances addition many competitors their collaborators substantially greater advantages following areas capital resources research development resources manufacturing capabilities sales marketing smaller companies also prove significant competitors particularly through proprietary research discoveries collaborative arrangements large pharmaceutical established biotechnology companies many competitors products been approved advanced development face competition companies academic institutions governmental agencies public private research organizations collaborative arrangements pharmaceutical biotechnology companies recruiting retaining highly qualified scientific management personnel licenses additional technologies competitors either alone their collaborators succeed developing technologies drugs more effective safer more affordable more easily administered than ours achieve patent protection commercialize drugs sooner than developments others render drug candidates technologies obsolete failure compete effectively could material adverse affect business government regulation manufacturing marketing potential products ongoing research development activities subject extensive regulation numerous governmental authorities united states countries before marketing united states new drug developed must undergo rigorous preclinical testing clinicaltrials extensive regulatory clearance process implemented fda federal food drug cosmetic act amended fda regulates among things development testing manufacture safety efficacy record keeping labeling storage approval advertising promotion sale distribution biopharmaceutical products none drug candidates has been approved sale united states foreign market regulatory review approval process includes preclinical testing clinicaltrials each drug candidate lengthy expensive uncertain united states drug candidates tested animals until adequate proof safety established clinicaltrials new drug candidates typically conducted three sequential phases overlap phasei trials involve initial introduction drug candidate into healthy human volunteers emphasis phasei trials testing safety adverse effects dosage tolerance metabolism distribution excretion clinical pharmacology phaseii involves studies limited patient population determine initial efficacy compound specific targeted indications determine dosage tolerance optimal dosage table contents identify possible adverse side effects safety risks once compound shows evidence effectiveness found acceptable safety profile phaseii evaluations phaseiii trials undertaken more fully evaluate clinical outcomes before commencing clinical investigations humans collaborators must submit fda investigational new drug application ind regulatory authorities require additional data before allowing clinical studies commence proceed one phase another could demand studies discontinued suspended time there significant safety issues past future rely some collaborators file inds generally direct regulatory approval process many potential products clinical testing must also meet requirements institutional review board oversight informed consent good clinical practices establish new drug candidate safety efficacy fda requires companies seeking approval market drug product submit extensive preclinical clinical data along information each indication data information submitted fda form new drug application nda generating required data information nda takes many years requires expenditure substantial resources information generated process susceptible varying interpretations could delay limit prevent regulatory approval stage process failure demonstrate adequately quality safety efficacy drug candidate development would delay prevent regulatory approval drug candidate cannot assure you even clinicaltrials completed either collaborators will submit applications required authorizations manufacture and or market potential products application will reviewed approved appropriate regulatory authorities timely manner all applicable laws fda regulations each nda submitted fda approval usually given internal administrative review within days following submission nda deemed sufficiently complete permit substantive review fda will xfile nda thereby triggering substantive review application fda can refuse file nda it deems incomplete properly reviewable fda has established internal goals six months priority review ndas cover drug candidates offer major advances treatment provide treatment where no adequate therapy exists months standard review non priority ndas however fda legally required complete review within periods performance goals change over time moreover outcome review even generally favorable actual approval but ction letter describes additional work must done before nda can approved fda review nda involve review recommendations independent fda advisory committee before receiving fda approval market potential product collaborators must demonstrate through adequate well controlled clinical studies potential product safe effective patient population will treated regulatory approval potential product granted approval will limited disease states conditions product approved marketing promoting drug unapproved indication generally prohibited furthermore fda approval entail ongoing requirements post marketing studies even approval obtained marketed product manufacturer manufacturing facilities subject continuing review periodic inspections fda discovery previously unknown problems product manufacturer facility result restrictions product manufacturer labeling changes costly recalls withdrawal product market drug likely produce some toxicities undesirable side effects animals humans when administered sufficiently high doses and or sufficiently long periods time unacceptable toxicities side effects occur dose level time course studies animals designed identify unacceptable effects drug candidate known toxicological studies during clinicaltrials potential products appearance unacceptable toxicity side effect could cause regulatory authorities interrupt limit delay abort development drug candidates further unacceptable toxicity side effects could ultimately prevent potential product approval fda foreign regulatory authorities all targeted indications limit labeling claims even product approved table contents collaborators contract manufacturers also required comply applicable fda current good manufacturing practice regulations good manufacturing practice regulations include requirements relating quality control quality assurance well corresponding maintenance records documentation manufacturing facilities subject inspection fda facilities must approved before can use commercial manufacturing potential products fda conclude collaborators contract manufacturers compliance applicable good manufacturing practice requirements fda regulatory requirements product approved must also comply post marketing requirements but limited compliance prescription drug marketing act post marketing safety surveillance addition subject state regulation but limited implementation corporate compliance programs gift reporting healthcare professionals outside united states ability market product contingent upon receiving marketing authorization appropriate regulatory authorities requirements governing conduct clinicaltrials marketing authorization pricing reimbursement vary widely country country present foreign marketing authorizations applied national level although within european community ec registration procedures available companies wishing market product more than one ec member state regulatory authority satisfied adequate evidence safety quality efficacy has been presented marketing authorization will granted foreign regulatory approval process involves all risks associated fda marketing approval discussed above drugs serious life threatening illnesses federal food drug cosmetic act amended fda regulations provide mechanisms accelerated xfast track approval potential products intended treat serious life threatening illnesses been studied safety effectiveness demonstrate potential address unmet medical needs procedures permit early consultation commitment fda regarding preclinical clinical studies necessary gain marketing approval provisions regulatory framework also permit cases ndas approved basis valid surrogate markers product effectiveness thus accelerating normal approval process potential products employing technology might qualify accelerated regulatory procedure even fda agrees potential products qualify accelerated approval procedures fda deny approval drugs require additional studies required before approval fda also require perform post approval phaseiv studies condition early approval addition fda impose restrictions distribution and or promotion connection accelerated approval withdraw approval post approval studies do confirm intended clinical benefit safety potential product regulatory requirements united states research manufacturing distribution sale promotion drug products potentially subject regulation various federal state local authorities addition fda centers medicare medicaid services formerly health care financing administration divisions united states department health human services example office inspector general state local governments example drug product reimbursed medicare medicaid federal state health care programs sales marketing scientific educational grant programs must comply medicare medicaid anti fraud abuse act amended false claims act also amended similar state laws drug product reimbursed medicare medicaid pricing rebate programs must comply applicable medicaid rebate requirements omnibus budget reconciliation act amended medicare prescription drug improvement modernization act drug products made available authorized users federal supply schedule general services administration additional laws requirements apply all activities also potentially subject federal state consumer protection unfair competition laws table contents marketing sales distribution currently limited marketing no sales distribution capabilities order commercialize drug candidates must develop capabilities internally through collaboration third parties selected therapeutic areas where feel drug candidates can commercialized specialty sales force calls limited focused group physicians plan participate commercialization drug candidates therapeutic areas require large sales force selling large diverse prescribing population plan partner drug candidates commercialization manufacturing outsource plan continue outsource manufacturing responsibilities existing future drug candidates development commercial purposes production pimavanserin acp employs small molecule synthetic organic chemistry procedures standard pharmaceutical industry collaboration agreements provide partners arrange production drug candidates use clinicaltrials potential commercialization employees december had employees whom hold phd advanced degrees total workforce engaged research development activities engaged business development finance administration employees located united states located sweden none employees represented collective bargaining agreement nor experienced work stoppages believe relations employees good research development expenses research development expenses were million million million long lived assets information regarding long lived assets geographic area follows december thousands united states europe total'"
      ]
     },
     "execution_count": 149,
     "metadata": {},
     "output_type": "execute_result"
    }
   ],
   "source": [
    "documents_biotech[0]"
   ]
  },
  {
   "cell_type": "code",
   "execution_count": 150,
   "metadata": {},
   "outputs": [
    {
     "name": "stdout",
     "output_type": "stream",
     "text": [
      "[nltk_data] Downloading package punkt to\n",
      "[nltk_data]     C:\\Users\\pattyry\\AppData\\Roaming\\nltk_data...\n",
      "[nltk_data]   Package punkt is already up-to-date!\n"
     ]
    }
   ],
   "source": [
    "\n",
    "# tokenize, create seqs, pad\n",
    "tok = Tokenizer(num_words=5000, lower=True, split=\" \")\n",
    "tok.fit_on_texts(biotech_cleaned['CleanText'])\n",
    "biotech = tok.texts_to_sequences(biotech_cleaned['CleanText'])\n",
    "\n",
    "import nltk \n",
    "\n",
    "nltk.download('punkt')\n",
    "sent_lst = []\n",
    "\n",
    "for doc in biotech_cleaned['CleanText']:\n",
    "    sentences = nltk.tokenize.sent_tokenize(doc)\n",
    "    for sent in sentences:\n",
    "        \n",
    "        word_lst = [w for w in nltk.tokenize.word_tokenize(sent) if w.isalnum()]\n",
    "        sent_lst.append(word_lst)"
   ]
  },
  {
   "cell_type": "code",
   "execution_count": 151,
   "metadata": {},
   "outputs": [
    {
     "name": "stdout",
     "output_type": "stream",
     "text": [
      "Phrases<734 vocab, min_count=5, threshold=10.0, max_vocab_size=40000000>\n"
     ]
    }
   ],
   "source": [
    "from gensim.models import Phrases\n",
    "phrases = Phrases(documents_biotech)\n",
    "print(phrases)"
   ]
  },
  {
   "cell_type": "code",
   "execution_count": 152,
   "metadata": {},
   "outputs": [
    {
     "name": "stdout",
     "output_type": "stream",
     "text": [
      "Dictionary(32325 unique tokens: ['banks', 'powergenerally', 'april', 'heterozygous', 'periodas']...)\n"
     ]
    }
   ],
   "source": [
    "dictionary = corpora.Dictionary(sent_lst)\n",
    "print(dictionary)"
   ]
  },
  {
   "cell_type": "code",
   "execution_count": 153,
   "metadata": {},
   "outputs": [
    {
     "name": "stdout",
     "output_type": "stream",
     "text": [
      "C:\\Users\\pattyry\\Documents\\AzureML\\NextAgenda_CodeStory\\NextAgenda_CodeStory\n",
      "\n"
     ]
    }
   ],
   "source": [
    "# Create dictionary and save it\n",
    "import os\n",
    "cwd = os.getcwd()\n",
    "print(os.getcwd() + \"\\n\")"
   ]
  },
  {
   "cell_type": "code",
   "execution_count": 154,
   "metadata": {},
   "outputs": [
    {
     "name": "stdout",
     "output_type": "stream",
     "text": [
      "Dictionary(32325 unique tokens: ['banks', 'powergenerally', 'april', 'heterozygous', 'periodas']...)\n"
     ]
    }
   ],
   "source": [
    "dictionary.save('stocktexts.dict')\n",
    "print(dictionary)"
   ]
  },
  {
   "cell_type": "code",
   "execution_count": 155,
   "metadata": {
    "collapsed": true
   },
   "outputs": [],
   "source": [
    "# Create tokenized corpus and save it\n",
    "corpus = [dictionary.doc2bow(sent_lst) for sent_lst in sent_lst]\n",
    "corpora.MmCorpus.serialize('stocktexts.dict', corpus)"
   ]
  },
  {
   "cell_type": "code",
   "execution_count": 156,
   "metadata": {},
   "outputs": [
    {
     "name": "stdout",
     "output_type": "stream",
     "text": [
      "[(0, 5), (1, 6), (2, 1), (3, 1), (4, 2), (5, 6), (6, 11), (7, 3), (8, 1), (9, 1), (10, 1), (11, 1), (12, 9), (13, 3), (14, 2), (15, 4), (16, 9), (17, 7), (18, 1), (19, 1), (20, 2), (21, 2), (22, 1), (23, 1), (24, 1), (25, 21), (26, 1), (27, 1), (28, 17), (29, 3), (30, 17), (31, 1), (32, 2), (33, 1), (34, 2), (35, 2), (36, 2), (37, 3), (38, 2), (39, 9), (40, 2), (41, 1), (42, 12), (43, 1), (44, 3), (45, 17), (46, 6), (47, 1), (48, 1), (49, 10), (50, 1), (51, 1), (52, 19), (53, 5), (54, 13), (55, 2), (56, 8), (57, 2), (58, 1), (59, 1), (60, 5), (61, 1), (62, 2), (63, 4), (64, 1), (65, 1), (66, 2), (67, 1), (68, 2), (69, 14), (70, 1), (71, 2), (72, 1), (73, 6), (74, 1), (75, 1), (76, 30), (77, 2), (78, 24), (79, 1), (80, 4), (81, 1), (82, 1), (83, 2), (84, 2), (85, 3), (86, 9), (87, 1), (88, 1), (89, 2), (90, 5), (91, 1), (92, 2), (93, 8), (94, 7), (95, 1), (96, 1), (97, 9), (98, 10), (99, 3), (100, 4), (101, 2), (102, 35), (103, 1), (104, 1), (105, 1), (106, 1), (107, 1), (108, 1), (109, 7), (110, 4), (111, 2), (112, 1), (113, 1), (114, 2), (115, 8), (116, 5), (117, 3), (118, 1), (119, 1), (120, 1), (121, 1), (122, 7), (123, 1), (124, 1), (125, 20), (126, 1), (127, 1), (128, 1), (129, 1), (130, 1), (131, 3), (132, 1), (133, 2), (134, 1), (135, 1), (136, 1), (137, 6), (138, 5), (139, 1), (140, 1), (141, 29), (142, 2), (143, 2), (144, 1), (145, 2), (146, 1), (147, 2), (148, 5), (149, 7), (150, 4), (151, 1), (152, 3), (153, 2), (154, 19), (155, 1), (156, 2), (157, 3), (158, 8), (159, 10), (160, 20), (161, 8), (162, 1), (163, 1), (164, 1), (165, 1), (166, 1), (167, 7), (168, 2), (169, 1), (170, 2), (171, 5), (172, 1), (173, 1), (174, 1), (175, 4), (176, 4), (177, 17), (178, 2), (179, 10), (180, 12), (181, 2), (182, 5), (183, 5), (184, 2), (185, 1), (186, 3), (187, 1), (188, 1), (189, 1), (190, 2), (191, 1), (192, 2), (193, 2), (194, 1), (195, 2), (196, 1), (197, 1), (198, 12), (199, 19), (200, 2), (201, 1), (202, 2), (203, 2), (204, 2), (205, 3), (206, 1), (207, 3), (208, 1), (209, 9), (210, 3), (211, 3), (212, 1), (213, 8), (214, 1), (215, 1), (216, 5), (217, 1), (218, 30), (219, 1), (220, 1), (221, 1), (222, 17), (223, 6), (224, 2), (225, 1), (226, 1), (227, 2), (228, 7), (229, 3), (230, 1), (231, 3), (232, 3), (233, 1), (234, 5), (235, 10), (236, 5), (237, 1), (238, 5), (239, 3), (240, 2), (241, 1), (242, 1), (243, 4), (244, 4), (245, 3), (246, 2), (247, 28), (248, 2), (249, 1), (250, 5), (251, 1), (252, 2), (253, 1), (254, 10), (255, 4), (256, 1), (257, 5), (258, 43), (259, 1), (260, 1), (261, 1), (262, 1), (263, 3), (264, 1), (265, 1), (266, 2), (267, 1), (268, 1), (269, 8), (270, 11), (271, 1), (272, 1), (273, 1), (274, 1), (275, 1), (276, 3), (277, 21), (278, 2), (279, 1), (280, 1), (281, 7), (282, 1), (283, 1), (284, 1), (285, 2), (286, 6), (287, 5), (288, 1), (289, 1), (290, 3), (291, 4), (292, 1), (293, 9), (294, 2), (295, 3), (296, 16), (297, 1), (298, 2), (299, 1), (300, 1), (301, 2), (302, 8), (303, 4), (304, 3), (305, 1), (306, 1), (307, 1), (308, 1), (309, 1), (310, 1), (311, 1), (312, 7), (313, 4), (314, 2), (315, 1), (316, 1), (317, 1), (318, 1), (319, 2), (320, 3), (321, 8), (322, 7), (323, 1), (324, 4), (325, 4), (326, 3), (327, 2), (328, 4), (329, 2), (330, 2), (331, 6), (332, 1), (333, 9), (334, 1), (335, 1), (336, 2), (337, 4), (338, 2), (339, 1), (340, 1), (341, 1), (342, 2), (343, 2), (344, 1), (345, 1), (346, 1), (347, 4), (348, 1), (349, 1), (350, 1), (351, 1), (352, 3), (353, 13), (354, 2), (355, 2), (356, 10), (357, 1), (358, 3), (359, 5), (360, 1), (361, 2), (362, 8), (363, 19), (364, 2), (365, 1), (366, 4), (367, 2), (368, 1), (369, 3), (370, 1), (371, 1), (372, 1), (373, 1), (374, 1), (375, 1), (376, 1), (377, 4), (378, 1), (379, 1), (380, 1), (381, 3), (382, 6), (383, 2), (384, 8), (385, 1), (386, 5), (387, 3), (388, 1), (389, 2), (390, 5), (391, 7), (392, 1), (393, 1), (394, 2), (395, 1), (396, 5), (397, 1), (398, 4), (399, 1), (400, 2), (401, 1), (402, 1), (403, 11), (404, 1), (405, 1), (406, 1), (407, 2), (408, 2), (409, 1), (410, 6), (411, 2), (412, 4), (413, 1), (414, 2), (415, 3), (416, 1), (417, 5), (418, 4), (419, 4), (420, 5), (421, 1), (422, 9), (423, 5), (424, 8), (425, 1), (426, 1), (427, 1), (428, 3), (429, 2), (430, 2), (431, 8), (432, 1), (433, 1), (434, 1), (435, 1), (436, 5), (437, 1), (438, 4), (439, 1), (440, 1), (441, 3), (442, 1), (443, 3), (444, 1), (445, 1), (446, 1), (447, 2), (448, 2), (449, 1), (450, 2), (451, 1), (452, 2), (453, 25), (454, 1), (455, 1), (456, 1), (457, 3), (458, 6), (459, 11), (460, 1), (461, 8), (462, 2), (463, 2), (464, 1), (465, 2), (466, 8), (467, 11), (468, 1), (469, 1), (470, 4), (471, 1), (472, 1), (473, 2), (474, 8), (475, 6), (476, 1), (477, 2), (478, 3), (479, 3), (480, 4), (481, 1), (482, 19), (483, 1), (484, 1), (485, 4), (486, 9), (487, 1), (488, 3), (489, 17), (490, 2), (491, 2), (492, 2), (493, 1), (494, 5), (495, 1), (496, 3), (497, 1), (498, 17), (499, 1), (500, 1), (501, 1), (502, 5), (503, 1), (504, 6), (505, 9), (506, 1), (507, 4), (508, 1), (509, 3), (510, 2), (511, 2), (512, 6), (513, 3), (514, 1), (515, 1), (516, 1), (517, 2), (518, 1), (519, 3), (520, 1), (521, 1), (522, 10), (523, 1), (524, 1), (525, 2), (526, 2), (527, 3), (528, 4), (529, 1), (530, 2), (531, 1), (532, 1), (533, 8), (534, 1), (535, 7), (536, 1), (537, 4), (538, 1), (539, 1), (540, 1), (541, 8), (542, 2), (543, 1), (544, 25), (545, 3), (546, 15), (547, 1), (548, 1), (549, 1), (550, 3), (551, 1), (552, 2), (553, 5), (554, 12), (555, 2), (556, 1), (557, 2), (558, 11), (559, 1), (560, 4), (561, 7), (562, 22), (563, 1), (564, 14), (565, 39), (566, 3), (567, 3), (568, 2), (569, 1), (570, 5), (571, 13), (572, 1), (573, 1), (574, 1), (575, 2), (576, 5), (577, 3), (578, 5), (579, 2), (580, 7), (581, 1), (582, 1), (583, 3), (584, 2), (585, 1), (586, 15), (587, 1), (588, 6), (589, 1), (590, 9), (591, 2), (592, 3), (593, 6), (594, 2), (595, 4), (596, 2), (597, 1), (598, 5), (599, 1), (600, 69), (601, 3), (602, 5), (603, 1), (604, 7), (605, 1), (606, 1), (607, 8), (608, 1), (609, 29), (610, 49), (611, 3), (612, 1), (613, 1), (614, 1), (615, 1), (616, 15), (617, 1), (618, 3), (619, 1), (620, 2), (621, 4), (622, 4), (623, 1), (624, 1), (625, 1), (626, 2), (627, 1), (628, 1), (629, 2), (630, 9), (631, 1), (632, 4), (633, 1), (634, 6), (635, 2), (636, 1), (637, 1), (638, 1), (639, 1), (640, 1), (641, 1), (642, 1), (643, 1), (644, 1), (645, 1), (646, 28), (647, 1), (648, 1), (649, 4), (650, 1), (651, 2), (652, 1), (653, 3), (654, 1), (655, 2), (656, 18), (657, 1), (658, 1), (659, 2), (660, 1), (661, 1), (662, 4), (663, 3), (664, 1), (665, 13), (666, 3), (667, 4), (668, 9), (669, 1), (670, 1), (671, 1), (672, 1), (673, 6), (674, 1), (675, 3), (676, 3), (677, 2), (678, 1), (679, 1), (680, 1), (681, 2), (682, 1), (683, 2), (684, 9), (685, 4), (686, 1), (687, 1), (688, 2), (689, 2), (690, 2), (691, 3), (692, 7), (693, 1), (694, 1), (695, 4), (696, 2), (697, 3), (698, 5), (699, 10), (700, 2), (701, 1), (702, 1), (703, 1), (704, 1), (705, 7), (706, 51), (707, 1), (708, 1), (709, 4), (710, 8), (711, 1), (712, 1), (713, 1), (714, 1), (715, 1), (716, 1), (717, 5), (718, 1), (719, 14), (720, 2), (721, 1), (722, 1), (723, 1), (724, 1), (725, 1), (726, 2), (727, 1), (728, 14), (729, 1), (730, 2), (731, 11), (732, 3), (733, 1), (734, 1), (735, 1), (736, 1), (737, 2), (738, 1), (739, 2), (740, 8), (741, 1), (742, 1), (743, 1), (744, 1), (745, 33), (746, 1), (747, 13), (748, 4), (749, 1), (750, 8), (751, 1), (752, 2), (753, 4), (754, 2), (755, 1), (756, 8), (757, 2), (758, 2), (759, 1), (760, 2), (761, 1), (762, 2), (763, 1), (764, 18), (765, 2), (766, 2), (767, 2), (768, 6), (769, 2), (770, 2), (771, 3), (772, 3), (773, 7), (774, 5), (775, 1), (776, 2), (777, 1), (778, 1), (779, 1), (780, 1), (781, 12), (782, 2), (783, 6), (784, 1), (785, 2), (786, 2), (787, 4), (788, 1), (789, 1), (790, 1), (791, 2), (792, 1), (793, 1), (794, 2), (795, 2), (796, 1), (797, 1), (798, 3), (799, 1), (800, 5), (801, 1), (802, 1), (803, 7), (804, 2), (805, 1), (806, 2), (807, 2), (808, 1), (809, 2), (810, 1), (811, 2), (812, 7), (813, 1), (814, 3), (815, 25), (816, 5), (817, 16), (818, 10), (819, 8), (820, 8), (821, 1), (822, 1), (823, 1), (824, 3), (825, 1), (826, 1), (827, 11), (828, 2), (829, 4), (830, 4), (831, 1), (832, 3), (833, 42), (834, 4), (835, 1), (836, 3), (837, 5), (838, 3), (839, 2), (840, 2), (841, 2), (842, 1), (843, 7), (844, 1), (845, 1), (846, 1), (847, 1), (848, 1), (849, 8), (850, 1), (851, 15), (852, 1), (853, 2), (854, 2), (855, 1), (856, 2), (857, 4), (858, 1), (859, 3), (860, 3), (861, 3), (862, 1), (863, 1), (864, 2), (865, 8), (866, 1), (867, 2), (868, 1), (869, 1), (870, 1), (871, 6), (872, 5), (873, 6), (874, 6), (875, 1), (876, 1), (877, 1), (878, 1), (879, 1), (880, 2), (881, 1), (882, 5), (883, 3), (884, 2), (885, 1), (886, 2), (887, 1), (888, 1), (889, 1), (890, 3), (891, 1), (892, 3), (893, 3), (894, 1), (895, 1), (896, 1), (897, 4), (898, 1), (899, 1), (900, 1), (901, 1), (902, 1), (903, 2), (904, 1), (905, 3), (906, 7), (907, 23), (908, 3), (909, 1), (910, 2), (911, 19), (912, 2), (913, 8), (914, 1), (915, 2), (916, 1), (917, 2), (918, 1), (919, 34), (920, 11), (921, 1), (922, 1), (923, 5), (924, 1), (925, 1), (926, 2), (927, 1), (928, 3), (929, 1), (930, 9), (931, 2), (932, 1), (933, 2), (934, 1), (935, 1), (936, 6), (937, 19), (938, 16), (939, 6), (940, 1), (941, 1), (942, 4), (943, 2), (944, 2), (945, 1), (946, 3), (947, 8), (948, 1), (949, 1), (950, 3), (951, 1), (952, 3), (953, 1), (954, 1), (955, 3), (956, 7), (957, 1), (958, 2), (959, 1), (960, 1), (961, 1), (962, 2), (963, 1), (964, 1), (965, 1), (966, 1), (967, 5), (968, 1), (969, 7), (970, 1), (971, 3), (972, 1), (973, 1), (974, 132), (975, 1), (976, 1), (977, 2), (978, 3), (979, 3), (980, 4), (981, 36), (982, 2), (983, 5), (984, 1), (985, 1), (986, 5), (987, 1), (988, 1), (989, 1), (990, 5), (991, 1), (992, 2), (993, 1), (994, 6), (995, 1), (996, 3), (997, 4), (998, 2), (999, 12), (1000, 1), (1001, 1), (1002, 2), (1003, 1), (1004, 1), (1005, 1), (1006, 28), (1007, 2), (1008, 5), (1009, 2), (1010, 1), (1011, 3), (1012, 4), (1013, 3), (1014, 1), (1015, 1), (1016, 1), (1017, 2), (1018, 4), (1019, 2), (1020, 4), (1021, 3), (1022, 2), (1023, 3), (1024, 1), (1025, 20), (1026, 1), (1027, 2), (1028, 5), (1029, 3), (1030, 2), (1031, 3), (1032, 1), (1033, 1), (1034, 2), (1035, 2), (1036, 1), (1037, 1), (1038, 1), (1039, 2), (1040, 1), (1041, 19), (1042, 1), (1043, 2), (1044, 1), (1045, 1), (1046, 13), (1047, 1), (1048, 1), (1049, 1), (1050, 1), (1051, 1), (1052, 1), (1053, 1), (1054, 1), (1055, 1), (1056, 2), (1057, 1), (1058, 7), (1059, 2), (1060, 1), (1061, 1), (1062, 7), (1063, 3), (1064, 2), (1065, 1), (1066, 1), (1067, 1), (1068, 1), (1069, 3), (1070, 4), (1071, 12), (1072, 1), (1073, 1), (1074, 5), (1075, 1), (1076, 1), (1077, 2), (1078, 1), (1079, 2), (1080, 15), (1081, 1), (1082, 4), (1083, 1), (1084, 1), (1085, 1), (1086, 2), (1087, 6), (1088, 1), (1089, 4), (1090, 1), (1091, 2), (1092, 1), (1093, 1), (1094, 6), (1095, 4), (1096, 1), (1097, 1), (1098, 1), (1099, 5), (1100, 1), (1101, 1), (1102, 1), (1103, 1), (1104, 2), (1105, 13), (1106, 1), (1107, 1), (1108, 15), (1109, 29), (1110, 1), (1111, 3), (1112, 1), (1113, 1), (1114, 2), (1115, 2), (1116, 1), (1117, 1), (1118, 1), (1119, 1), (1120, 1), (1121, 1), (1122, 2), (1123, 1), (1124, 4), (1125, 48), (1126, 1), (1127, 1), (1128, 2), (1129, 4), (1130, 31), (1131, 5), (1132, 17), (1133, 1), (1134, 2), (1135, 3), (1136, 4), (1137, 3), (1138, 18), (1139, 1), (1140, 2), (1141, 1), (1142, 1), (1143, 1), (1144, 2), (1145, 1), (1146, 1), (1147, 3), (1148, 3), (1149, 5), (1150, 4), (1151, 2), (1152, 1), (1153, 1), (1154, 7), (1155, 2), (1156, 1), (1157, 4), (1158, 1), (1159, 1), (1160, 19), (1161, 3), (1162, 9), (1163, 7), (1164, 1), (1165, 1), (1166, 1), (1167, 1), (1168, 9), (1169, 10), (1170, 1), (1171, 1), (1172, 19), (1173, 2), (1174, 1), (1175, 2), (1176, 2), (1177, 9), (1178, 3), (1179, 2), (1180, 2), (1181, 19), (1182, 1), (1183, 6), (1184, 1), (1185, 1), (1186, 1), (1187, 2), (1188, 2), (1189, 1), (1190, 1), (1191, 1), (1192, 2), (1193, 6), (1194, 1), (1195, 5), (1196, 3), (1197, 3), (1198, 4), (1199, 1), (1200, 2), (1201, 3), (1202, 5), (1203, 2), (1204, 7), (1205, 2), (1206, 1), (1207, 1), (1208, 1), (1209, 1), (1210, 9), (1211, 1), (1212, 16), (1213, 2), (1214, 13), (1215, 1), (1216, 2), (1217, 2), (1218, 2), (1219, 4), (1220, 2), (1221, 3), (1222, 1), (1223, 3), (1224, 1), (1225, 1), (1226, 2), (1227, 6), (1228, 1), (1229, 12), (1230, 1), (1231, 2), (1232, 1), (1233, 2), (1234, 1), (1235, 10), (1236, 1), (1237, 1), (1238, 1), (1239, 1), (1240, 1), (1241, 1), (1242, 3), (1243, 5), (1244, 3), (1245, 1), (1246, 2), (1247, 1), (1248, 6), (1249, 2), (1250, 7), (1251, 2), (1252, 4), (1253, 8), (1254, 1), (1255, 1), (1256, 1), (1257, 2), (1258, 2), (1259, 1), (1260, 1), (1261, 3), (1262, 1), (1263, 13), (1264, 3), (1265, 1), (1266, 2), (1267, 1), (1268, 1), (1269, 1), (1270, 4), (1271, 1), (1272, 1), (1273, 2), (1274, 2), (1275, 1), (1276, 1), (1277, 5), (1278, 4), (1279, 1), (1280, 2), (1281, 1), (1282, 1), (1283, 18), (1284, 4), (1285, 3), (1286, 1), (1287, 1), (1288, 6), (1289, 8), (1290, 1), (1291, 1), (1292, 1), (1293, 2), (1294, 1), (1295, 2), (1296, 1), (1297, 1), (1298, 7), (1299, 8), (1300, 1), (1301, 1), (1302, 1), (1303, 1), (1304, 5), (1305, 2), (1306, 2), (1307, 1), (1308, 14), (1309, 1), (1310, 2), (1311, 1), (1312, 1), (1313, 11), (1314, 1), (1315, 4), (1316, 1), (1317, 1), (1318, 16), (1319, 1), (1320, 55), (1321, 1), (1322, 8), (1323, 37), (1324, 1), (1325, 3), (1326, 2), (1327, 3), (1328, 1), (1329, 1), (1330, 2), (1331, 2), (1332, 2), (1333, 2), (1334, 1), (1335, 3), (1336, 2), (1337, 1), (1338, 46), (1339, 6), (1340, 12), (1341, 7), (1342, 2), (1343, 1), (1344, 2), (1345, 2), (1346, 1), (1347, 1), (1348, 6), (1349, 62), (1350, 13), (1351, 1), (1352, 1), (1353, 3), (1354, 1), (1355, 1), (1356, 18), (1357, 1), (1358, 1), (1359, 4), (1360, 20), (1361, 1), (1362, 3), (1363, 1), (1364, 7), (1365, 1), (1366, 37), (1367, 2), (1368, 1), (1369, 4), (1370, 1), (1371, 2), (1372, 5), (1373, 15), (1374, 1), (1375, 3), (1376, 1), (1377, 4), (1378, 13), (1379, 3), (1380, 3), (1381, 1), (1382, 1), (1383, 1), (1384, 1), (1385, 3), (1386, 3), (1387, 10), (1388, 6), (1389, 1), (1390, 1), (1391, 5), (1392, 5), (1393, 3), (1394, 24), (1395, 3), (1396, 9), (1397, 2), (1398, 4), (1399, 1), (1400, 3), (1401, 1), (1402, 1), (1403, 1), (1404, 6), (1405, 4), (1406, 3), (1407, 13), (1408, 3), (1409, 10), (1410, 1), (1411, 2), (1412, 1), (1413, 1), (1414, 1), (1415, 2), (1416, 1), (1417, 2), (1418, 1), (1419, 4), (1420, 2), (1421, 1), (1422, 2), (1423, 4), (1424, 1), (1425, 1), (1426, 1), (1427, 4), (1428, 1), (1429, 3), (1430, 6), (1431, 5), (1432, 2), (1433, 1), (1434, 2), (1435, 2), (1436, 5), (1437, 1), (1438, 1), (1439, 2), (1440, 3), (1441, 2), (1442, 6), (1443, 1), (1444, 5), (1445, 1), (1446, 4), (1447, 11), (1448, 1), (1449, 2), (1450, 1), (1451, 15), (1452, 1), (1453, 1), (1454, 1), (1455, 6), (1456, 2), (1457, 1), (1458, 22), (1459, 2), (1460, 2), (1461, 1), (1462, 6), (1463, 17), (1464, 1), (1465, 1), (1466, 1), (1467, 1), (1468, 2), (1469, 5), (1470, 14), (1471, 1), (1472, 2), (1473, 1), (1474, 1), (1475, 1), (1476, 4), (1477, 1), (1478, 1), (1479, 1), (1480, 3), (1481, 9), (1482, 1), (1483, 4), (1484, 1), (1485, 1), (1486, 1), (1487, 1), (1488, 3), (1489, 1), (1490, 1), (1491, 1), (1492, 1), (1493, 2), (1494, 3), (1495, 1), (1496, 3), (1497, 6), (1498, 6), (1499, 1), (1500, 1), (1501, 15), (1502, 1), (1503, 22), (1504, 2), (1505, 1), (1506, 7), (1507, 1), (1508, 2), (1509, 6), (1510, 1), (1511, 1), (1512, 29), (1513, 1), (1514, 4), (1515, 6), (1516, 2), (1517, 1), (1518, 1), (1519, 1), (1520, 1), (1521, 6), (1522, 1), (1523, 9), (1524, 1), (1525, 1), (1526, 1), (1527, 1), (1528, 1), (1529, 1), (1530, 2), (1531, 1), (1532, 1), (1533, 3), (1534, 1), (1535, 3), (1536, 1), (1537, 1), (1538, 1), (1539, 1), (1540, 1), (1541, 1), (1542, 2), (1543, 1), (1544, 2), (1545, 1), (1546, 2), (1547, 4), (1548, 1), (1549, 2), (1550, 2), (1551, 4), (1552, 1), (1553, 20), (1554, 1), (1555, 5), (1556, 1), (1557, 2), (1558, 1), (1559, 1), (1560, 1), (1561, 2), (1562, 6), (1563, 1), (1564, 2), (1565, 1), (1566, 1), (1567, 3), (1568, 6), (1569, 1), (1570, 2), (1571, 1), (1572, 1), (1573, 4), (1574, 1), (1575, 28), (1576, 3), (1577, 2), (1578, 1), (1579, 1), (1580, 10), (1581, 5), (1582, 3), (1583, 1), (1584, 2), (1585, 3), (1586, 2), (1587, 7), (1588, 2), (1589, 1), (1590, 4), (1591, 2), (1592, 1), (1593, 1), (1594, 21), (1595, 1), (1596, 1), (1597, 2), (1598, 2), (1599, 4), (1600, 12), (1601, 7), (1602, 1), (1603, 3), (1604, 4), (1605, 9), (1606, 1), (1607, 2), (1608, 2), (1609, 1), (1610, 4), (1611, 1), (1612, 1), (1613, 1), (1614, 1), (1615, 2), (1616, 21), (1617, 11), (1618, 3), (1619, 2), (1620, 2), (1621, 48), (1622, 1), (1623, 1), (1624, 16), (1625, 1), (1626, 2), (1627, 1), (1628, 8), (1629, 2), (1630, 1), (1631, 1), (1632, 1), (1633, 21), (1634, 1), (1635, 1), (1636, 3), (1637, 11), (1638, 2), (1639, 3), (1640, 2), (1641, 1), (1642, 3), (1643, 1), (1644, 5), (1645, 1), (1646, 2), (1647, 8), (1648, 3), (1649, 1), (1650, 1), (1651, 1), (1652, 1), (1653, 1), (1654, 1), (1655, 1), (1656, 7), (1657, 17), (1658, 2), (1659, 1), (1660, 1), (1661, 1), (1662, 7), (1663, 4), (1664, 39), (1665, 5), (1666, 4), (1667, 8), (1668, 2), (1669, 1), (1670, 1), (1671, 1), (1672, 2), (1673, 2), (1674, 1), (1675, 1), (1676, 1), (1677, 1), (1678, 1), (1679, 6), (1680, 1), (1681, 25), (1682, 3), (1683, 4)]\n"
     ]
    }
   ],
   "source": [
    "print(corpus[0])"
   ]
  },
  {
   "cell_type": "code",
   "execution_count": 157,
   "metadata": {
    "collapsed": true
   },
   "outputs": [],
   "source": [
    "# Create TFIDF model and save it\n",
    "tfidf = models.TfidfModel(corpus)\n",
    "tfidf.save('stocktexts_tfidf.model')"
   ]
  },
  {
   "cell_type": "code",
   "execution_count": 158,
   "metadata": {},
   "outputs": [
    {
     "name": "stdout",
     "output_type": "stream",
     "text": [
      "[(0, 0.013837144156231307), (1, 0.02974036813232594), (2, 0.0026617659176238957), (3, 0.009003814167231216), (4, 0.0036262896492579703), (5, 0.012169712539600686), (6, 0.08519506031947516), (7, 0.0049026463077710076), (8, 0.003243065840368806), (9, 0.0032982700009189536), (10, 0.002653887046067306), (11, 0.0014919587734436583), (12, 0.007853629988657138), (13, 0.003108039500797485), (14, 0.0019018856711946934), (15, 0.008157845269105554), (16, 0.005904933966574353), (17, 0.04086913335132936), (18, 0.0026304534687383537), (19, 0.002943031903678726), (20, 0.005795027611049725), (21, 0.0014836684835901402), (22, 0.0019254100421108346), (23, 0.007288599119230207), (24, 0.005931600196134505), (25, 0.03546560665119574), (26, 0.007288599119230207), (27, 0.005584629166261745), (28, 0.021962802311813225), (29, 0.010277910538806355), (30, 0.007586690186052324), (31, 0.001735647112578257), (32, 0.005777091011188159), (33, 0.005361973903407042), (34, 0.012721800859495968), (35, 0.00150016580532323), (36, 0.0045961008656785745), (37, 0.002908517895942464), (38, 0.00959276368989136), (39, 0.007695198763627743), (40, 0.0016121054532688545), (41, 0.006133594518909221), (42, 0.010225256296515054), (43, 0.002357168467981526), (44, 0.013037005550218092), (45, 0.012056556839875972), (46, 0.007931316822044785), (47, 0.0007281691882671731), (48, 0.0037403199502354027), (49, 0.009977113526286113), (50, 0.0024531344854232394), (51, 0.002592057174994544), (52, 0.015969153413650045), (53, 0.018350962163674923), (54, 0.08116801553862558), (55, 0.004181243600564228), (56, 0.020199404274171003), (57, 0.006295479249210961), (58, 0.008547407802872772), (59, 0.0009757360813565952), (60, 0.011719319073686127), (61, 0.0003007328478887269), (62, 0.017094815605745543), (63, 0.006811019117024525), (64, 0.009003814167231216), (65, 0.0030087369474966564), (66, 0.011587207869408298), (67, 0.003952436419299448), (68, 0.008896598089157732), (69, 0.010004486658078711), (70, 0.007745005483588651), (71, 0.006804148168481065), (72, 0.002952274045993278), (73, 0.0031785658506944914), (74, 0.0013068460755169375), (75, 0.012537736921184024), (76, 0.057134256137395846), (77, 0.005777091011188159), (78, 0.07456625248679502), (79, 0.0027590790370187745), (80, 0.01058416883447677), (81, 0.0015128094852061224), (82, 0.009003814167231216), (83, 0.0020207781596432964), (84, 0.0033135513786761326), (85, 0.012103877629296043), (86, 0.006118283247677472), (87, 0.004229709324154786), (88, 0.001594300047950492), (89, 0.0023816193572394947), (90, 0.00860738694422649), (91, 0.0021913762153046427), (92, 0.015239418226781097), (93, 0.008057690731190068), (94, 0.007050479389791309), (95, 0.0008933809464384529), (96, 0.0054332017402657605), (97, 0.013805121338347114), (98, 0.004744691173859087), (99, 0.007685742376217676), (100, 0.010277612454099565), (101, 0.010265229535755522), (102, 0.026349428106143036), (103, 0.006620782587049607), (104, 0.006243693502971199), (105, 0.0027178963869379283), (106, 0.003127218761686498), (107, 0.012537736921184024), (108, 0.0032982700009189536), (109, 0.01857720932247114), (110, 0.004862266844462983), (111, 0.0020527234323273833), (112, 0.007502502186613764), (113, 0.004901691172485483), (114, 0.01116925833252349), (115, 0.019072590441602824), (116, 0.010281775895284805), (117, 0.03162771708608519), (118, 0.004406548308248046), (119, 0.0016342154359236692), (120, 0.0036293799950792957), (121, 0.004286763556985466), (122, 0.0199717611211514), (123, 0.0051636595759043235), (124, 0.003904850892261758), (125, 0.011534835245423784), (126, 0.0036428824888429176), (127, 0.005884426711536546), (128, 0.003462414420214187), (129, 0.006360900429747984), (130, 0.01127892823754146), (131, 0.0053657089762749405), (132, 0.007097256305261045), (133, 0.005568488959167164), (134, 0.001957271860143821), (135, 0.0015424086021474887), (136, 0.0019842571567262415), (137, 0.0033855605037686133), (138, 0.003293612434558397), (139, 0.002011649486675223), (140, 0.0007528408030326583), (141, 0.01679820433246982), (142, 0.00241691753680188), (143, 0.010144146520513354), (144, 0.0021138307684900916), (145, 0.0018347910765592263), (146, 0.007288599119230207), (147, 0.007480639900470805), (148, 0.03939795635346086), (149, 0.015906667503885166), (150, 0.006501076901964132), (151, 0.0013677684185326752), (152, 0.007753423136460867), (153, 0.0051689487576405775), (154, 0.014514375079399813), (155, 0.0026460422086191926), (156, 0.017094815605745543), (157, 0.0029647824008309496), (158, 0.014865887602719853), (159, 0.01399013525492767), (160, 0.028138190501698128), (161, 0.00626765909107882), (162, 0.009003814167231216), (163, 0.00479638184494568), (164, 0.003232223557147895), (165, 0.0025249255342713753), (166, 0.006133594518909221), (167, 0.008262113797886397), (168, 0.009114157369123037), (169, 0.0033668093442514157), (170, 0.0035094274267655897), (171, 0.008193525609411487), (172, 0.0047459320162418495), (173, 0.0018633158894433518), (174, 0.00467279151249194), (175, 0.013998420043636153), (176, 0.004665542415328795), (177, 0.01627086127624008), (178, 0.003386930724701427), (179, 0.010263617161636917), (180, 0.0062402792791004715), (181, 0.002176744335432044), (182, 0.003778014489652983), (183, 0.004392657505555015), (184, 0.006017473894993313), (185, 0.004034625876432014), (186, 0.002680142839315359), (187, 0.0024601872206766765), (188, 0.0009757360813565952), (189, 0.012537736921184024), (190, 0.001555704411738954), (191, 0.0023438638147372255), (192, 0.0037572830501591383), (193, 0.004934534904087009), (194, 0.0036701924327349846), (195, 0.007285764977685835), (196, 0.005584629166261745), (197, 0.00227876447766055), (198, 0.0063278598037123015), (199, 0.01531500180605412), (200, 0.0035673885624239662), (201, 0.003828211797167457), (202, 0.0028217408724826734), (203, 0.00644289124040064), (204, 0.0029344997221171206), (205, 0.005871815580431462), (206, 0.0018837789458897654), (207, 0.016753887498785234), (208, 0.0014428726219545079), (209, 0.02252779806092291), (210, 0.003920538226550812), (211, 0.00966433686060096), (212, 0.003828211797167457), (213, 0.0054809553625956705), (214, 0.00322144562020032), (215, 0.007879591270692174), (216, 0.022785393422807592), (217, 0.002734257552059934), (218, 0.013458260509706967), (219, 0.005980031787499316), (220, 0.005980031787499316), (221, 0.010020119553898893), (222, 0.04910527359509935), (223, 0.01958967930829359), (224, 0.005484987486505523), (225, 0.0018330472380118303), (226, 0.0027097707490183914), (227, 0.011960063574998632), (228, 0.006506660831786117), (229, 0.0057447373731191465), (230, 0.0021432654005979685), (231, 0.0020235436821848265), (232, 0.008080883206970646), (233, 0.00398486722834369), (234, 0.003889261029347385), (235, 0.01344682382501372), (236, 0.014048817732404356), (237, 0.0025544558929715467), (238, 0.005020195768067468), (239, 0.002504094206601236), (240, 0.007567468435827881), (241, 0.005227388116303521), (242, 0.0018684100780439327), (243, 0.001564677816934264), (244, 0.007332188952047321), (245, 0.009443218873816443), (246, 0.010265229535755522), (247, 0.01483330730324096), (248, 0.002910040679583162), (249, 0.0022533643846599466), (250, 0.004754714177986734), (251, 0.0029709006405122217), (252, 0.005419541498036783), (253, 0.006422468259546887), (254, 0.01555243122316778), (255, 0.014305408321999826), (256, 0.001688838411961702), (257, 0.012698153459529791), (258, 0.038159343375855706), (259, 0.003904850892261758), (260, 0.0008638024905669043), (261, 0.0029709006405122217), (262, 0.002337247861900042), (263, 0.0037437038436395394), (264, 0.0008814916925493236), (265, 0.007097256305261045), (266, 0.002751058886716806), (267, 0.006692010423908325), (268, 0.0019897026691880638), (269, 0.00463398740206064), (270, 0.005349813781809327), (271, 0.008761310870256328), (272, 0.0015466767052760878), (273, 0.003952436419299448), (274, 0.0021138307684900916), (275, 0.0007308939855454988), (276, 0.001775501706406057), (277, 0.15306058150383434), (278, 0.003968514313452483), (279, 0.0009540235437921161), (280, 0.0036701924327349846), (281, 0.00806802545814898), (282, 0.004068572230123437), (283, 0.00398486722834369), (284, 0.004365735870592357), (285, 0.00906959050212317), (286, 0.015237784151435747), (287, 0.016379932837095098), (288, 0.002677626953336314), (289, 0.0009325675316620777), (290, 0.004232611308724011), (291, 0.0064123785084002835), (292, 0.002734257552059934), (293, 0.009208403375478392), (294, 0.0033592394539240264), (295, 0.00905496146929301), (296, 0.020909537208271), (297, 0.0037546763652773984), (298, 0.0019639752872478173), (299, 0.0015296641495282615), (300, 0.000890401327976263), (301, 0.005484987486505523), (302, 0.006448421813075418), (303, 0.005502117773433612), (304, 0.004588992448584785), (305, 0.0022915989978298397), (306, 0.0012956472093289826), (307, 0.0038132645766141117), (308, 0.00322144562020032), (309, 0.002701681305597073), (310, 0.008182974359175739), (311, 0.006360900429747984), (312, 0.01830498180414842), (313, 0.005363452325255393), (314, 0.0053393582397678035), (315, 0.001142285649566508), (316, 0.0043860274453290625), (317, 0.005507337627458139), (318, 0.0036701924327349846), (319, 0.004407211473143244), (320, 0.0057447373731191465), (321, 0.005396116485826203), (322, 0.005444965441086338), (323, 0.002547028164640559), (324, 0.0039154366899517914), (325, 0.007332188952047321), (326, 0.009794839654146795), (327, 0.003519023612243544), (328, 0.006001081413504837), (329, 0.0019702430266644736), (330, 0.0016578654801434308), (331, 0.01152092198962931), (332, 0.004427303700391261), (333, 0.005647899895511001), (334, 0.008547407802872772), (335, 0.001430805620446492), (336, 0.004809035330256305), (337, 0.0036937965361434487), (338, 0.0034055095585122626), (339, 0.00408578635943774), (340, 0.009614873672546174), (341, 0.004448299044578866), (342, 0.003914543720287642), (343, 0.002243760149653841), (344, 0.001914912457706382), (345, 0.008182974359175739), (346, 0.008547407802872772), (347, 0.013283321017333403), (348, 0.0028619033107426355), (349, 0.004051519738212587), (350, 0.007288599119230207), (351, 0.004649051605222933), (352, 0.016522012882374416), (353, 0.007825550980598507), (354, 0.0032150158784483283), (355, 0.0014184184517501144), (356, 0.004839649667085314), (357, 0.0020791276033980924), (358, 0.0057447373731191465), (359, 0.00350571866756186), (360, 0.002943031903678726), (361, 0.004382752430609285), (362, 0.006448421813075418), (363, 0.15547651282433905), (364, 0.0033500557471587153), (365, 0.0031580876699555177), (366, 0.01415029264521246), (367, 0.005214636832888472), (368, 0.004211082729635843), (369, 0.01549097872771297), (370, 0.006080950918593367), (371, 0.0010817441419454243), (372, 0.00684343784990431), (373, 0.0008003774812492754), (374, 0.003512173068302512), (375, 0.0020061378677397), (376, 0.00408578635943774), (377, 0.02568987303818755), (378, 0.0005867892404323927), (379, 0.0020394613172763885), (380, 0.0014509620653758266), (381, 0.0030121174608404807), (382, 0.0030186415857856143), (383, 0.01800762833446243), (384, 0.004999762097977605), (385, 0.003332216354610375), (386, 0.0050678619417051495), (387, 0.0017528164641826545), (388, 0.0024743753947583107), (389, 0.0023746006998078867), (390, 0.004708659716321085), (391, 0.006026096784932636), (392, 0.001475448868417369), (393, 0.0026227089919901823), (394, 0.013848331351066352), (395, 0.001434819052014318), (396, 0.008654557882652215), (397, 0.006620782587049607), (398, 0.0022769698632466775), (399, 0.00309686579254271), (400, 0.008422165459271685), (401, 0.0027927110545700224), (402, 0.004469539953913936), (403, 0.0068181612558070506), (404, 0.0024321391412356346), (405, 0.007288599119230207), (406, 0.001016761286518276), (407, 0.0020527234323273833), (408, 0.0064001595229316345), (409, 0.0023438638147372255), (410, 0.005724141262752696), (411, 0.0018834638865284341), (412, 0.01055292445004669), (413, 0.0019842571567262415), (414, 0.008002604853790653), (415, 0.010100428032754247), (416, 0.004512781926440756), (417, 0.008421116100180806), (418, 0.004067045146073104), (419, 0.010806725222388291), (420, 0.03595204439888536), (421, 0.001978827923847634), (422, 0.01024981882685219), (423, 0.004363127771476188), (424, 0.008313933993573776), (425, 0.0012624590909928717), (426, 0.005884426711536546), (427, 0.00684343784990431), (428, 0.00538037447943958), (429, 0.0025764389619959875), (430, 0.003861363354587472), (431, 0.0043360559156485606), (432, 0.0028619033107426355), (433, 0.0033208302543333507), (434, 0.012537736921184024), (435, 0.002247069483919548), (436, 0.008398098634810065), (437, 0.00684343784990431), (438, 0.017224748104173772), (439, 0.009003814167231216), (440, 0.006422468259546887), (441, 0.003137148552069322), (442, 0.0038584804485989783), (443, 0.02250750655984129), (444, 0.006243693502971199), (445, 0.0008117457627865559), (446, 0.006692010423908325), (447, 0.013532292622201405), (448, 0.0013969263530025126), (449, 0.008547407802872772), (450, 0.001751152253821348), (451, 0.003309515095951502), (452, 0.004192792589914898), (453, 0.017261129081925335), (454, 0.0015638501386419903), (455, 0.0041207119943852), (456, 0.002826977675795175), (457, 0.0017982818000922504), (458, 0.014551165724848582), (459, 0.007801301484625629), (460, 0.005293434560074579), (461, 0.016817513672837767), (462, 0.001804698492738471), (463, 0.0019514721627131905), (464, 0.001914912457706382), (465, 0.002196719568677923), (466, 0.006677584550936628), (467, 0.0059620768840167706), (468, 0.005665356991890611), (469, 0.003524828708683888), (470, 0.0024078618401841565), (471, 0.00583844762161848), (472, 0.0011768128691017807), (473, 0.001810697097059215), (474, 0.07009048696205063), (475, 0.008465222617448021), (476, 0.007879591270692174), (477, 0.020040239107797786), (478, 0.008480933027385526), (479, 0.00452586044281109), (480, 0.0047351911577006274), (481, 0.0030279548733429017), (482, 0.10610795415897316), (483, 0.010020119553898893), (484, 0.004448299044578866), (485, 0.003455209962267617), (486, 0.01395859376554476), (487, 0.008547407802872772), (488, 0.007509266020307637), (489, 0.010932131407052773), (490, 0.0029263283933824266), (491, 0.005094056329281118), (492, 0.013848331351066352), (493, 0.01127892823754146), (494, 0.00721436310977254), (495, 0.003828211797167457), (496, 0.0012555409960399186), (497, 0.004602482975599862), (498, 0.054947800471514215), (499, 0.007097256305261045), (500, 0.00227876447766055), (501, 0.0006198328414370046), (502, 0.03276121621858572), (503, 0.0035504076814724048), (504, 0.008560806232740449), (505, 0.009765496179851944), (506, 0.004325820482619179), (507, 0.010368228699978176), (508, 0.007619709113390548), (509, 0.004389492590073639), (510, 0.015005004373227528), (511, 0.006114337077722934), (512, 0.015829386675070032), (513, 0.0029647824008309496), (514, 0.0029615634628986963), (515, 0.006029790435587641), (516, 0.003168495016748696), (517, 0.009913456044108647), (518, 0.0023705713114367307), (519, 0.00840365185737016), (520, 0.0027507674570862234), (521, 0.0014388413726958654), (522, 0.006718729936511711), (523, 0.007392403202551786), (524, 0.012537736921184024), (525, 0.006710409957200028), (526, 0.0037368201560878654), (527, 0.008692541416574587), (528, 0.005287544548029857), (529, 0.007879591270692174), (530, 0.016712129977807216), (531, 0.0018230687676040005), (532, 0.005884426711536546), (533, 0.04864760734874694), (534, 0.004848273290748684), (535, 0.0046477988770706), (536, 0.00467279151249194), (537, 0.011204869143160214), (538, 0.003057168538861467), (539, 0.004534795251061585), (540, 0.0047459320162418495), (541, 0.006111315822905184), (542, 0.007480639900470805), (543, 0.001625269225491033), (544, 0.16215491999865214), (545, 0.00935113390194764), (546, 0.010038528949112238), (547, 0.005665356991890611), (548, 0.004406548308248046), (549, 0.0012479012812131797), (550, 0.010690000653924713), (551, 0.003057168538861467), (552, 0.0034998565277081827), (553, 0.001933259236568263), (554, 0.07297141102312041), (555, 0.010204183492210838), (556, 0.012537736921184024), (557, 0.0045575289553211), (558, 0.010058139196886636), (559, 0.0020394613172763885), (560, 0.003022411591722387), (561, 0.04452630300823588), (562, 0.015131167470060864), (563, 0.0027424937432527613), (564, 0.007622525858504642), (565, 0.023377663401199254), (566, 0.0029647824008309496), (567, 0.022177209607655356), (568, 0.007368005942234656), (569, 0.0034996050109090382), (570, 0.009496394931564765), (571, 0.011001691046224156), (572, 0.0014469128395169998), (573, 0.010542572362028395), (574, 0.00467279151249194), (575, 0.004661311846927107), (576, 0.003586553491241966), (577, 0.004232611308724011), (578, 0.0041302846233608375), (579, 0.00262870107359175), (580, 0.003521748516749884), (581, 0.007190408879777071), (582, 0.0015339023709274573), (583, 0.00805682916729792), (584, 0.016712129977807216), (585, 0.004174393056623196), (586, 0.01999872737027969), (587, 0.005980031787499316), (588, 0.005095151861797716), (589, 0.0011388687585391322), (590, 0.009295112827685475), (591, 0.0030678047418549147), (592, 0.021571226639331212), (593, 0.0041266820372893274), (594, 0.009491864032483699), (595, 0.005502117773433612), (596, 0.005706217463186114), (597, 0.003524828708683888), (598, 0.003889261029347385), (599, 0.0027260585447011253), (600, 0.044192450884256766), (601, 0.0035619010497118303), (602, 0.005491798921694807), (603, 0.002357168467981526), (604, 0.0066565998491814275), (605, 0.0043860274453290625), (606, 0.010542572362028395), (607, 0.008185247444869682), (608, 0.009614873672546174), (609, 0.022965034131324783), (610, 0.058521964287253064), (611, 0.0031860119391175228), (612, 0.002090621800282114), (613, 0.002614997400592631), (614, 0.0026460422086191926), (615, 0.0021671614959595533), (616, 0.019658916448234906), (617, 0.00398486722834369), (618, 0.005936483771542903), (619, 0.008547407802872772), (620, 0.003696237006614455), (621, 0.0056118289359253235), (622, 0.0020510164370763006), (623, 0.0006404703026703879), (624, 0.002384073805200353), (625, 0.008547407802872772), (626, 0.002674103590909497), (627, 0.005327380913766001), (628, 0.010020119553898893), (629, 0.001698383953932572), (630, 0.02528787191832784), (631, 0.00299920371276912), (632, 0.006447728009694942), (633, 0.004034625876432014), (634, 0.009331458733900668), (635, 0.005484987486505523), (636, 0.0011525750654498544), (637, 0.0032107312702713713), (638, 0.005072073260256677), (639, 0.004929001116377549), (640, 0.006924165675533176), (641, 0.005884426711536546), (642, 0.010020119553898893), (643, 0.008761310870256328), (644, 0.006187809800020113), (645, 0.0028012172857900535), (646, 0.01552141194761977), (647, 0.004929001116377549), (648, 0.009003814167231216), (649, 0.014625944503297048), (650, 0.0022533643846599466), (651, 0.0027432895701915787), (652, 0.002102189209104721), (653, 0.004809283881300213), (654, 0.0015296641495282615), (655, 0.007340384865469969), (656, 0.016188388010538395), (657, 0.008547407802872772), (658, 0.001475448868417369), (659, 0.006876074362220269), (660, 0.0013256656951777242), (661, 0.0010817441419454243), (662, 0.0061526020252154765), (663, 0.03006035866169668), (664, 0.002592057174994544), (665, 0.008529349062829622), (666, 0.002233738904029989), (667, 0.0044068049335483335), (668, 0.011930991256599516), (669, 0.0016075079392241641), (670, 0.003843283062462854), (671, 0.007745005483588651), (672, 0.002324087825724472), (673, 0.02720877150636951), (674, 0.00223454476499916), (675, 0.005904053728552865), (676, 0.009996649063831124), (677, 0.010265229535755522), (678, 0.005507337627458139), (679, 0.0026936277356568823), (680, 0.00449103224079046), (681, 0.001669396137734157), (682, 0.0027674288312462617), (683, 0.00697424666519857), (684, 0.01845635771078043), (685, 0.008668645983838213), (686, 0.0034380371811101344), (687, 0.0041563224891674275), (688, 0.006036640979528673), (689, 0.004169731216629465), (690, 0.004239359305837311), (691, 0.0033051037001612504), (692, 0.015906667503885166), (693, 0.003873806084235196), (694, 0.0026696791198839017), (695, 0.004016156614453975), (696, 0.008854607400782522), (697, 0.03383678471262438), (698, 0.017010370421202663), (699, 0.005918339021353522), (700, 0.005813053226659714), (701, 0.0030376406405435022), (702, 0.0016432059347072175), (703, 0.003309515095951502), (704, 0.006243693502971199), (705, 0.006678164806544812), (706, 0.426159314434084), (707, 0.0025103384916279115), (708, 0.0021373401847535676), (709, 0.0042611165683276294), (710, 0.007931244185753226), (711, 0.006029790435587641), (712, 0.006080950918593367), (713, 0.001914912457706382), (714, 0.007619709113390548), (715, 0.0028619033107426355), (716, 0.000875576126910674), (717, 0.02853553864110715), (718, 0.0015681689921526105), (719, 0.0116857729641391), (720, 0.005706217463186114), (721, 0.0014188182696937492), (722, 0.00299920371276912), (723, 0.0057071077282214305), (724, 0.0006718729936511711), (725, 0.0026382311125116723), (726, 0.017522621740512657), (727, 0.009283763678385832), (728, 0.017572318387123136), (729, 0.001430805620446492), (730, 0.008612374052086886), (731, 0.008069851649050544), (732, 0.00670363429499748), (733, 0.0030376406405435022), (734, 0.00222831464895672), (735, 0.0036701924327349846), (736, 0.002576923112035097), (737, 0.003424183913739314), (738, 0.003952436419299448), (739, 0.0027823034156480774), (740, 0.0041407758740782345), (741, 0.0012298666042534609), (742, 0.0012262810610446937), (743, 0.0013600404194443875), (744, 0.0010489620777295787), (745, 0.10219657115390943), (746, 0.008761310870256328), (747, 0.017780989440924776), (748, 0.011069715324985047), (749, 0.0034139828288493753), (750, 0.005123762421363103), (751, 0.004427303700391261), (752, 0.006114337077722934), (753, 0.00940201583033495), (754, 0.0038403073298764368), (755, 0.0024743753947583107), (756, 0.04034034321245204), (757, 0.01419451261052209), (758, 0.0016121054532688545), (759, 0.0014108704362413367), (760, 0.004661311846927107), (761, 0.008761310870256328), (762, 0.0026589062712878636), (763, 0.0031580876699555177), (764, 0.05280905802999461), (765, 0.002170110262189321), (766, 0.012267189037818442), (767, 0.006173719666193598), (768, 0.055702582070315), (769, 0.003914543720287642), (770, 0.00370634036247713), (771, 0.002862070631376348), (772, 0.008227481229758285), (773, 0.006786541757199084), (774, 0.010657171189689013), (775, 0.0031477396246054807), (776, 0.012972393599892171), (777, 0.001251529807985347), (778, 0.0028097635464808717), (779, 0.0027927110545700224), (780, 0.003462414420214187), (781, 0.012665655857036206), (782, 0.004781725772346872), (783, 0.0067923252151852265), (784, 0.010020119553898893), (785, 0.012972393599892171), (786, 0.02255785647508292), (787, 0.006867114439640712), (788, 0.0011629231107998913), (789, 0.0036701924327349846), (790, 0.0028012172857900535), (791, 0.0033500557471587153), (792, 0.002149210011618828), (793, 0.0070086496080755895), (794, 0.004494138967839096), (795, 0.0027123774339001326), (796, 0.0013833237774055942), (797, 0.001475448868417369), (798, 0.00850693895330636), (799, 0.002576923112035097), (800, 0.003778014489652983), (801, 0.004579638937975915), (802, 0.0009204198138250046), (803, 0.013927918684316446), (804, 0.012602703170398138), (805, 0.0015002703533762093), (806, 0.0036065496327857935), (807, 0.004920374441353353), (808, 0.001310594429882327), (809, 0.007423886338131609), (810, 0.001759511806121772), (811, 0.0020399115880359708), (812, 0.010531083162273884), (813, 0.001853170181238565), (814, 0.007131930028510839), (815, 0.028900446664170795), (816, 0.003627242365418383), (817, 0.0160646264578159), (818, 0.007918977286663718), (819, 0.007805888650852762), (820, 0.004474330670527367), (821, 0.0008667387515870092), (822, 0.003264946551382265), (823, 0.0019254100421108346), (824, 0.008774062605375216), (825, 0.006080950918593367), (826, 0.0023705713114367307), (827, 0.0332015253874077), (828, 0.006055909746685803), (829, 0.005471073674130701), (830, 0.028761635519108285), (831, 0.004365735870592357), (832, 0.012468967467502283), (833, 0.04310719207887505), (834, 0.01634314543775096), (835, 0.002701681305597073), (836, 0.01135120265374182), (837, 0.03595204439888536), (838, 0.0038646584429939813), (839, 0.0014454636555646053), (840, 0.002137120443294108), (841, 0.00784114920253292), (842, 0.0032982700009189536), (843, 0.004483292118692715), (844, 0.004696845864752699), (845, 0.006187809800020113), (846, 0.003168495016748696), (847, 0.0021373401847535676), (848, 0.0018131448246289851), (849, 0.02391776208138407), (850, 0.00322144562020032), (851, 0.011292612045489873), (852, 0.0009356171999611291), (853, 0.0015501121795478178), (854, 0.001877343996132592), (855, 0.0016342154359236692), (856, 0.0020527234323273833), (857, 0.0024078618401841565), (858, 0.0022097515192399113), (859, 0.005292967827165106), (860, 0.007011743585700126), (861, 0.002689096384692737), (862, 0.0037403199502354027), (863, 0.0004369745820800083), (864, 0.006055909746685803), (865, 0.02037622531712447), (866, 0.002011649486675223), (867, 0.010265229535755522), (868, 0.0014428726219545079), (869, 0.001914912457706382), (870, 0.002844356536121912), (871, 0.003535858917987975), (872, 0.03751251093306882), (873, 0.008902110357661178), (874, 0.006411361329882324), (875, 0.00392057460126646), (876, 0.004306187026043443), (877, 0.0016796197269620132), (878, 0.0010950244720234904), (879, 0.0051636595759043235), (880, 0.005813053226659714), (881, 0.0027927110545700224), (882, 0.007927739262396736), (883, 0.004769756033408721), (884, 0.0034148347345989275), (885, 0.006422468259546887), (886, 0.004192792589914898), (887, 0.0034747268541227816), (888, 0.0012155667111157457), (889, 0.00467279151249194), (890, 0.0024437969619757354), (891, 0.003264946551382265), (892, 0.02250750655984129), (893, 0.0042804031163702246), (894, 0.0026460422086191926), (895, 0.0021255474352295744), (896, 0.003189490360936301), (897, 0.004991605124852719), (898, 0.0034139828288493753), (899, 0.008547407802872772), (900, 0.005884426711536546), (901, 0.0015044404517534121), (902, 0.0027674288312462617), (903, 0.006551973134838039), (904, 0.0006639712681529428), (905, 0.014954654457985902), (906, 0.014120245186435182), (907, 0.014079538717638016), (908, 0.007444533799778514), (909, 0.0019254100421108346), (910, 0.0022777375170782645), (911, 0.011874434982696812), (912, 0.006378980721872602), (913, 0.007194839115794842), (914, 0.0037691471752704766), (915, 0.009491864032483699), (916, 0.0021913762153046427), (917, 0.0031277002772839807), (918, 0.005132614767877761), (919, 0.030476425693184355), (920, 0.005989127460253647), (921, 0.003462414420214187), (922, 0.005665356991890611), (923, 0.012698153459529791), (924, 0.004138429959753595), (925, 0.009003814167231216), (926, 0.0035094274267655897), (927, 0.0013639003083476173), (928, 0.003059867382053956), (929, 0.0021611579300118006), (930, 0.005928502382205114), (931, 0.005979440520346017), (932, 0.0006404703026703879), (933, 0.009114157369123037), (934, 0.009614873672546174), (935, 0.0016387051218822973), (936, 0.008657235731727048), (937, 0.017258703434022783), (938, 0.020969510878117232), (939, 0.007841076453101625), (940, 0.0030183204897643364), (941, 0.0019201536649382184), (942, 0.01415029264521246), (943, 0.005435792773875857), (944, 0.0022777375170782645), (945, 0.00372607613568607), (946, 0.00508039608705214), (947, 0.04436457792502425), (948, 0.0008231856560182302), (949, 0.003309515095951502), (950, 0.02186579735769062), (951, 0.0011286564895747382), (952, 0.004451055178830589), (953, 0.0028183502151738564), (954, 0.0018131448246289851), (955, 0.006610817209714865), (956, 0.004629414869069575), (957, 0.004034625876432014), (958, 0.010026970097839927), (959, 0.0011698547109908403), (960, 0.006924165675533176), (961, 0.003264946551382265), (962, 0.006851940359204237), (963, 0.001735647112578257), (964, 0.002197480681708861), (965, 0.003243065840368806), (966, 0.003563333551308237), (967, 0.00398773247707198), (968, 0.00398486722834369), (969, 0.007229532199310925), (970, 0.003168495016748696), (971, 0.003646700133347237), (972, 0.004557078684561519), (973, 0.0011457089814855875), (974, 0.10490302888361089), (975, 0.0015986920139249526), (976, 0.0015044404517534121), (977, 0.0021436944796419774), (978, 0.0042445200154018715), (979, 0.0024781707740165024), (980, 0.00458283592594235), (981, 0.027301291204820034), (982, 0.0013596184994838828), (983, 0.008216029673536088), (984, 0.0041207119943852), (985, 0.0011525750654498544), (986, 0.009522376022899307), (987, 0.003343674291957298), (988, 0.004448299044578866), (989, 0.0024743753947583107), (990, 0.00748054904248678), (991, 0.0035504076814724048), (992, 0.003519023612243544), (993, 0.001062003979705841), (994, 0.005468172325045382), (995, 0.007288599119230207), (996, 0.003943051610387625), (997, 0.005064467402515241), (998, 0.005276462225023345), (999, 0.006445184041555103), (1000, 0.003697919338411758), (1001, 0.004211082729635843), (1002, 0.01368687569980862), (1003, 0.002222105832497868), (1004, 0.0006172695706581627), (1005, 0.006360900429747984), (1006, 0.14821616768208823), (1007, 0.0027355368370653504), (1008, 0.004632417578849463), (1009, 0.02255785647508292), (1010, 0.004696845864752699), (1011, 0.01072905624149987), (1012, 0.009192201731357149), (1013, 0.020772497026599526), (1014, 0.005469891413278408), (1015, 0.004848273290748684), (1016, 0.009283763678385832), (1017, 0.002488559979586629), (1018, 0.00235723927865865), (1019, 0.025075473842368048), (1020, 0.008839006076959645), (1021, 0.002258522409097975), (1022, 0.004158255206796185), (1023, 0.004488329425492068), (1024, 0.0034996050109090382), (1025, 0.14577198238460415), (1026, 0.007619709113390548), (1027, 0.0010014062449584138), (1028, 0.005408720709727121), (1029, 0.00393178328964698), (1030, 0.016712129977807216), (1031, 0.0035409059133798848), (1032, 0.0033208302543333507), (1033, 0.009003814167231216), (1034, 0.0023397094219816806), (1035, 0.002117469426429654), (1036, 0.0034139828288493753), (1037, 0.004051519738212587), (1038, 0.002677626953336314), (1039, 0.006827965657698751), (1040, 0.0020848656083147323), (1041, 0.011582426493625987), (1042, 0.003057168538861467), (1043, 0.004124043141381571), (1044, 0.005749840924433025), (1045, 0.002592057174994544), (1046, 0.015208111242880925), (1047, 0.009003814167231216), (1048, 0.001314350536795875), (1049, 0.0037119431690658044), (1050, 0.01127892823754146), (1051, 0.00309686579254271), (1052, 0.0009417319432642171), (1053, 0.005931600196134505), (1054, 0.006422468259546887), (1055, 0.0016387051218822973), (1056, 0.004045446323011425), (1057, 0.009003814167231216), (1058, 0.03753381732384929), (1059, 0.003188600095900984), (1060, 0.007745005483588651), (1061, 0.008356064988903608), (1062, 0.013663458106401651), (1063, 0.012053663161984016), (1064, 0.0037778618819258314), (1065, 0.003563333551308237), (1066, 0.005545572240628031), (1067, 0.002215918170480217), (1068, 0.012537736921184024), (1069, 0.005713425613739585), (1070, 0.005675273078774997), (1071, 0.04371458986611502), (1072, 0.00462561802789398), (1073, 0.0020791276033980924), (1074, 0.008148684109757573), (1075, 0.002011649486675223), (1076, 0.004017887720661339), (1077, 0.0082414239887704), (1078, 0.007502502186613764), (1079, 0.007567468435827881), (1080, 0.06704309930870905), (1081, 0.005980031787499316), (1082, 0.005064467402515241), (1083, 0.010020119553898893), (1084, 0.006620782587049607), (1085, 0.010020119553898893), (1086, 0.001768913433910807), (1087, 0.022271659014394825), (1088, 0.004001302426895326), (1089, 0.0027404776812978353), (1090, 0.002357168467981526), (1091, 0.004023298973350446), (1092, 0.01127892823754146), (1093, 0.00583844762161848), (1094, 0.005948433139314919), (1095, 0.01813918100424634), (1096, 0.007288599119230207), (1097, 0.007502502186613764), (1098, 0.001395078362424741), (1099, 0.003945399602139777), (1100, 0.003656486125824262), (1101, 0.0028975138055248625), (1102, 0.01127892823754146), (1103, 0.004174393056623196), (1104, 0.010520222221075782), (1105, 0.008326113934715043), (1106, 0.003057168538861467), (1107, 0.0022097515192399113), (1108, 0.008019742142559428), (1109, 0.05215243580134817), (1110, 0.0010718472398209887), (1111, 0.0033151465253753224), (1112, 0.0013031054417633272), (1113, 0.0037837342179139403), (1114, 0.005245417983980365), (1115, 0.002137120443294108), (1116, 0.0047459320162418495), (1117, 0.0018940975932252929), (1118, 0.0028183502151738564), (1119, 0.0037546763652773984), (1120, 0.008547407802872772), (1121, 0.012537736921184024), (1122, 0.004648175651448944), (1123, 0.004579638937975915), (1124, 0.004763238714478989), (1125, 0.30246487608955536), (1126, 0.0032870941069093455), (1127, 0.002576923112035097), (1128, 0.004687727629474451), (1129, 0.007850547746231019), (1130, 0.024548829588657527), (1131, 0.014577921864903155), (1132, 0.01346226138732832), (1133, 0.0009143762906260579), (1134, 0.0035576639138018744), (1135, 0.003345386553810373), (1136, 0.010710507813345257), (1137, 0.015397844303633284), (1138, 0.012717301435946037), (1139, 0.0012882194809979938), (1140, 0.009298103210445866), (1141, 0.005931600196134505), (1142, 0.001068560221647054), (1143, 0.0038132645766141117), (1144, 0.0017276049811338085), (1145, 0.0037119431690658044), (1146, 0.01127892823754146), (1147, 0.005164432166535895), (1148, 0.0018671992056438571), (1149, 0.005989243728736758), (1150, 0.0031901859816575837), (1151, 0.002183390547882345), (1152, 0.001036013166932495), (1153, 0.0008579441724374304), (1154, 0.056174684963202874), (1155, 0.0022100976835835486), (1156, 0.0070086496080755895), (1157, 0.04008047821559557), (1158, 0.002197480681708861), (1159, 0.0030183204897643364), (1160, 0.01731587902931038), (1161, 0.004916115365646892), (1162, 0.06653162882296607), (1163, 0.027333956245832305), (1164, 0.007619709113390548), (1165, 0.003232223557147895), (1166, 0.003889262152380919), (1167, 0.005013485048919963), (1168, 0.00869759013368763), (1169, 0.06552243243717144), (1170, 0.004956728022054323), (1171, 0.008182974359175739), (1172, 0.004351161902764854), (1173, 0.007778524304761838), (1174, 0.0008844567169554035), (1175, 0.0031190830630625833), (1176, 0.015759182541384347), (1177, 0.025599208825097215), (1178, 0.0021195502393243394), (1179, 0.016365948718351477), (1180, 0.006924828840428374), (1181, 0.021251525191359918), (1182, 0.0010231559306087103), (1183, 0.023714618515796686), (1184, 0.0019897026691880638), (1185, 0.003952436419299448), (1186, 0.0034380371811101344), (1187, 0.02108514472405679), (1188, 0.0016751752226297687), (1189, 0.0028012172857900535), (1190, 0.004192645240864487), (1191, 0.0025996717649564133), (1192, 0.005355253906672628), (1193, 0.006100567719109656), (1194, 0.0029615634628986963), (1195, 0.016053656351356856), (1196, 0.00440174958317568), (1197, 0.006991967770390661), (1198, 0.001964478320846106), (1199, 0.01127892823754146), (1200, 0.0013649247883613755), (1201, 0.006429796201793905), (1202, 0.005780089332834158), (1203, 0.002720080838888775), (1204, 0.008811660785497954), (1205, 0.00707514632260623), (1206, 0.002495867681634834), (1207, 0.007879591270692174), (1208, 0.01127892823754146), (1209, 0.005545572240628031), (1210, 0.005463472625274199), (1211, 0.004649051605222933), (1212, 0.014872367615511124), (1213, 0.0007553004156833203), (1214, 0.008631626485988256), (1215, 0.0034139828288493753), (1216, 0.01368687569980862), (1217, 0.025075473842368048), (1218, 0.002409830404620382), (1219, 0.006255400554567961), (1220, 0.0031798373556058135), (1221, 0.006152119236926811), (1222, 0.005931600196134505), (1223, 0.009443218873816443), (1224, 0.010542572362028395), (1225, 0.0028707406860663), (1226, 0.002360603942253256), (1227, 0.0031639299018561507), (1228, 0.007502502186613764), (1229, 0.024406377280997683), (1230, 0.009614873672546174), (1231, 0.006153817402202101), (1232, 0.005665356991890611), (1233, 0.01338402084781665), (1234, 0.0014878172048407151), (1235, 0.015339023709274573), (1236, 0.002547028164640559), (1237, 0.0043860274453290625), (1238, 0.01127892823754146), (1239, 0.002090621800282114), (1240, 0.0038584804485989783), (1241, 0.0014878172048407151), (1242, 0.019458590399838258), (1243, 0.010058247433376116), (1244, 0.006429796201793905), (1245, 0.0032982700009189536), (1246, 0.004239359305837311), (1247, 0.01127892823754146), (1248, 0.007976718813863592), (1249, 0.003153675268252444), (1250, 0.005822691816476843), (1251, 0.003136337984305221), (1252, 0.035045243481025314), (1253, 0.004856420111354844), (1254, 0.005884426711536546), (1255, 0.0034380371811101344), (1256, 0.005072073260256677), (1257, 0.013241565174099214), (1258, 0.003861363354587472), (1259, 0.0024743753947583107), (1260, 0.002495867681634834), (1261, 0.00382036363692796), (1262, 0.0021913762153046427), (1263, 0.01950351459389072), (1264, 0.03761321076355207), (1265, 0.0016342154359236692), (1266, 0.003017240295207394), (1267, 0.006243693502971199), (1268, 0.002272381071983595), (1269, 0.00583844762161848), (1270, 0.006289992563655032), (1271, 0.0038132645766141117), (1272, 0.004929001116377549), (1273, 0.012972393599892171), (1274, 0.005323531835247791), (1275, 0.0027674288312462617), (1276, 0.0034996050109090382), (1277, 0.004144663700358577), (1278, 0.0049194664170138435), (1279, 0.0020227231615057126), (1280, 0.002176744335432044), (1281, 0.002446109033546508), (1282, 0.004696845864752699), (1283, 0.027306153164643923), (1284, 0.010129052917140875), (1285, 0.01190573829798287), (1286, 0.0016796197269620132), (1287, 0.004984884819328635), (1288, 0.045718254680343295), (1289, 0.0032019081759663464), (1290, 0.0015212172643221675), (1291, 0.002384073805200353), (1292, 0.005260111110537891), (1293, 0.016712129977807216), (1294, 0.0018582359503399816), (1295, 0.0020399115880359708), (1296, 0.008182974359175739), (1297, 0.0009053485485296075), (1298, 0.0031729829125896453), (1299, 0.00981024848835755), (1300, 0.0021792284974675694), (1301, 0.008547407802872772), (1302, 0.009003814167231216), (1303, 0.0016297368219515143), (1304, 0.013269435230336529), (1305, 0.006421462540542743), (1306, 0.017522621740512657), (1307, 0.009003814167231216), (1308, 0.026517366305154097), (1309, 0.003889262152380919), (1310, 0.0025616440165267857), (1311, 0.0022533643846599466), (1312, 0.004770981751945076), (1313, 0.015432529573794639), (1314, 0.0022596811807513413), (1315, 0.03418963121149109), (1316, 0.0038584804485989783), (1317, 0.005327380913766001), (1318, 0.12392008773741842), (1319, 0.001508620147603697), (1320, 0.0509565933673441), (1321, 0.0024251942874747635), (1322, 0.0154877492746048), (1323, 0.2194692072569767), (1324, 0.006692010423908325), (1325, 0.006483473790035401), (1326, 0.0052609069374767075), (1327, 0.0040340471475041155), (1328, 0.0070086496080755895), (1329, 0.007190408879777071), (1330, 0.008459418648309572), (1331, 0.0019327978074861398), (1332, 0.009913456044108647), (1333, 0.0027123774339001326), (1334, 0.004848273290748684), (1335, 0.0024523701047926613), (1336, 0.010939782826556816), (1337, 0.001475448868417369), (1338, 0.04164603323236194), (1339, 0.007144858071718484), (1340, 0.02374593508617161), (1341, 0.01617715726821472), (1342, 0.008535091262278442), (1343, 0.003462414420214187), (1344, 0.004101412824617874), (1345, 0.007126667102616474), (1346, 0.010542572362028395), (1347, 0.002653887046067306), (1348, 0.004566838334876877), (1349, 0.4062390811104629), (1350, 0.052016931549639246), (1351, 0.005980031787499316), (1352, 0.004138429959753595), (1353, 0.01263324818890753), (1354, 0.0057071077282214305), (1355, 0.0026617659176238957), (1356, 0.01864823700478491), (1357, 0.001740395029126555), (1358, 0.0013068460755169375), (1359, 0.002666405433873078), (1360, 0.01333202716936539), (1361, 0.004534795251061585), (1362, 0.003069467791826131), (1363, 0.0024045176651281523), (1364, 0.049680794136827314), (1365, 0.0034747268541227816), (1366, 0.1996978298056579), (1367, 0.02255785647508292), (1368, 0.005884426711536546), (1369, 0.005138067912376442), (1370, 0.004306187026043443), (1371, 0.0013702388406489176), (1372, 0.006858223925478947), (1373, 0.016425367080352356), (1374, 0.0026696791198839017), (1375, 0.004849100607621504), (1376, 0.0004323417299621649), (1377, 0.014680769730939939), (1378, 0.012563185748659908), (1379, 0.0026002162547610276), (1380, 0.0034887693323996743), (1381, 0.005584629166261745), (1382, 0.0020677056975386037), (1383, 0.009283763678385832), (1384, 0.0038584804485989783), (1385, 0.0035199913727792086), (1386, 0.004627225806442466), (1387, 0.007500829026616149), (1388, 0.005891925861743452), (1389, 0.007190408879777071), (1390, 0.010020119553898893), (1391, 0.04273703901436386), (1392, 0.01654757547975751), (1393, 0.0023419579009014706), (1394, 0.17492637886152496), (1395, 0.0022172789787129224), (1396, 0.011004323246552459), (1397, 0.015005004373227528), (1398, 0.014410689993519162), (1399, 0.005980031787499316), (1400, 0.008129312247055175), (1401, 0.003117044633982547), (1402, 0.008547407802872772), (1403, 0.00227876447766055), (1404, 0.006470635069544863), (1405, 0.010710507813345257), (1406, 0.016085921710221125), (1407, 0.022625135378645213), (1408, 0.002635594503333009), (1409, 0.006957865702019786), (1410, 0.0025103384916279115), (1411, 0.004444211664995736), (1412, 0.002304524867665672), (1413, 0.0016030946271000709), (1414, 0.002311022466887817), (1415, 0.004934534904087009), (1416, 0.004365735870592357), (1417, 0.005006177346871758), (1418, 0.004192645240864487), (1419, 0.012073281959057346), (1420, 0.010586869120149158), (1421, 0.00408578635943774), (1422, 0.003304482325049), (1423, 0.017462943482369427), (1424, 0.0054332017402657605), (1425, 0.001375529443358403), (1426, 0.0035504076814724048), (1427, 0.032731897436702954), (1428, 0.002357168467981526), (1429, 0.00676009315397984), (1430, 0.00788610322077525), (1431, 0.00984008954758811), (1432, 0.005777091011188159), (1433, 0.007879591270692174), (1434, 0.008535091262278442), (1435, 0.00827685991950719), (1436, 0.010481981474787246), (1437, 0.0032107312702713713), (1438, 0.010020119553898893), (1439, 0.002869638104028636), (1440, 0.006237382810194277), (1441, 0.004124043141381571), (1442, 0.010557070836730631), (1443, 0.0010751402181399339), (1444, 0.0034655695149312105), (1445, 0.006422468259546887), (1446, 0.022182288962512123), (1447, 0.017682587331465806), (1448, 0.004174393056623196), (1449, 0.005904548091986556), (1450, 0.001251529807985347), (1451, 0.012304783796332912), (1452, 0.0064861967999460856), (1453, 0.0024251942874747635), (1454, 0.002924687535125072), (1455, 0.003811733457496367), (1456, 0.009696546581497368), (1457, 0.005884426711536546), (1458, 0.02222855975607626), (1459, 0.0017987097789487106), (1460, 0.0024813318098565987), (1461, 0.005507337627458139), (1462, 0.009671592014542412), (1463, 0.03524793040645277), (1464, 0.006924165675533176), (1465, 0.004822142234950802), (1466, 0.002011649486675223), (1467, 0.0008844567169554035), (1468, 0.005706217463186114), (1469, 0.008193525609411487), (1470, 0.005794986536707548), (1471, 0.0023505039575837374), (1472, 0.008651640965238358), (1473, 0.004512781926440756), (1474, 0.004174393056623196), (1475, 0.009003814167231216), (1476, 0.013467237377005663), (1477, 0.0020227231615057126), (1478, 0.006187809800020113), (1479, 0.001426801038790075), (1480, 0.007111713934310193), (1481, 0.008283778324425041), (1482, 0.0031580876699555177), (1483, 0.006501076901964132), (1484, 0.01127892823754146), (1485, 0.0028097635464808717), (1486, 0.004286763556985466), (1487, 0.002677626953336314), (1488, 0.03761321076355207), (1489, 0.00449103224079046), (1490, 0.008761310870256328), (1491, 0.0027674288312462617), (1492, 0.0011837977894251569), (1493, 0.0024597332085069218), (1494, 0.009729197521106419), (1495, 0.0016075079392241641), (1496, 0.0036573934265463396), (1497, 0.00948712512806598), (1498, 0.004650336538643453), (1499, 0.006187809800020113), (1500, 0.004984884819328635), (1501, 0.03842871188108838), (1502, 0.0008117457627865559), (1503, 0.05908341389351807), (1504, 0.002176744335432044), (1505, 0.006080950918593367), (1506, 0.015906667503885166), (1507, 0.00277581719278945), (1508, 0.003250538450982066), (1509, 0.0020921955334895956), (1510, 0.012537736921184024), (1511, 0.0019359686593256), (1512, 0.028296346359341265), (1513, 0.0017547137133827949), (1514, 0.005006119231941388), (1515, 0.017385082833149174), (1516, 0.00707514632260623), (1517, 0.0034747268541227816), (1518, 0.004956728022054323), (1519, 0.004365735870592357), (1520, 0.0031789623485807836), (1521, 0.010643895696689103), (1522, 0.007190408879777071), (1523, 0.01825456880940103), (1524, 0.002561914125405892), (1525, 0.0010008724971087765), (1526, 0.002943031903678726), (1527, 0.0027424937432527613), (1528, 0.0019897026691880638), (1529, 0.0010040391536134936), (1530, 0.007747612168470392), (1531, 0.0012734545456426535), (1532, 0.002853108731593057), (1533, 0.01263324818890753), (1534, 0.00223454476499916), (1535, 0.0019998040754048083), (1536, 0.002943031903678726), (1537, 0.002384073805200353), (1538, 0.006620782587049607), (1539, 0.002357168467981526), (1540, 0.0015509548628383067), (1541, 0.0023175433968573916), (1542, 0.003946829747010661), (1543, 0.0034996050109090382), (1544, 0.008854607400782522), (1545, 0.005624544554234922), (1546, 0.008422165459271685), (1547, 0.00362139419411843), (1548, 0.002096396294957449), (1549, 0.0038403073298764368), (1550, 0.0025838590955074383), (1551, 0.010678716479535607), (1552, 0.0008844567169554035), (1553, 0.013174449738233588), (1554, 0.006080950918593367), (1555, 0.01762414354341944), (1556, 0.007392403202551786), (1557, 0.004407211473143244), (1558, 0.0032982700009189536), (1559, 0.0021196796529186555), (1560, 0.004770981751945076), (1561, 0.0019639752872478173), (1562, 0.02694619344474276), (1563, 0.0022660200250413233), (1564, 0.004124043141381571), (1565, 0.006029790435587641), (1566, 0.0064861967999460856), (1567, 0.0034371269444567623), (1568, 0.007509178847912081), (1569, 0.004229709324154786), (1570, 0.006316175339911035), (1571, 0.0015509548628383067), (1572, 0.0023638575254343393), (1573, 0.005675273078774997), (1574, 0.0064861967999460856), (1575, 0.03403586791124088), (1576, 0.0025826129078282724), (1577, 0.0018834638865284341), (1578, 0.0012120092622890416), (1579, 0.0013370517954547484), (1580, 0.01684223220036161), (1581, 0.004972778505086909), (1582, 0.03761321076355207), (1583, 0.003563333551308237), (1584, 0.009204965951199724), (1585, 0.002300080437719635), (1586, 0.0034903107821595528), (1587, 0.004703110955558198), (1588, 0.008069251752864028), (1589, 0.002592057174994544), (1590, 0.0036575051625042316), (1591, 0.006827965657698751), (1592, 0.004602482975599862), (1593, 0.004822142234950802), (1594, 0.02643498235649386), (1595, 0.003168495016748696), (1596, 0.005013485048919963), (1597, 0.015490010967177302), (1598, 0.00619373158508542), (1599, 0.010217823571886187), (1600, 0.01636680370017141), (1601, 0.010328142078921581), (1602, 0.008356064988903608), (1603, 0.010928647466528755), (1604, 0.03601525666892486), (1605, 0.03160955761472261), (1606, 0.001479562294967155), (1607, 0.001757063002222006), (1608, 0.011768853423073091), (1609, 0.0032107312702713713), (1610, 0.004353488670864088), (1611, 0.0020620215706907857), (1612, 0.0018684100780439327), (1613, 0.0015254357959410168), (1614, 0.005227388116303521), (1615, 0.009442446207713503), (1616, 0.03403706444183777), (1617, 0.02280748438064591), (1618, 0.004627225806442466), (1619, 0.005886063807357452), (1620, 0.006055909746685803), (1621, 0.05615302612756034), (1622, 0.0013523451662131472), (1623, 0.001475448868417369), (1624, 0.08999271286775876), (1625, 0.006692010423908325), (1626, 0.011330713983781222), (1627, 0.005545572240628031), (1628, 0.004815723680368313), (1629, 0.007747612168470392), (1630, 0.0018684100780439327), (1631, 0.009003814167231216), (1632, 0.0016934653623507136), (1633, 0.035079399624694155), (1634, 0.00048158634548399015), (1635, 0.007879591270692174), (1636, 0.009632193810814114), (1637, 0.011935606442041264), (1638, 0.0032774102437645946), (1639, 0.004835796007271206), (1640, 0.008896598089157732), (1641, 0.004984884819328635), (1642, 0.013344897133736598), (1643, 0.0014919587734436583), (1644, 0.004407458462746618), (1645, 0.005102091746105419), (1646, 0.008535091262278442), (1647, 0.00584715188436399), (1648, 0.009260579499290397), (1649, 0.0033784883365612205), (1650, 0.001688838411961702), (1651, 0.003243065840368806), (1652, 0.0033784883365612205), (1653, 0.009283763678385832), (1654, 0.002481511266592838), (1655, 0.0033784883365612205), (1656, 0.007972081309773926), (1657, 0.010580795498648526), (1658, 0.0020591463413231967), (1659, 0.005584629166261745), (1660, 0.0034501848989472077), (1661, 0.007190408879777071), (1662, 0.010213613923067546), (1663, 0.0021092866012374337), (1664, 0.04257611568370573), (1665, 0.017250924494736038), (1666, 0.005138067912376442), (1667, 0.005825353506137385), (1668, 0.017094815605745543), (1669, 0.0014388413726958654), (1670, 0.007097256305261045), (1671, 0.01127892823754146), (1672, 0.0029673701192203927), (1673, 0.007872871273957756), (1674, 0.005132614767877761), (1675, 0.0043860274453290625), (1676, 0.0034139828288493753), (1677, 0.0016934653623507136), (1678, 0.001039241749196722), (1679, 0.007999490948111877), (1680, 0.008761310870256328), (1681, 0.16215491999865214), (1682, 0.016873633662704765), (1683, 0.003373522101848625)]\n"
     ]
    }
   ],
   "source": [
    "# Convert document texts to TFIDF\n",
    "corpus_tfidf = tfidf[corpus]\n",
    "print(corpus_tfidf[0])"
   ]
  },
  {
   "cell_type": "code",
   "execution_count": 159,
   "metadata": {
    "collapsed": true
   },
   "outputs": [],
   "source": [
    "# Extract LDA topics, using 1 pass and updating once every 1 chunk (1000 documents)\n",
    "lda = models.ldamodel.LdaModel(corpus=corpus, id2word=dictionary, num_topics=20, update_every=1, chunksize=100, passes=5)"
   ]
  },
  {
   "cell_type": "code",
   "execution_count": 160,
   "metadata": {},
   "outputs": [
    {
     "data": {
      "text/plain": [
       "[(15,\n",
       "  '0.023*\"million\" + 0.021*\"development\" + 0.014*\"research\" + 0.012*\"expenses\" + 0.011*\"costs\" + 0.011*\"december\" + 0.009*\"stock\" + 0.009*\"ended\" + 0.009*\"cash\" + 0.009*\"revenue\"'),\n",
       " (18,\n",
       "  '0.012*\"dna\" + 0.011*\"vaccine\" + 0.009*\"vaccines\" + 0.009*\"electroporation\" + 0.006*\"delivery\" + 0.006*\"inovio\" + 0.006*\"sequencing\" + 0.006*\"development\" + 0.006*\"based\" + 0.005*\"against\"'),\n",
       " (5,\n",
       "  '0.013*\"agreement\" + 0.013*\"license\" + 0.011*\"development\" + 0.010*\"product\" + 0.008*\"technology\" + 0.007*\"clinical\" + 0.007*\"antibody\" + 0.007*\"rnai\" + 0.007*\"patent\" + 0.006*\"therapeutic\"'),\n",
       " (3,\n",
       "  '0.023*\"drug\" + 0.016*\"ach\" + 0.012*\"development\" + 0.011*\"muscle\" + 0.011*\"amgen\" + 0.011*\"mecarbil\" + 0.010*\"omecamtiv\" + 0.009*\"candidates\" + 0.008*\"gilead\" + 0.008*\"ck\"'),\n",
       " (8,\n",
       "  '0.029*\"million\" + 0.016*\"december\" + 0.014*\"notes\" + 0.012*\"sales\" + 0.010*\"assets\" + 0.010*\"net\" + 0.010*\"cash\" + 0.010*\"interest\" + 0.009*\"year\" + 0.009*\"based\"'),\n",
       " (13,\n",
       "  '0.042*\"drug\" + 0.017*\"king\" + 0.016*\"remoxy\" + 0.015*\"clinical\" + 0.014*\"candidates\" + 0.012*\"fda\" + 0.012*\"pfizer\" + 0.009*\"development\" + 0.009*\"drugs\" + 0.008*\"nktr\"'),\n",
       " (7,\n",
       "  '0.015*\"product\" + 0.013*\"fda\" + 0.011*\"products\" + 0.010*\"approval\" + 0.010*\"patients\" + 0.009*\"states\" + 0.008*\"drug\" + 0.008*\"united\" + 0.007*\"treatment\" + 0.007*\"cancer\"'),\n",
       " (2,\n",
       "  '0.014*\"patients\" + 0.009*\"cdx\" + 0.009*\"phase\" + 0.008*\"study\" + 0.008*\"cancer\" + 0.007*\"product\" + 0.006*\"development\" + 0.006*\"technology\" + 0.006*\"has\" + 0.005*\"unidym\"'),\n",
       " (6,\n",
       "  '0.018*\"could\" + 0.015*\"products\" + 0.010*\"business\" + 0.009*\"regulatory\" + 0.009*\"product\" + 0.008*\"will\" + 0.007*\"third\" + 0.006*\"approval\" + 0.006*\"stock\" + 0.006*\"result\"'),\n",
       " (0,\n",
       "  '0.011*\"drug\" + 0.011*\"qsymia\" + 0.010*\"product\" + 0.009*\"products\" + 0.008*\"patent\" + 0.008*\"will\" + 0.005*\"drugs\" + 0.005*\"fda\" + 0.005*\"patents\" + 0.005*\"stendra\"')]"
      ]
     },
     "execution_count": 160,
     "metadata": {},
     "output_type": "execute_result"
    }
   ],
   "source": [
    "lda.print_topics(10)"
   ]
  },
  {
   "cell_type": "code",
   "execution_count": 161,
   "metadata": {
    "collapsed": true
   },
   "outputs": [],
   "source": [
    "# Create index using LDA document projections\n",
    "corpus_lda = lda[corpus]\n",
    "index_lda = similarities.docsim.Similarity('index_lda.dat', corpus_lda, num_features=100)"
   ]
  },
  {
   "cell_type": "code",
   "execution_count": 162,
   "metadata": {},
   "outputs": [
    {
     "name": "stdout",
     "output_type": "stream",
     "text": [
      "Similarity index with 996 documents in 0 shards (stored under index_lda.dat)\n"
     ]
    }
   ],
   "source": [
    "print(index_lda)"
   ]
  },
  {
   "cell_type": "code",
   "execution_count": 163,
   "metadata": {},
   "outputs": [
    {
     "data": {
      "text/plain": [
       "[(1, 0.9999997615814209),\n",
       " (2, 0.97441738843917847),\n",
       " (3, 0.95716357231140137),\n",
       " (4, 0.93029320240020752),\n",
       " (5, 0.91589397192001343),\n",
       " (6, 0.90863794088363647),\n",
       " (7, 0.90827977657318115),\n",
       " (8, 0.89623022079467773),\n",
       " (0, 0.87198424339294434),\n",
       " (44, 0.79476922750473022),\n",
       " (43, 0.75726127624511719),\n",
       " (143, 0.67256861925125122),\n",
       " (151, 0.6539844274520874),\n",
       " (253, 0.61475139856338501),\n",
       " (149, 0.6128806471824646),\n",
       " (150, 0.60356354713439941),\n",
       " (260, 0.60280239582061768),\n",
       " (255, 0.60185325145721436),\n",
       " (259, 0.59907078742980957),\n",
       " (258, 0.59543067216873169)]"
      ]
     },
     "execution_count": 163,
     "metadata": {},
     "output_type": "execute_result"
    }
   ],
   "source": [
    "# Return top 5 similar documents\n",
    "index_lda.num_best = 20\n",
    "index_lda[corpus_lda[1]]"
   ]
  },
  {
   "cell_type": "code",
   "execution_count": 164,
   "metadata": {},
   "outputs": [
    {
     "name": "stdout",
     "output_type": "stream",
     "text": [
      "[(0, 0.032222186356094869), (2, 0.036922126673297459), (5, 0.015798027459770405), (7, 0.10403722458416195), (12, 0.014976144565672443), (14, 0.12430606284687457), (15, 0.020305576910233464), (16, 0.023882866043905392), (19, 0.60380625092794671)]\n"
     ]
    }
   ],
   "source": [
    "print(corpus_lda[171])"
   ]
  },
  {
   "cell_type": "code",
   "execution_count": 165,
   "metadata": {},
   "outputs": [
    {
     "name": "stdout",
     "output_type": "stream",
     "text": [
      "[(0, 0.013957118146018414), (6, 0.083099643388323888), (10, 0.03353514381146544), (14, 0.044646513387055178), (15, 0.01276459846493295), (18, 0.2966854331363058), (19, 0.50602145341161353)]\n"
     ]
    }
   ],
   "source": [
    "print(corpus_lda[128])"
   ]
  },
  {
   "cell_type": "code",
   "execution_count": 166,
   "metadata": {
    "collapsed": true
   },
   "outputs": [],
   "source": [
    "# Create index using TFIDF document weights\n",
    "index_tfidf = similarities.docsim.Similarity('index_tfidf.dat', corpus_tfidf, num_features=len(dictionary))"
   ]
  },
  {
   "cell_type": "code",
   "execution_count": 167,
   "metadata": {},
   "outputs": [
    {
     "data": {
      "text/plain": [
       "[(0, 0.99999922513961792),\n",
       " (8, 0.86761742830276489),\n",
       " (4, 0.70173543691635132),\n",
       " (5, 0.70086997747421265),\n",
       " (6, 0.70060157775878906)]"
      ]
     },
     "execution_count": 167,
     "metadata": {},
     "output_type": "execute_result"
    }
   ],
   "source": [
    "# Return top 5 similar documents\n",
    "index_tfidf.num_best = 5\n",
    "index_tfidf[corpus_tfidf[0]]"
   ]
  },
  {
   "cell_type": "code",
   "execution_count": 168,
   "metadata": {},
   "outputs": [
    {
     "ename": "NameError",
     "evalue": "name 'documents' is not defined",
     "output_type": "error",
     "traceback": [
      "\u001b[1;31m---------------------------------------------------------------------------\u001b[0m",
      "\u001b[1;31mNameError\u001b[0m                                 Traceback (most recent call last)",
      "\u001b[1;32m<ipython-input-168-b847cda4958b>\u001b[0m in \u001b[0;36m<module>\u001b[1;34m()\u001b[0m\n\u001b[1;32m----> 1\u001b[1;33m \u001b[0mprint\u001b[0m\u001b[1;33m(\u001b[0m\u001b[0mdocuments\u001b[0m\u001b[1;33m[\u001b[0m\u001b[1;36m172\u001b[0m\u001b[1;33m]\u001b[0m\u001b[1;33m)\u001b[0m\u001b[1;33m\u001b[0m\u001b[0m\n\u001b[0m",
      "\u001b[1;31mNameError\u001b[0m: name 'documents' is not defined"
     ]
    }
   ],
   "source": [
    "print(documents[172])"
   ]
  },
  {
   "cell_type": "code",
   "execution_count": null,
   "metadata": {
    "collapsed": true
   },
   "outputs": [],
   "source": [
    "print(documents[173])"
   ]
  }
 ],
 "metadata": {
  "kernelspec": {
   "display_name": "Python 3",
   "language": "python",
   "name": "python3"
  },
  "language_info": {
   "codemirror_mode": {
    "name": "ipython",
    "version": 3
   },
   "file_extension": ".py",
   "mimetype": "text/x-python",
   "name": "python",
   "nbconvert_exporter": "python",
   "pygments_lexer": "ipython3",
   "version": "3.6.3"
  }
 },
 "nbformat": 4,
 "nbformat_minor": 2
}
