{
 "cells": [
  {
   "cell_type": "markdown",
   "metadata": {},
   "source": [
    "# Text Exploration"
   ]
  },
  {
   "cell_type": "code",
   "execution_count": 1,
   "metadata": {},
   "outputs": [
    {
     "name": "stdout",
     "output_type": "stream",
     "text": [
      "3.6.3 |Anaconda custom (64-bit)| (default, Oct 15 2017, 03:27:45) [MSC v.1900 64 bit (AMD64)]\n"
     ]
    }
   ],
   "source": [
    "import sys\n",
    "print(sys.version)"
   ]
  },
  {
   "cell_type": "code",
   "execution_count": 2,
   "metadata": {},
   "outputs": [
    {
     "name": "stderr",
     "output_type": "stream",
     "text": [
      "C:\\Users\\kero5\\Anaconda3\\lib\\site-packages\\gensim\\utils.py:1197: UserWarning: detected Windows; aliasing chunkize to chunkize_serial\n",
      "  warnings.warn(\"detected Windows; aliasing chunkize to chunkize_serial\")\n",
      "C:\\Users\\kero5\\Anaconda3\\lib\\site-packages\\h5py\\__init__.py:34: FutureWarning: Conversion of the second argument of issubdtype from `float` to `np.floating` is deprecated. In future, it will be treated as `np.float64 == np.dtype(float).type`.\n",
      "  from ._conv import register_converters as _register_converters\n",
      "Using TensorFlow backend.\n"
     ]
    }
   ],
   "source": [
    "# Use AzureML's data collector to log various metrics!\n",
    "#from azureml.logging import current_scriptrun\n",
    "#logger = current_scriptrun()\n",
    "# Use AzureML's data collector to log various metrics!\n",
    "#from azureml.logging import current_scriptrun\n",
    "#logger = current_scriptrun()\n",
    "\n",
    "import string, re\n",
    "import pandas as pd\n",
    "from nltk.corpus import stopwords\n",
    "from gensim import corpora, models, similarities\n",
    "import azureml\n",
    "from __future__ import division\n",
    "import numpy as np\n",
    "import nltk\n",
    "from nltk.corpus import stopwords\n",
    "from azure.storage.blob import BlockBlobService\n",
    "\n",
    "# import libraries\n",
    "from __future__ import print_function\n",
    "import numpy as np\n",
    "from six.moves import zip\n",
    "import json\n",
    "import warnings\n",
    "import pandas as pd\n",
    "from pandas import DataFrame   \n",
    "import pickle\n",
    "import re\n",
    "import sys \n",
    "import azureml\n",
    "import string\n",
    "from scipy import stats\n",
    "import pip\n",
    "import keras\n",
    "from keras.preprocessing.sequence import pad_sequences\n",
    "from keras.utils.np_utils import to_categorical\n",
    "from keras.preprocessing.text import Tokenizer     \n",
    "from keras.preprocessing import sequence\n",
    "import os\n",
    "import tempfile  \n",
    "import logging\n",
    "import gensim\n",
    "from gensim.models import Phrases, phrases\n",
    "from gensim.models.phrases import Phraser\n",
    "from gensim.models import Word2Vec as wv\n",
    "import nltk\n",
    "from nltk.corpus import stopwords\n",
    "from gensim import corpora, models, similarities\n",
    "from IPython.display import SVG\n",
    "import cloudpickle\n",
    "import csv\n",
    "import mkl\n",
    "import matplotlib.pyplot as plt\n",
    "import h5py\n",
    "from keras.models import load_model\n",
    "import re\n",
    "import io\n",
    "from os.path import dirname, join\n",
    "import regex\n",
    "import pandas as pd\n",
    "from nltk.corpus import stopwords\n",
    "from gensim import corpora, models, similarities\n",
    "import azureml\n",
    "from __future__ import division\n",
    "import numpy as np\n",
    "import nltk\n",
    "from nltk.corpus import stopwords"
   ]
  },
  {
   "cell_type": "markdown",
   "metadata": {},
   "source": [
    "Import source text and write to a pandas dataframe"
   ]
  },
  {
   "cell_type": "code",
   "execution_count": 3,
   "metadata": {},
   "outputs": [
    {
     "data": {
      "text/html": [
       "<div>\n",
       "<style scoped>\n",
       "    .dataframe tbody tr th:only-of-type {\n",
       "        vertical-align: middle;\n",
       "    }\n",
       "\n",
       "    .dataframe tbody tr th {\n",
       "        vertical-align: top;\n",
       "    }\n",
       "\n",
       "    .dataframe thead th {\n",
       "        text-align: right;\n",
       "    }\n",
       "</style>\n",
       "<table border=\"1\" class=\"dataframe\">\n",
       "  <thead>\n",
       "    <tr style=\"text-align: right;\">\n",
       "      <th></th>\n",
       "      <th>timestamp</th>\n",
       "      <th>text</th>\n",
       "      <th>source</th>\n",
       "    </tr>\n",
       "  </thead>\n",
       "  <tbody>\n",
       "    <tr>\n",
       "      <th>0</th>\n",
       "      <td>1509133421</td>\n",
       "      <td>here is the post for archival purposes:  \\n\\n*...</td>\n",
       "      <td>reddit</td>\n",
       "    </tr>\n",
       "    <tr>\n",
       "      <th>1</th>\n",
       "      <td>1460289620</td>\n",
       "      <td>a $20-30 would wreck the pennant, and bring ma...</td>\n",
       "      <td>reddit</td>\n",
       "    </tr>\n",
       "    <tr>\n",
       "      <th>2</th>\n",
       "      <td>1433074382</td>\n",
       "      <td>most bitcoiners do not \"trust\" btc only they h...</td>\n",
       "      <td>reddit</td>\n",
       "    </tr>\n",
       "    <tr>\n",
       "      <th>3</th>\n",
       "      <td>1511726600</td>\n",
       "      <td>i explained to all these guys 2 years ago what...</td>\n",
       "      <td>reddit</td>\n",
       "    </tr>\n",
       "    <tr>\n",
       "      <th>4</th>\n",
       "      <td>1506946569</td>\n",
       "      <td>https://bitcointalk.org/index.php?topic=199041...</td>\n",
       "      <td>reddit</td>\n",
       "    </tr>\n",
       "    <tr>\n",
       "      <th>5</th>\n",
       "      <td>1496989793</td>\n",
       "      <td>the post was based on a misunderstanding of th...</td>\n",
       "      <td>reddit</td>\n",
       "    </tr>\n",
       "    <tr>\n",
       "      <th>6</th>\n",
       "      <td>1503022475</td>\n",
       "      <td>it's just an abbreviation, i really don't agre...</td>\n",
       "      <td>reddit</td>\n",
       "    </tr>\n",
       "    <tr>\n",
       "      <th>7</th>\n",
       "      <td>1509621266</td>\n",
       "      <td>bitcoin has become a runaway diesel engine</td>\n",
       "      <td>reddit</td>\n",
       "    </tr>\n",
       "    <tr>\n",
       "      <th>8</th>\n",
       "      <td>1502065996</td>\n",
       "      <td>so they can buy bitcoin.</td>\n",
       "      <td>reddit</td>\n",
       "    </tr>\n",
       "    <tr>\n",
       "      <th>9</th>\n",
       "      <td>1499771206</td>\n",
       "      <td>gute nachrichten für bitcoin.</td>\n",
       "      <td>reddit</td>\n",
       "    </tr>\n",
       "    <tr>\n",
       "      <th>10</th>\n",
       "      <td>1514463597</td>\n",
       "      <td>will bitcoin die next year? \\n\\nfriend of mine...</td>\n",
       "      <td>reddit</td>\n",
       "    </tr>\n",
       "    <tr>\n",
       "      <th>11</th>\n",
       "      <td>1488314710</td>\n",
       "      <td>[here is the link to the original comment thr...</td>\n",
       "      <td>reddit</td>\n",
       "    </tr>\n",
       "    <tr>\n",
       "      <th>12</th>\n",
       "      <td>1502881468</td>\n",
       "      <td>the network is so busy because of the massive ...</td>\n",
       "      <td>reddit</td>\n",
       "    </tr>\n",
       "    <tr>\n",
       "      <th>13</th>\n",
       "      <td>1507765691</td>\n",
       "      <td>i'm not sure how i feel about the uasf movemen...</td>\n",
       "      <td>reddit</td>\n",
       "    </tr>\n",
       "    <tr>\n",
       "      <th>14</th>\n",
       "      <td>1502230344</td>\n",
       "      <td>any trade involving real-world money or the ex...</td>\n",
       "      <td>reddit</td>\n",
       "    </tr>\n",
       "    <tr>\n",
       "      <th>15</th>\n",
       "      <td>1514222322</td>\n",
       "      <td>here is the post for archival purposes:  \\n\\n*...</td>\n",
       "      <td>reddit</td>\n",
       "    </tr>\n",
       "    <tr>\n",
       "      <th>16</th>\n",
       "      <td>1420294602</td>\n",
       "      <td>&amp;gt;bitcoins are on special at the moment.  al...</td>\n",
       "      <td>reddit</td>\n",
       "    </tr>\n",
       "    <tr>\n",
       "      <th>17</th>\n",
       "      <td>1485555507</td>\n",
       "      <td>a foundation perhaps, a bitcoin foundation you...</td>\n",
       "      <td>reddit</td>\n",
       "    </tr>\n",
       "    <tr>\n",
       "      <th>18</th>\n",
       "      <td>1513592481</td>\n",
       "      <td>here is the post for archival purposes:  \\n\\n*...</td>\n",
       "      <td>reddit</td>\n",
       "    </tr>\n",
       "    <tr>\n",
       "      <th>19</th>\n",
       "      <td>1502283476</td>\n",
       "      <td>&amp;gt; 6.) not yet accepted in many places\\n\\ntr...</td>\n",
       "      <td>reddit</td>\n",
       "    </tr>\n",
       "    <tr>\n",
       "      <th>20</th>\n",
       "      <td>1505462739</td>\n",
       "      <td>through other exchanges just like with bitcoin?</td>\n",
       "      <td>reddit</td>\n",
       "    </tr>\n",
       "    <tr>\n",
       "      <th>21</th>\n",
       "      <td>1506257042</td>\n",
       "      <td>[here is the link to the original comment thr...</td>\n",
       "      <td>reddit</td>\n",
       "    </tr>\n",
       "    <tr>\n",
       "      <th>22</th>\n",
       "      <td>1489678023</td>\n",
       "      <td>right, bitcoin is the protocol. and bitcoin un...</td>\n",
       "      <td>reddit</td>\n",
       "    </tr>\n",
       "    <tr>\n",
       "      <th>23</th>\n",
       "      <td>1479937490</td>\n",
       "      <td>before calling someone \"absolutely wrong\" you ...</td>\n",
       "      <td>reddit</td>\n",
       "    </tr>\n",
       "    <tr>\n",
       "      <th>24</th>\n",
       "      <td>1473218742</td>\n",
       "      <td>too late... we've ordered from them.\\nand some...</td>\n",
       "      <td>reddit</td>\n",
       "    </tr>\n",
       "    <tr>\n",
       "      <th>25</th>\n",
       "      <td>1510952603</td>\n",
       "      <td>by messaging me you agree to my [terms and con...</td>\n",
       "      <td>reddit</td>\n",
       "    </tr>\n",
       "    <tr>\n",
       "      <th>26</th>\n",
       "      <td>1501498263</td>\n",
       "      <td>here is the post for archival purposes:  \\n\\n*...</td>\n",
       "      <td>reddit</td>\n",
       "    </tr>\n",
       "    <tr>\n",
       "      <th>27</th>\n",
       "      <td>1512413936</td>\n",
       "      <td>yes. bitcoin ira</td>\n",
       "      <td>reddit</td>\n",
       "    </tr>\n",
       "    <tr>\n",
       "      <th>28</th>\n",
       "      <td>1435294366</td>\n",
       "      <td>well if bitcoin is not used the network will n...</td>\n",
       "      <td>reddit</td>\n",
       "    </tr>\n",
       "    <tr>\n",
       "      <th>29</th>\n",
       "      <td>1511643659</td>\n",
       "      <td>how you guys know this? historic info or educa...</td>\n",
       "      <td>reddit</td>\n",
       "    </tr>\n",
       "    <tr>\n",
       "      <th>...</th>\n",
       "      <td>...</td>\n",
       "      <td>...</td>\n",
       "      <td>...</td>\n",
       "    </tr>\n",
       "    <tr>\n",
       "      <th>944423</th>\n",
       "      <td>1509543140</td>\n",
       "      <td>bitcoin is a technology.\\n\\nr/bitcoin is a cul...</td>\n",
       "      <td>reddit</td>\n",
       "    </tr>\n",
       "    <tr>\n",
       "      <th>944424</th>\n",
       "      <td>1423657618</td>\n",
       "      <td>that's what i like about it.  he should defini...</td>\n",
       "      <td>reddit</td>\n",
       "    </tr>\n",
       "    <tr>\n",
       "      <th>944425</th>\n",
       "      <td>1503859428</td>\n",
       "      <td>https://github.com/bitcoin-uahf/spec/pull/10\\n...</td>\n",
       "      <td>reddit</td>\n",
       "    </tr>\n",
       "    <tr>\n",
       "      <th>944426</th>\n",
       "      <td>1513740714</td>\n",
       "      <td>here is the post for archival purposes:  \\n\\n*...</td>\n",
       "      <td>reddit</td>\n",
       "    </tr>\n",
       "    <tr>\n",
       "      <th>944427</th>\n",
       "      <td>1513512605</td>\n",
       "      <td>i tried bitcoin core.\\nit is not compulsary at...</td>\n",
       "      <td>reddit</td>\n",
       "    </tr>\n",
       "    <tr>\n",
       "      <th>944428</th>\n",
       "      <td>1486577906</td>\n",
       "      <td>here is the post for archival purposes:  \\n\\n*...</td>\n",
       "      <td>reddit</td>\n",
       "    </tr>\n",
       "    <tr>\n",
       "      <th>944429</th>\n",
       "      <td>1470247857</td>\n",
       "      <td>this fork sounds like its going to be sloppy a...</td>\n",
       "      <td>reddit</td>\n",
       "    </tr>\n",
       "    <tr>\n",
       "      <th>944430</th>\n",
       "      <td>1494732322</td>\n",
       "      <td>&amp;gt; not sure you completely understand liquid...</td>\n",
       "      <td>reddit</td>\n",
       "    </tr>\n",
       "    <tr>\n",
       "      <th>944431</th>\n",
       "      <td>1462307626</td>\n",
       "      <td>i thought the whole point of bitcoin was so yo...</td>\n",
       "      <td>reddit</td>\n",
       "    </tr>\n",
       "    <tr>\n",
       "      <th>944432</th>\n",
       "      <td>1476168527</td>\n",
       "      <td>a combination of both bitcoin maximalist, eth...</td>\n",
       "      <td>reddit</td>\n",
       "    </tr>\n",
       "    <tr>\n",
       "      <th>944433</th>\n",
       "      <td>1513872725</td>\n",
       "      <td>bitcoin is slow to move and costs a lot to do ...</td>\n",
       "      <td>reddit</td>\n",
       "    </tr>\n",
       "    <tr>\n",
       "      <th>944434</th>\n",
       "      <td>1496460285</td>\n",
       "      <td>this is not settled yet in the usa.  if you tr...</td>\n",
       "      <td>reddit</td>\n",
       "    </tr>\n",
       "    <tr>\n",
       "      <th>944435</th>\n",
       "      <td>1489954717</td>\n",
       "      <td>read the core scalability roadmap: https://lis...</td>\n",
       "      <td>reddit</td>\n",
       "    </tr>\n",
       "    <tr>\n",
       "      <th>944436</th>\n",
       "      <td>1503143436</td>\n",
       "      <td>it feels like when bitcoin had a lot of fud ar...</td>\n",
       "      <td>reddit</td>\n",
       "    </tr>\n",
       "    <tr>\n",
       "      <th>944437</th>\n",
       "      <td>1510381312</td>\n",
       "      <td>bitcoin losing it's decentralization aspects f...</td>\n",
       "      <td>reddit</td>\n",
       "    </tr>\n",
       "    <tr>\n",
       "      <th>944438</th>\n",
       "      <td>1508721965</td>\n",
       "      <td>greetings!\\n\\nfor information, you could try: ...</td>\n",
       "      <td>reddit</td>\n",
       "    </tr>\n",
       "    <tr>\n",
       "      <th>944439</th>\n",
       "      <td>1494934366</td>\n",
       "      <td>if we all ran full nodes, bitcoin would be ove...</td>\n",
       "      <td>reddit</td>\n",
       "    </tr>\n",
       "    <tr>\n",
       "      <th>944440</th>\n",
       "      <td>1441557437</td>\n",
       "      <td>probably something obvious like johnathan bitc...</td>\n",
       "      <td>reddit</td>\n",
       "    </tr>\n",
       "    <tr>\n",
       "      <th>944441</th>\n",
       "      <td>1501834113</td>\n",
       "      <td>from the new bcore sub /r/bcore:\\n\\ndear block...</td>\n",
       "      <td>reddit</td>\n",
       "    </tr>\n",
       "    <tr>\n",
       "      <th>944442</th>\n",
       "      <td>1432885552</td>\n",
       "      <td>we at https://www.vaultoro.com offer cheaper g...</td>\n",
       "      <td>reddit</td>\n",
       "    </tr>\n",
       "    <tr>\n",
       "      <th>944443</th>\n",
       "      <td>1420251622</td>\n",
       "      <td>i posted this a couple of days ago but it was ...</td>\n",
       "      <td>reddit</td>\n",
       "    </tr>\n",
       "    <tr>\n",
       "      <th>944444</th>\n",
       "      <td>1514561472</td>\n",
       "      <td>i call it bitcoin, you can call it bcash.</td>\n",
       "      <td>reddit</td>\n",
       "    </tr>\n",
       "    <tr>\n",
       "      <th>944445</th>\n",
       "      <td>1510790887</td>\n",
       "      <td>the following comment by reddiru was **silentl...</td>\n",
       "      <td>reddit</td>\n",
       "    </tr>\n",
       "    <tr>\n",
       "      <th>944446</th>\n",
       "      <td>1489107726</td>\n",
       "      <td>i think you're missing the picture. this app d...</td>\n",
       "      <td>reddit</td>\n",
       "    </tr>\n",
       "    <tr>\n",
       "      <th>944447</th>\n",
       "      <td>1509972152</td>\n",
       "      <td>du har inte en aning om huruvida bostadsmarkna...</td>\n",
       "      <td>reddit</td>\n",
       "    </tr>\n",
       "    <tr>\n",
       "      <th>944448</th>\n",
       "      <td>1497330393</td>\n",
       "      <td>nah dude, with bitcoin at least it sends, for ...</td>\n",
       "      <td>reddit</td>\n",
       "    </tr>\n",
       "    <tr>\n",
       "      <th>944449</th>\n",
       "      <td>1487777303</td>\n",
       "      <td>my shop does incoming machines at flat rate.  ...</td>\n",
       "      <td>reddit</td>\n",
       "    </tr>\n",
       "    <tr>\n",
       "      <th>944450</th>\n",
       "      <td>1511126393</td>\n",
       "      <td>this is one of the negative of storing your mo...</td>\n",
       "      <td>reddit</td>\n",
       "    </tr>\n",
       "    <tr>\n",
       "      <th>944451</th>\n",
       "      <td>1504898368</td>\n",
       "      <td>somehow i lost half of my investment (in bitco...</td>\n",
       "      <td>reddit</td>\n",
       "    </tr>\n",
       "    <tr>\n",
       "      <th>944452</th>\n",
       "      <td>1512145980</td>\n",
       "      <td>i think it was ~~hbo~~ showtime who did this w...</td>\n",
       "      <td>reddit</td>\n",
       "    </tr>\n",
       "  </tbody>\n",
       "</table>\n",
       "<p>1889342 rows × 3 columns</p>\n",
       "</div>"
      ],
      "text/plain": [
       "         timestamp                                               text  source\n",
       "0       1509133421  here is the post for archival purposes:  \\n\\n*...  reddit\n",
       "1       1460289620  a $20-30 would wreck the pennant, and bring ma...  reddit\n",
       "2       1433074382  most bitcoiners do not \"trust\" btc only they h...  reddit\n",
       "3       1511726600  i explained to all these guys 2 years ago what...  reddit\n",
       "4       1506946569  https://bitcointalk.org/index.php?topic=199041...  reddit\n",
       "5       1496989793  the post was based on a misunderstanding of th...  reddit\n",
       "6       1503022475  it's just an abbreviation, i really don't agre...  reddit\n",
       "7       1509621266         bitcoin has become a runaway diesel engine  reddit\n",
       "8       1502065996                           so they can buy bitcoin.  reddit\n",
       "9       1499771206                      gute nachrichten für bitcoin.  reddit\n",
       "10      1514463597  will bitcoin die next year? \\n\\nfriend of mine...  reddit\n",
       "11      1488314710   [here is the link to the original comment thr...  reddit\n",
       "12      1502881468  the network is so busy because of the massive ...  reddit\n",
       "13      1507765691  i'm not sure how i feel about the uasf movemen...  reddit\n",
       "14      1502230344  any trade involving real-world money or the ex...  reddit\n",
       "15      1514222322  here is the post for archival purposes:  \\n\\n*...  reddit\n",
       "16      1420294602  &gt;bitcoins are on special at the moment.  al...  reddit\n",
       "17      1485555507  a foundation perhaps, a bitcoin foundation you...  reddit\n",
       "18      1513592481  here is the post for archival purposes:  \\n\\n*...  reddit\n",
       "19      1502283476  &gt; 6.) not yet accepted in many places\\n\\ntr...  reddit\n",
       "20      1505462739    through other exchanges just like with bitcoin?  reddit\n",
       "21      1506257042   [here is the link to the original comment thr...  reddit\n",
       "22      1489678023  right, bitcoin is the protocol. and bitcoin un...  reddit\n",
       "23      1479937490  before calling someone \"absolutely wrong\" you ...  reddit\n",
       "24      1473218742  too late... we've ordered from them.\\nand some...  reddit\n",
       "25      1510952603  by messaging me you agree to my [terms and con...  reddit\n",
       "26      1501498263  here is the post for archival purposes:  \\n\\n*...  reddit\n",
       "27      1512413936                                  yes. bitcoin ira   reddit\n",
       "28      1435294366  well if bitcoin is not used the network will n...  reddit\n",
       "29      1511643659  how you guys know this? historic info or educa...  reddit\n",
       "...            ...                                                ...     ...\n",
       "944423  1509543140  bitcoin is a technology.\\n\\nr/bitcoin is a cul...  reddit\n",
       "944424  1423657618  that's what i like about it.  he should defini...  reddit\n",
       "944425  1503859428  https://github.com/bitcoin-uahf/spec/pull/10\\n...  reddit\n",
       "944426  1513740714  here is the post for archival purposes:  \\n\\n*...  reddit\n",
       "944427  1513512605  i tried bitcoin core.\\nit is not compulsary at...  reddit\n",
       "944428  1486577906  here is the post for archival purposes:  \\n\\n*...  reddit\n",
       "944429  1470247857  this fork sounds like its going to be sloppy a...  reddit\n",
       "944430  1494732322  &gt; not sure you completely understand liquid...  reddit\n",
       "944431  1462307626  i thought the whole point of bitcoin was so yo...  reddit\n",
       "944432  1476168527   a combination of both bitcoin maximalist, eth...  reddit\n",
       "944433  1513872725  bitcoin is slow to move and costs a lot to do ...  reddit\n",
       "944434  1496460285  this is not settled yet in the usa.  if you tr...  reddit\n",
       "944435  1489954717  read the core scalability roadmap: https://lis...  reddit\n",
       "944436  1503143436  it feels like when bitcoin had a lot of fud ar...  reddit\n",
       "944437  1510381312  bitcoin losing it's decentralization aspects f...  reddit\n",
       "944438  1508721965  greetings!\\n\\nfor information, you could try: ...  reddit\n",
       "944439  1494934366  if we all ran full nodes, bitcoin would be ove...  reddit\n",
       "944440  1441557437  probably something obvious like johnathan bitc...  reddit\n",
       "944441  1501834113  from the new bcore sub /r/bcore:\\n\\ndear block...  reddit\n",
       "944442  1432885552  we at https://www.vaultoro.com offer cheaper g...  reddit\n",
       "944443  1420251622  i posted this a couple of days ago but it was ...  reddit\n",
       "944444  1514561472          i call it bitcoin, you can call it bcash.  reddit\n",
       "944445  1510790887  the following comment by reddiru was **silentl...  reddit\n",
       "944446  1489107726  i think you're missing the picture. this app d...  reddit\n",
       "944447  1509972152  du har inte en aning om huruvida bostadsmarkna...  reddit\n",
       "944448  1497330393  nah dude, with bitcoin at least it sends, for ...  reddit\n",
       "944449  1487777303  my shop does incoming machines at flat rate.  ...  reddit\n",
       "944450  1511126393  this is one of the negative of storing your mo...  reddit\n",
       "944451  1504898368  somehow i lost half of my investment (in bitco...  reddit\n",
       "944452  1512145980  i think it was ~~hbo~~ showtime who did this w...  reddit\n",
       "\n",
       "[1889342 rows x 3 columns]"
      ]
     },
     "execution_count": 3,
     "metadata": {},
     "output_type": "execute_result"
    }
   ],
   "source": [
    "import os\n",
    "home_dir = 'C:/Users/kero5/Documents/UW/4B/ECE457B/StockPerformanceClassification'\n",
    "bitcoin_prices = pd.read_csv(home_dir + '//Data//bitcoin_price_daily.csv')\n",
    "\n",
    "texts = pd.read_csv(home_dir + '//Data//text1.csv')\n",
    "texts.append(pd.read_csv(home_dir + '//Data//text2.csv', header=0))\n",
    "texts.append(pd.read_csv(home_dir + '//Data//text3.csv', header=0))"
   ]
  },
  {
   "cell_type": "code",
   "execution_count": 10,
   "metadata": {},
   "outputs": [],
   "source": [
    "texts_subset = texts.sample(10000)\n",
    "\n",
    "\n",
    "def clean_text(row):\n",
    "    # text = row['text'].decode('utf-8').lower()\n",
    "    text = row['text'].lower()\n",
    "\n",
    "    # Remove newline characters\n",
    "    cleantext = text.replace('\\r\\n', ' ')\n",
    "\n",
    "    # Convert HTML punctuation chaaracters\n",
    "    cleantext = cleantext.replace('.', '')\n",
    "\n",
    "    #remove non alpha characters and specific noise\n",
    "    #cleantext = re.sub(r'\\d+', '',cleantext)\n",
    "    cleantext = re.sub(r'^b','',cleantext)\n",
    "    cleantext = re.sub(r'[^\\w]',' ',cleantext)\n",
    "\n",
    "    #remove specific noise\n",
    "    cleantext = cleantext.translate(str.maketrans({'‘':' ','’':' '}))\n",
    "    cleantext = cleantext.translate(str.maketrans({',':' ',',':' '}))\n",
    "    cleantext = cleantext.translate(str.maketrans({'\"':' ','%':' '}))\n",
    "\n",
    "    #remove punctuation\n",
    "    punctpattern = re.compile('[%s]' % re.escape(string.punctuation))\n",
    "    cleanttext = re.sub(punctpattern,'', cleantext)\n",
    "\n",
    "    #remove single letter word\n",
    "    cleantext = re.sub('(\\\\b[A-Za-z] \\\\b|\\\\b [A-Za-z]\\\\b)', '', cleantext) \n",
    "\n",
    "    # Remove extra spaces\n",
    "    cleantext = re.sub('\\s+', ' ', cleantext).strip()\n",
    "\n",
    "    return cleantext\n",
    "\n",
    "#apply regex fixes to the input text column\n",
    "texts_subset['text'] = texts.apply(clean_text, axis=1)\n",
    "texts_subset.to_csv(home_dir + '//Data//cleaned_subset.csv', sep='\\t', encoding='utf-8')"
   ]
  },
  {
   "cell_type": "code",
   "execution_count": 11,
   "metadata": {},
   "outputs": [
    {
     "name": "stdout",
     "output_type": "stream",
     "text": [
      "[nltk_data] Downloading package punkt to\n",
      "[nltk_data]     C:\\Users\\kero5\\AppData\\Roaming\\nltk_data...\n",
      "[nltk_data]   Package punkt is already up-to-date!\n"
     ]
    }
   ],
   "source": [
    "\n",
    "# tokenize, create seqs, pad\n",
    "tok = Tokenizer(num_words=5000, lower=True, split=\" \")\n",
    "tok.fit_on_texts(texts_subset['text'])\n",
    "tok.texts_to_sequences(texts_subset['text'])\n",
    "\n",
    "import nltk \n",
    "\n",
    "nltk.download('punkt')\n",
    "sent_lst = []\n",
    "\n",
    "for doc in texts_subset['text']:\n",
    "    sentences = nltk.tokenize.sent_tokenize(doc)\n",
    "    for sent in sentences:\n",
    "        word_lst = [w for w in nltk.tokenize.word_tokenize(sent) if w.isalnum()]\n",
    "        sent_lst.append(word_lst)"
   ]
  },
  {
   "cell_type": "code",
   "execution_count": 12,
   "metadata": {},
   "outputs": [
    {
     "name": "stdout",
     "output_type": "stream",
     "text": [
      "Phrases<28 vocab, min_count=5, threshold=10.0, max_vocab_size=40000000>\n"
     ]
    }
   ],
   "source": [
    "from gensim.models import Phrases\n",
    "phrases = Phrases(texts_subset)\n",
    "print(phrases)"
   ]
  },
  {
   "cell_type": "code",
   "execution_count": 13,
   "metadata": {},
   "outputs": [
    {
     "name": "stdout",
     "output_type": "stream",
     "text": [
      "Dictionary(33988 unique tokens: ['0001', '03', '053', '09', '2017']...)\n"
     ]
    }
   ],
   "source": [
    "# Create dictionary and save it\n",
    "dictionary = corpora.Dictionary(sent_lst)\n",
    "print(dictionary)"
   ]
  },
  {
   "cell_type": "code",
   "execution_count": 14,
   "metadata": {},
   "outputs": [
    {
     "name": "stdout",
     "output_type": "stream",
     "text": [
      "Dictionary(33988 unique tokens: ['0001', '03', '053', '09', '2017']...)\n"
     ]
    }
   ],
   "source": [
    "dictionary.save('texts.dict')\n",
    "print(dictionary)"
   ]
  },
  {
   "cell_type": "code",
   "execution_count": 15,
   "metadata": {
    "collapsed": true
   },
   "outputs": [],
   "source": [
    "# Create tokenized corpus and save it\n",
    "corpus = [dictionary.doc2bow(sent_lst) for sent_lst in sent_lst]\n",
    "corpora.MmCorpus.serialize('texts.dict', corpus)"
   ]
  },
  {
   "cell_type": "code",
   "execution_count": 16,
   "metadata": {},
   "outputs": [
    {
     "name": "stdout",
     "output_type": "stream",
     "text": [
      "[(0, 1), (1, 1), (2, 1), (3, 1), (4, 1), (5, 1), (6, 1), (7, 1), (8, 1), (9, 1), (10, 3), (11, 1), (12, 1), (13, 1), (14, 3), (15, 1), (16, 1), (17, 1), (18, 3), (19, 1), (20, 1), (21, 2), (22, 1), (23, 1), (24, 1), (25, 1), (26, 1), (27, 1), (28, 1), (29, 1), (30, 2), (31, 1), (32, 1), (33, 1), (34, 2), (35, 1), (36, 1), (37, 1), (38, 2), (39, 1), (40, 1), (41, 1), (42, 1), (43, 1)]\n",
      "[(10, 1), (19, 2), (21, 2), (32, 1), (41, 1), (43, 1), (44, 1), (45, 1), (46, 1), (47, 1), (48, 1), (49, 1), (50, 1), (51, 1), (52, 1), (53, 1), (54, 2), (55, 1), (56, 1), (57, 2), (58, 1), (59, 2), (60, 1), (61, 2), (62, 1), (63, 1), (64, 1), (65, 1), (66, 1), (67, 1), (68, 1), (69, 1), (70, 3), (71, 1), (72, 1), (73, 6), (74, 1), (75, 1), (76, 1), (77, 2), (78, 1), (79, 1), (80, 1), (81, 1)]\n"
     ]
    }
   ],
   "source": [
    "print(corpus[0])\n",
    "print(corpus[1])"
   ]
  },
  {
   "cell_type": "code",
   "execution_count": 17,
   "metadata": {
    "collapsed": true
   },
   "outputs": [],
   "source": [
    "# Create TFIDF model and save it\n",
    "tfidf = models.TfidfModel(corpus)\n",
    "tfidf.save('texts_tfidf.model')"
   ]
  },
  {
   "cell_type": "code",
   "execution_count": 18,
   "metadata": {},
   "outputs": [
    {
     "name": "stdout",
     "output_type": "stream",
     "text": [
      "[(10, 0.008181919965673117), (17, 0.089619061838476), (19, 0.041367566682498115), (32, 0.04149302578221466), (41, 0.061635295367656016), (61, 0.03589931448516985), (65, 0.03504135326955593), (73, 0.03441229896268722), (75, 0.058236025001948875), (122, 0.11397208017010206), (123, 0.2693725037467842), (124, 0.18778141651060992), (125, 0.41552366103772814), (126, 0.16746868048690405), (127, 0.06098388537922856), (128, 0.11884948692237803), (129, 0.12527647227064978), (130, 0.1023546129398983), (131, 0.19208889980225496), (132, 0.18510751695572206), (133, 0.38170746741251854), (134, 0.10808592168272757), (135, 0.2923023145818878), (136, 0.2818077929735965), (137, 0.24644269291168058), (138, 0.1813528605975232), (139, 0.3421450570367719), (140, 0.08919217763495967)]\n"
     ]
    }
   ],
   "source": [
    "# Convert document texts to TFIDF\n",
    "corpus_tfidf = tfidf[corpus]\n",
    "print(corpus_tfidf[3])"
   ]
  },
  {
   "cell_type": "code",
   "execution_count": null,
   "metadata": {},
   "outputs": [],
   "source": [
    "# Extract LDA topics, using 1 pass and updating once every 1 chunk (1000 documents)\n",
    "lda = models.ldamodel.LdaModel(corpus=corpus, id2word=dictionary, num_topics=20, update_every=1, chunksize=1000, passes=5)"
   ]
  },
  {
   "cell_type": "code",
   "execution_count": 57,
   "metadata": {},
   "outputs": [
    {
     "ename": "NameError",
     "evalue": "name 'lda' is not defined",
     "output_type": "error",
     "traceback": [
      "\u001b[1;31m---------------------------------------------------------------------------\u001b[0m",
      "\u001b[1;31mNameError\u001b[0m                                 Traceback (most recent call last)",
      "\u001b[1;32m<ipython-input-57-3076a4eb86c6>\u001b[0m in \u001b[0;36m<module>\u001b[1;34m()\u001b[0m\n\u001b[1;32m----> 1\u001b[1;33m \u001b[0mlda\u001b[0m\u001b[1;33m.\u001b[0m\u001b[0mprint_topics\u001b[0m\u001b[1;33m(\u001b[0m\u001b[1;36m10\u001b[0m\u001b[1;33m)\u001b[0m\u001b[1;33m\u001b[0m\u001b[0m\n\u001b[0m",
      "\u001b[1;31mNameError\u001b[0m: name 'lda' is not defined"
     ]
    }
   ],
   "source": [
    "lda.print_topics(10)"
   ]
  },
  {
   "cell_type": "code",
   "execution_count": 161,
   "metadata": {
    "collapsed": true
   },
   "outputs": [],
   "source": [
    "# Create index using LDA document projections\n",
    "corpus_lda = lda[corpus]\n",
    "index_lda = similarities.docsim.Similarity('index_lda.dat', corpus_lda, num_features=100)"
   ]
  },
  {
   "cell_type": "code",
   "execution_count": 162,
   "metadata": {},
   "outputs": [
    {
     "name": "stdout",
     "output_type": "stream",
     "text": [
      "Similarity index with 996 documents in 0 shards (stored under index_lda.dat)\n"
     ]
    }
   ],
   "source": [
    "print(index_lda)"
   ]
  },
  {
   "cell_type": "code",
   "execution_count": 163,
   "metadata": {},
   "outputs": [
    {
     "data": {
      "text/plain": [
       "[(1, 0.9999997615814209),\n",
       " (2, 0.97441738843917847),\n",
       " (3, 0.95716357231140137),\n",
       " (4, 0.93029320240020752),\n",
       " (5, 0.91589397192001343),\n",
       " (6, 0.90863794088363647),\n",
       " (7, 0.90827977657318115),\n",
       " (8, 0.89623022079467773),\n",
       " (0, 0.87198424339294434),\n",
       " (44, 0.79476922750473022),\n",
       " (43, 0.75726127624511719),\n",
       " (143, 0.67256861925125122),\n",
       " (151, 0.6539844274520874),\n",
       " (253, 0.61475139856338501),\n",
       " (149, 0.6128806471824646),\n",
       " (150, 0.60356354713439941),\n",
       " (260, 0.60280239582061768),\n",
       " (255, 0.60185325145721436),\n",
       " (259, 0.59907078742980957),\n",
       " (258, 0.59543067216873169)]"
      ]
     },
     "execution_count": 163,
     "metadata": {},
     "output_type": "execute_result"
    }
   ],
   "source": [
    "# Return top 5 similar documents\n",
    "index_lda.num_best = 20\n",
    "index_lda[corpus_lda[1]]"
   ]
  },
  {
   "cell_type": "code",
   "execution_count": 164,
   "metadata": {},
   "outputs": [
    {
     "name": "stdout",
     "output_type": "stream",
     "text": [
      "[(0, 0.032222186356094869), (2, 0.036922126673297459), (5, 0.015798027459770405), (7, 0.10403722458416195), (12, 0.014976144565672443), (14, 0.12430606284687457), (15, 0.020305576910233464), (16, 0.023882866043905392), (19, 0.60380625092794671)]\n"
     ]
    }
   ],
   "source": [
    "print(corpus_lda[171])"
   ]
  },
  {
   "cell_type": "code",
   "execution_count": 165,
   "metadata": {},
   "outputs": [
    {
     "name": "stdout",
     "output_type": "stream",
     "text": [
      "[(0, 0.013957118146018414), (6, 0.083099643388323888), (10, 0.03353514381146544), (14, 0.044646513387055178), (15, 0.01276459846493295), (18, 0.2966854331363058), (19, 0.50602145341161353)]\n"
     ]
    }
   ],
   "source": [
    "print(corpus_lda[128])"
   ]
  },
  {
   "cell_type": "code",
   "execution_count": 166,
   "metadata": {
    "collapsed": true
   },
   "outputs": [],
   "source": [
    "# Create index using TFIDF document weights\n",
    "index_tfidf = similarities.docsim.Similarity('index_tfidf.dat', corpus_tfidf, num_features=len(dictionary))"
   ]
  },
  {
   "cell_type": "code",
   "execution_count": 167,
   "metadata": {},
   "outputs": [
    {
     "data": {
      "text/plain": [
       "[(0, 0.99999922513961792),\n",
       " (8, 0.86761742830276489),\n",
       " (4, 0.70173543691635132),\n",
       " (5, 0.70086997747421265),\n",
       " (6, 0.70060157775878906)]"
      ]
     },
     "execution_count": 167,
     "metadata": {},
     "output_type": "execute_result"
    }
   ],
   "source": [
    "# Return top 5 similar documents\n",
    "index_tfidf.num_best = 5\n",
    "index_tfidf[corpus_tfidf[0]]"
   ]
  },
  {
   "cell_type": "code",
   "execution_count": 168,
   "metadata": {},
   "outputs": [
    {
     "ename": "NameError",
     "evalue": "name 'documents' is not defined",
     "output_type": "error",
     "traceback": [
      "\u001b[1;31m---------------------------------------------------------------------------\u001b[0m",
      "\u001b[1;31mNameError\u001b[0m                                 Traceback (most recent call last)",
      "\u001b[1;32m<ipython-input-168-b847cda4958b>\u001b[0m in \u001b[0;36m<module>\u001b[1;34m()\u001b[0m\n\u001b[1;32m----> 1\u001b[1;33m \u001b[0mprint\u001b[0m\u001b[1;33m(\u001b[0m\u001b[0mdocuments\u001b[0m\u001b[1;33m[\u001b[0m\u001b[1;36m172\u001b[0m\u001b[1;33m]\u001b[0m\u001b[1;33m)\u001b[0m\u001b[1;33m\u001b[0m\u001b[0m\n\u001b[0m",
      "\u001b[1;31mNameError\u001b[0m: name 'documents' is not defined"
     ]
    }
   ],
   "source": [
    "print(documents[172])"
   ]
  },
  {
   "cell_type": "code",
   "execution_count": null,
   "metadata": {
    "collapsed": true
   },
   "outputs": [],
   "source": [
    "print(documents[173])"
   ]
  }
 ],
 "metadata": {
  "kernelspec": {
   "display_name": "Python 3",
   "language": "python",
   "name": "python3"
  },
  "language_info": {
   "codemirror_mode": {
    "name": "ipython",
    "version": 3
   },
   "file_extension": ".py",
   "mimetype": "text/x-python",
   "name": "python",
   "nbconvert_exporter": "python",
   "pygments_lexer": "ipython3",
   "version": "3.6.3"
  }
 },
 "nbformat": 4,
 "nbformat_minor": 2
}
