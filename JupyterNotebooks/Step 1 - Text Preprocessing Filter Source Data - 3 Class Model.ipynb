{
 "cells": [
  {
   "cell_type": "markdown",
   "metadata": {},
   "source": [
    "# 1 - Source Text Filtering"
   ]
  },
  {
   "cell_type": "code",
   "execution_count": 1,
   "metadata": {},
   "outputs": [
    {
     "name": "stdout",
     "output_type": "stream",
     "text": [
      "3.5.2 |Continuum Analytics, Inc.| (default, Jul  5 2016, 11:41:13) [MSC v.1900 64 bit (AMD64)]\n"
     ]
    }
   ],
   "source": [
    "import sys\n",
    "print(sys.version)"
   ]
  },
  {
   "cell_type": "code",
   "execution_count": 2,
   "metadata": {},
   "outputs": [
    {
     "name": "stderr",
     "output_type": "stream",
     "text": [
      "C:\\Users\\pattyry\\AppData\\local\\AmlWorkbench\\Python\\lib\\site-packages\\gensim\\utils.py:862: UserWarning: detected Windows; aliasing chunkize to chunkize_serial\n",
      "  warnings.warn(\"detected Windows; aliasing chunkize to chunkize_serial\")\n"
     ]
    }
   ],
   "source": [
    "# Use AzureML's data collector to log various metrics!\n",
    "#from azureml.logging import current_scriptrun\n",
    "#logger = current_scriptrun()\n",
    "\n",
    "import string, re\n",
    "import pandas as pd\n",
    "from nltk.corpus import stopwords\n",
    "from gensim import corpora, models, similarities\n",
    "import azureml\n",
    "from __future__ import division\n",
    "import numpy as np\n",
    "import nltk\n",
    "from nltk.corpus import stopwords\n",
    "from azure.storage.blob import BlockBlobService"
   ]
  },
  {
   "cell_type": "markdown",
   "metadata": {},
   "source": [
    "Import source text and write to a pandas dataframe"
   ]
  },
  {
   "cell_type": "code",
   "execution_count": 3,
   "metadata": {},
   "outputs": [
    {
     "data": {
      "text/plain": [
       "'C:\\\\Users\\\\pattyry\\\\Documents\\\\AzureML\\\\NextAgenda_CodeStory\\\\NextAgenda_CodeStory'"
      ]
     },
     "execution_count": 3,
     "metadata": {},
     "output_type": "execute_result"
    }
   ],
   "source": [
    "import os\n",
    "os.getcwd()"
   ]
  },
  {
   "cell_type": "code",
   "execution_count": 4,
   "metadata": {},
   "outputs": [
    {
     "name": "stdout",
     "output_type": "stream",
     "text": [
      "Data unpickled\n"
     ]
    },
    {
     "data": {
      "text/plain": [
       "(32233, 16)"
      ]
     },
     "execution_count": 4,
     "metadata": {},
     "output_type": "execute_result"
    }
   ],
   "source": [
    "import pickle\n",
    "with open('Data2.pkl', 'rb') as f:\n",
    "    data = pickle.load(f)\n",
    "    print(\"Data unpickled\")\n",
    "    import pandas as pd\n",
    "data = pd.DataFrame(data)\n",
    "data.shape"
   ]
  },
  {
   "cell_type": "markdown",
   "metadata": {},
   "source": [
    "Review data"
   ]
  },
  {
   "cell_type": "code",
   "execution_count": 5,
   "metadata": {},
   "outputs": [
    {
     "name": "stdout",
     "output_type": "stream",
     "text": [
      "data shape   Ticker  Year Month Day        Date        Category Category Number  \\\n",
      "1    AAL  2014    02  28  2014-02-28  Major Airlines             770   \n",
      "2    AAL  2013    02  20  2013-02-20  Major Airlines             770   \n",
      "\n",
      "  Future_4_weeks Future_26_weeks  \\\n",
      "1     2014-03-28      2014-08-29   \n",
      "2     2013-03-20      2013-08-21   \n",
      "\n",
      "                                                Text  Label  Price_Date  \\\n",
      "1  OverviewAmerican Airlines Group Inc. (AAG) a D...  Item1   35.798592   \n",
      "2  Chapter 11 ProceedingsOn November 29, 2011 (th...  Item1   12.921616   \n",
      "\n",
      "   Price_4_weeks  Price_26_weeks  Return_4_weeks  Return_26_weeks  \n",
      "1      34.305775       37.784386       -4.178315         0.788191  \n",
      "2      16.702129       15.325636       25.062782        11.639949  \n",
      "data shape (31002, 17)\n"
     ]
    }
   ],
   "source": [
    "print('data shape',data.head(2))\n",
    "\n",
    "data[\"count\"]=data['Text'].str.len()\n",
    "data = data[data['count']>45]\n",
    "print('data shape',data.shape)"
   ]
  },
  {
   "cell_type": "code",
   "execution_count": 6,
   "metadata": {},
   "outputs": [
    {
     "data": {
      "text/html": [
       "<div>\n",
       "<style>\n",
       "    .dataframe thead tr:only-child th {\n",
       "        text-align: right;\n",
       "    }\n",
       "\n",
       "    .dataframe thead th {\n",
       "        text-align: left;\n",
       "    }\n",
       "\n",
       "    .dataframe tbody tr th {\n",
       "        vertical-align: top;\n",
       "    }\n",
       "</style>\n",
       "<table border=\"1\" class=\"dataframe\">\n",
       "  <thead>\n",
       "    <tr style=\"text-align: right;\">\n",
       "      <th></th>\n",
       "      <th>Ticker</th>\n",
       "      <th>Year</th>\n",
       "      <th>Month</th>\n",
       "      <th>Day</th>\n",
       "      <th>Date</th>\n",
       "      <th>Category</th>\n",
       "      <th>Category Number</th>\n",
       "      <th>Future_4_weeks</th>\n",
       "      <th>Future_26_weeks</th>\n",
       "      <th>Text</th>\n",
       "      <th>Label</th>\n",
       "      <th>Price_Date</th>\n",
       "      <th>Price_4_weeks</th>\n",
       "      <th>Price_26_weeks</th>\n",
       "      <th>Return_4_weeks</th>\n",
       "      <th>Return_26_weeks</th>\n",
       "      <th>count</th>\n",
       "    </tr>\n",
       "  </thead>\n",
       "  <tbody>\n",
       "    <tr>\n",
       "      <th>1</th>\n",
       "      <td>AAL</td>\n",
       "      <td>2014</td>\n",
       "      <td>02</td>\n",
       "      <td>28</td>\n",
       "      <td>2014-02-28</td>\n",
       "      <td>Major Airlines</td>\n",
       "      <td>770</td>\n",
       "      <td>2014-03-28</td>\n",
       "      <td>2014-08-29</td>\n",
       "      <td>OverviewAmerican Airlines Group Inc. (AAG) a D...</td>\n",
       "      <td>Item1</td>\n",
       "      <td>35.798592</td>\n",
       "      <td>34.305775</td>\n",
       "      <td>37.784386</td>\n",
       "      <td>-4.178315</td>\n",
       "      <td>0.788191</td>\n",
       "      <td>87146</td>\n",
       "    </tr>\n",
       "    <tr>\n",
       "      <th>2</th>\n",
       "      <td>AAL</td>\n",
       "      <td>2013</td>\n",
       "      <td>02</td>\n",
       "      <td>20</td>\n",
       "      <td>2013-02-20</td>\n",
       "      <td>Major Airlines</td>\n",
       "      <td>770</td>\n",
       "      <td>2013-03-20</td>\n",
       "      <td>2013-08-21</td>\n",
       "      <td>Chapter 11 ProceedingsOn November 29, 2011 (th...</td>\n",
       "      <td>Item1</td>\n",
       "      <td>12.921616</td>\n",
       "      <td>16.702129</td>\n",
       "      <td>15.325636</td>\n",
       "      <td>25.062782</td>\n",
       "      <td>11.639949</td>\n",
       "      <td>37564</td>\n",
       "    </tr>\n",
       "  </tbody>\n",
       "</table>\n",
       "</div>"
      ],
      "text/plain": [
       "  Ticker  Year Month Day        Date        Category Category Number  \\\n",
       "1    AAL  2014    02  28  2014-02-28  Major Airlines             770   \n",
       "2    AAL  2013    02  20  2013-02-20  Major Airlines             770   \n",
       "\n",
       "  Future_4_weeks Future_26_weeks  \\\n",
       "1     2014-03-28      2014-08-29   \n",
       "2     2013-03-20      2013-08-21   \n",
       "\n",
       "                                                Text  Label  Price_Date  \\\n",
       "1  OverviewAmerican Airlines Group Inc. (AAG) a D...  Item1   35.798592   \n",
       "2  Chapter 11 ProceedingsOn November 29, 2011 (th...  Item1   12.921616   \n",
       "\n",
       "   Price_4_weeks  Price_26_weeks  Return_4_weeks  Return_26_weeks  count  \n",
       "1      34.305775       37.784386       -4.178315         0.788191  87146  \n",
       "2      16.702129       15.325636       25.062782        11.639949  37564  "
      ]
     },
     "execution_count": 6,
     "metadata": {},
     "output_type": "execute_result"
    }
   ],
   "source": [
    "data.head(2)"
   ]
  },
  {
   "cell_type": "code",
   "execution_count": 8,
   "metadata": {},
   "outputs": [
    {
     "name": "stdout",
     "output_type": "stream",
     "text": [
      "2014    4030\n",
      "2015    3887\n",
      "2012    3562\n",
      "2013    3519\n",
      "2016    3472\n",
      "2011    2771\n",
      "2010    2656\n",
      "2009    2552\n",
      "2017    2353\n",
      "2008    2200\n",
      "Name: Year, dtype: int64\n",
      "Item7     7995\n",
      "Item1     7737\n",
      "Item1A    7713\n",
      "Item7A    7557\n",
      "Name: Label, dtype: int64\n",
      "revised labels ManagementDiscussion    7995\n",
      "BusinessOverview        7737\n",
      "RiskFactors             7713\n",
      "MarketRisk              7557\n",
      "Name: Label, dtype: int64\n"
     ]
    }
   ],
   "source": [
    "print(data['Year'].value_counts())\n",
    "print(data['Label'].value_counts())\n",
    "#https://www.sec.gov/about/forms/form10-k.pdf\n",
    "#item 7 Management’s Discussion and Analysis of Financial Condition and Results of Operations\n",
    "#item 1  Business\n",
    "#item 1a  Risk Factors. \n",
    "#item 7a  Quantitative and Qualitative Disclosures About Market Risk. \n",
    "data['Label'] = data['Label'].map({'Item7': 'ManagementDiscussion', 'Item1': 'BusinessOverview', 'Item1A': 'RiskFactors', 'Item7A': 'MarketRisk'})\n",
    "print('revised labels',data['Label'].value_counts())"
   ]
  },
  {
   "cell_type": "markdown",
   "metadata": {},
   "source": [
    "Discard some data, Append Ticker to the text."
   ]
  },
  {
   "cell_type": "code",
   "execution_count": 9,
   "metadata": {},
   "outputs": [
    {
     "name": "stdout",
     "output_type": "stream",
     "text": [
      "(31002, 15)\n"
     ]
    },
    {
     "data": {
      "text/html": [
       "<div>\n",
       "<style>\n",
       "    .dataframe thead tr:only-child th {\n",
       "        text-align: right;\n",
       "    }\n",
       "\n",
       "    .dataframe thead th {\n",
       "        text-align: left;\n",
       "    }\n",
       "\n",
       "    .dataframe tbody tr th {\n",
       "        vertical-align: top;\n",
       "    }\n",
       "</style>\n",
       "<table border=\"1\" class=\"dataframe\">\n",
       "  <thead>\n",
       "    <tr style=\"text-align: right;\">\n",
       "      <th></th>\n",
       "      <th>Ticker</th>\n",
       "      <th>Date</th>\n",
       "      <th>Category</th>\n",
       "      <th>Category Number</th>\n",
       "      <th>Future_4_weeks</th>\n",
       "      <th>Future_26_weeks</th>\n",
       "      <th>Text</th>\n",
       "      <th>Label</th>\n",
       "      <th>Price_Date</th>\n",
       "      <th>Price_4_weeks</th>\n",
       "      <th>Price_26_weeks</th>\n",
       "      <th>Return_4_weeks</th>\n",
       "      <th>Return_26_weeks</th>\n",
       "      <th>count</th>\n",
       "      <th>fulltext</th>\n",
       "    </tr>\n",
       "  </thead>\n",
       "  <tbody>\n",
       "    <tr>\n",
       "      <th>1</th>\n",
       "      <td>AAL</td>\n",
       "      <td>2014-02-28</td>\n",
       "      <td>Major Airlines</td>\n",
       "      <td>770</td>\n",
       "      <td>2014-03-28</td>\n",
       "      <td>2014-08-29</td>\n",
       "      <td>OverviewAmerican Airlines Group Inc. (AAG) a D...</td>\n",
       "      <td>BusinessOverview</td>\n",
       "      <td>35.798592</td>\n",
       "      <td>34.305775</td>\n",
       "      <td>37.784386</td>\n",
       "      <td>-4.178315</td>\n",
       "      <td>0.788191</td>\n",
       "      <td>87146</td>\n",
       "      <td>BusinessOverview.   AAL.   OverviewAmerican Ai...</td>\n",
       "    </tr>\n",
       "    <tr>\n",
       "      <th>2</th>\n",
       "      <td>AAL</td>\n",
       "      <td>2013-02-20</td>\n",
       "      <td>Major Airlines</td>\n",
       "      <td>770</td>\n",
       "      <td>2013-03-20</td>\n",
       "      <td>2013-08-21</td>\n",
       "      <td>Chapter 11 ProceedingsOn November 29, 2011 (th...</td>\n",
       "      <td>BusinessOverview</td>\n",
       "      <td>12.921616</td>\n",
       "      <td>16.702129</td>\n",
       "      <td>15.325636</td>\n",
       "      <td>25.062782</td>\n",
       "      <td>11.639949</td>\n",
       "      <td>37564</td>\n",
       "      <td>BusinessOverview.   AAL.   Chapter 11 Proceedi...</td>\n",
       "    </tr>\n",
       "  </tbody>\n",
       "</table>\n",
       "</div>"
      ],
      "text/plain": [
       "  Ticker        Date        Category Category Number Future_4_weeks  \\\n",
       "1    AAL  2014-02-28  Major Airlines             770     2014-03-28   \n",
       "2    AAL  2013-02-20  Major Airlines             770     2013-03-20   \n",
       "\n",
       "  Future_26_weeks                                               Text  \\\n",
       "1      2014-08-29  OverviewAmerican Airlines Group Inc. (AAG) a D...   \n",
       "2      2013-08-21  Chapter 11 ProceedingsOn November 29, 2011 (th...   \n",
       "\n",
       "              Label  Price_Date  Price_4_weeks  Price_26_weeks  \\\n",
       "1  BusinessOverview   35.798592      34.305775       37.784386   \n",
       "2  BusinessOverview   12.921616      16.702129       15.325636   \n",
       "\n",
       "   Return_4_weeks  Return_26_weeks  count  \\\n",
       "1       -4.178315         0.788191  87146   \n",
       "2       25.062782        11.639949  37564   \n",
       "\n",
       "                                            fulltext  \n",
       "1  BusinessOverview.   AAL.   OverviewAmerican Ai...  \n",
       "2  BusinessOverview.   AAL.   Chapter 11 Proceedi...  "
      ]
      },
     "execution_count": 9,
     "metadata": {},
     "output_type": "execute_result"
    }
   ],
   "source": [
    "data1=data.drop(['Month', 'Day','Year'], axis=1)\n",
    "data1['fulltext'] = data1[['Label', 'Ticker', 'Text']].apply(lambda x: '.   '.join(x), axis=1)\n",
    "print(data1.shape)\n",
    "data1.head(2)"
   ]
  },
  {
   "cell_type": "markdown",
   "metadata": {},
   "source": [
    "Create calculated normalized percent return, creaate 3 bins"
   ]
  },
  {
   "cell_type": "code",
   "execution_count": 10,
   "metadata": {},
   "outputs": [
    {
     "name": "stdout",
     "output_type": "stream",
     "text": [
      "(31002, 19)\n",
      "  Ticker        Date        Category Category Number Future_4_weeks  \\\n",
      "1    AAL  2014-02-28  Major Airlines             770     2014-03-28   \n",
      "2    AAL  2013-02-20  Major Airlines             770     2013-03-20   \n",
      "\n",
      "  Future_26_weeks                                               Text  \\\n",
      "1      2014-08-29  OverviewAmerican Airlines Group Inc. (AAG) a D...   \n",
      "2      2013-08-21  Chapter 11 ProceedingsOn November 29, 2011 (th...   \n",
      "\n",
      "              Label  Price_Date  Price_4_weeks  Price_26_weeks  \\\n",
      "1  BusinessOverview   35.798592      34.305775       37.784386   \n",
      "2  BusinessOverview   12.921616      16.702129       15.325636   \n",
      "\n",
      "   Return_4_weeks  Return_26_weeks  count  \\\n",
      "1       -4.178315         0.788191  87146   \n",
      "2       25.062782        11.639949  37564   \n",
      "\n",
      "                                            fulltext  PercReturn_4_Weeks  \\\n",
      "1  BusinessOverview.   AAL.   OverviewAmerican Ai...           -0.116717   \n",
      "2  BusinessOverview.   AAL.   Chapter 11 Proceedi...            1.939601   \n",
      "\n",
      "   PercReturn_26_Weeks ReturnBin_4Weeks ReturnBin_26Weeks  \n",
      "1             0.022017                0                 1  \n",
      "2             0.900812                2                 2  \n"
     ]
    },
    {
     "name": "stderr",
     "output_type": "stream",
     "text": [
      "C:\\Users\\pattyry\\AppData\\local\\AmlWorkbench\\Python\\lib\\site-packages\\ggplot\\utils.py:81: FutureWarning: pandas.tslib is deprecated and will be removed in a future version.\n",
      "You can access Timestamp as pandas.Timestamp\n",
      "  pd.tslib.Timestamp,\n",
      "C:\\Users\\pattyry\\AppData\\local\\AmlWorkbench\\Python\\lib\\site-packages\\ggplot\\stats\\smoothers.py:4: FutureWarning: The pandas.lib module is deprecated and will be removed in a future version. These are private functions and can be accessed from pandas._libs.lib instead\n",
      "  from pandas.lib import Timestamp\n",
      "C:\\Users\\pattyry\\AppData\\local\\AmlWorkbench\\Python\\lib\\site-packages\\statsmodels\\compat\\pandas.py:56: FutureWarning: The pandas.core.datetools module is deprecated and will be removed in a future version. Please use the pandas.tseries module instead.\n",
      "  from pandas.core import datetools\n"
     ]
    },
    {
     "data": {
      "image/png": "[encoded data removed]",
      "text/plain": [
       "<matplotlib.figure.Figure at 0x15a21f019e8>"
      ]
     },
     "metadata": {},
     "output_type": "display_data"
    },
    {
     "data": {
      "text/plain": [
       "<ggplot: (-9223371944201031869)>"
      ]
     },
     "execution_count": 10,
     "metadata": {},
     "output_type": "execute_result"
    }
   ],
   "source": [
    "data2=data1\n",
    "data2[\"PercReturn_4_Weeks\"] = data2.Return_4_weeks / data2.Price_Date\n",
    "data2[\"PercReturn_26_Weeks\"] = data2.Return_26_weeks / data2.Price_Date\n",
    "data2[\"ReturnBin_4Weeks\"] = pd.qcut(data2[\"PercReturn_4_Weeks\"], 3,labels=range(3))\n",
    "data2[\"ReturnBin_26Weeks\"] = pd.qcut(data2[\"PercReturn_26_Weeks\"], 3,labels=range(3))\n",
    "referencedata=data2\n",
    "print(data2.shape)\n",
    "print(data2.head(2))\n",
    "import ggplot\n",
    "from ggplot import *\n",
    "ggplot(data2, aes(x='ReturnBin_4Weeks')) + \\\n",
    "    geom_histogram() "
   ]
  },
  {
   "cell_type": "code",
   "execution_count": 11,
   "metadata": {},
   "outputs": [
    {
     "name": "stdout",
     "output_type": "stream",
     "text": [
      "(31002, 15)\n"
     ]
    }
   ],
   "source": [
    "df=data2\n",
    "data1['fulltext'] = data1[['Label', 'Ticker', 'Text']].apply(lambda x: '.   '.join(x), axis=1)\n",
    "df=df.drop(['Text','Ticker','Category Number','Label'], axis=1)\n",
    "print(df.shape)"
   ]
  },
  {
   "cell_type": "code",
   "execution_count": 12,
   "metadata": {},
   "outputs": [
    {
     "name": "stdout",
     "output_type": "stream",
     "text": [
      "['Major Airlines' 'Rental & Leasing Services' 'General Building Materials'\n",
      " 'Electronic Equipment' 'Auto Parts Stores' 'Air Services'\n",
      " 'Drugs Wholesale' 'Auto Dealerships' 'Medical Appliances & Equipment'\n",
      " 'REIT - Diversified' 'Biotechnology' 'Office Supplies'\n",
      " 'REIT - Residential' 'Property & Casualty Insurance'\n",
      " 'Technical & System Software' 'Semiconductor Equipment & Materials'\n",
      " 'Technical Services' 'Information Technology Services'\n",
      " 'Application Software' 'Business Services' 'Housewares & Accessories'\n",
      " 'Property Management' 'Semiconductor - Integrated Circuits'\n",
      " 'Long-Term Care Facilities' 'Farm Products' 'Business Software & Services'\n",
      " 'Electric Utilities' 'Diversified Electronics' 'Life Insurance'\n",
      " 'Apparel Stores' 'Health Care Plans' 'Home Health Care' ''\n",
      " 'Farm & Construction Machinery' 'Credit Services' 'Drugs - Generic'\n",
      " 'REIT - Hotel/Motel' 'Aerospace/Defense Products & Services'\n",
      " 'Accident & Health Insurance' 'Mortgage Investment' 'Insurance Brokers'\n",
      " 'Aerospace/Defense - Major Diversified' 'Internet Information Providers'\n",
      " 'Steel & Iron' 'Specialty Chemicals' 'Diversified Utilities'\n",
      " 'Drug Delivery' 'Regional Airlines' 'Medical Laboratories & Research'\n",
      " 'Diagnostic Substances' 'Asset Management'\n",
      " 'Industrial Electrical Equipment' 'Investment Brokerage - National'\n",
      " 'Home Furnishings & Fixtures' 'Catalog & Mail Order Houses'\n",
      " 'Independent Oil & Gas' 'Chemicals - Major Diversified' 'Gas Utilities'\n",
      " 'Trucking' 'REIT - Office' 'Industrial Metals & Minerals'\n",
      " 'Electronics Wholesale' 'Regional - Midwest Banks'\n",
      " 'Staffing & Outsourcing Services' 'Medical Instruments & Supplies'\n",
      " 'Telecom Services - Domestic' 'Air Delivery & Freight Services'\n",
      " 'Diversified Machinery' 'Multimedia & Graphics Software'\n",
      " 'Residential Construction' 'Personal Products' 'Business Equipment'\n",
      " 'Waste Management' 'Industrial Equipment Wholesale' 'Money Center Banks'\n",
      " 'Regional - Pacific Banks' 'Regional - Southwest  Banks'\n",
      " 'Networking & Communication Devices' 'Toy & Hobby Stores'\n",
      " 'Electronics Stores' 'Regional - Northeast Banks'\n",
      " 'Communication Equipment' 'Lodging' 'Savings & Loans' 'REIT - Retail'\n",
      " 'Industrial Equipment & Components' 'Sporting Goods Stores'\n",
      " 'Processed & Packaged Goods' 'Discount' 'Restaurants'\n",
      " 'Packaging & Containers' 'Scientific & Technical Instruments'\n",
      " 'Drug Manufacturers - Major' 'Department Stores' 'Metal Fabrication'\n",
      " 'Foreign Regional Banks' 'Oil & Gas Refining & Marketing'\n",
      " 'Data Storage Devices' 'Security Software & Services'\n",
      " 'Oil & Gas Equipment & Services' 'Information & Delivery Services'\n",
      " 'Auto Parts' 'Oil & Gas Pipelines' 'Building Materials Wholesale'\n",
      " 'Regional - Southeast Banks' 'Resorts & Casinos' 'Wireless Communications'\n",
      " 'Grocery Stores' 'Semiconductor - Broad Line' 'General Contractors'\n",
      " 'Entertainment - Diversified' 'Pollution & Treatment Controls'\n",
      " 'Diversified Communication Services' 'Marketing Services' 'Silver'\n",
      " 'Education & Training Services' 'Food - Major Diversified'\n",
      " 'Healthcare Information Services' 'Broadcasting - TV'\n",
      " 'Semiconductor - Specialized' 'Regional - Mid-Atlantic Banks'\n",
      " 'Agricultural Chemicals' 'Processing Systems & Products'\n",
      " 'Broadcasting - Radio' 'Rubber & Plastics' 'Movie Production'\n",
      " 'Conglomerates' 'Textile - Apparel Footwear & Accessories'\n",
      " 'Beverages - Soft Drinks' 'Textile - Apparel Clothing' 'Railroads'\n",
      " 'Diversified Computer Systems' 'Specialty Retail' 'Personal Services'\n",
      " 'Real Estate Development' 'Water Utilities' 'REIT - Industrial'\n",
      " 'General Entertainment' 'Auto Parts Wholesale'\n",
      " 'Major Integrated Oil & Gas' 'Oil & Gas Drilling & Exploration'\n",
      " 'Hospitals' 'Computer Based Systems' 'Gaming Activities' 'Lumber'\n",
      " 'CATV Systems' 'Specialized Health Services' 'Sporting Activities'\n",
      " 'Cleaning Products' 'Shipping' 'Sporting Goods'\n",
      " 'Drug Manufacturers - Other' 'Internet Software & Services'\n",
      " 'Foreign Money Center Banks' 'Cement' 'Management Services'\n",
      " 'Printed Circuit Boards' 'Heavy Construction' 'Auto Manufacturers - Major'\n",
      " 'Publishing - Newspapers' 'REIT - Healthcare Facilities'\n",
      " 'Investment Brokerage - Regional' 'Long Distance Carriers' 'Gold'\n",
      " 'Food Wholesale' 'Toys & Games' 'Machine Tools & Accessories'\n",
      " 'Home Improvement Stores' 'Recreational Vehicles'\n",
      " 'Medical Equipment Wholesale' 'Confectioners' 'Telecom Services - Foreign'\n",
      " 'Advertising Agencies' 'Appliances' 'Surety & Title Insurance' 'Aluminum'\n",
      " 'Diversified Investments' 'Paper & Paper Products'\n",
      " 'Small Tools & Accessories' 'Internet Service Providers'\n",
      " 'Publishing - Periodicals' 'Cigarettes' 'Computer Peripherals'\n",
      " 'Security & Protection Services' 'Trucks & Other Vehicles'\n",
      " 'Research Services' 'Drug Related Products' 'Drug Stores'\n",
      " 'Semiconductor- Memory Chips' 'Specialty Eateries' 'Copper'\n",
      " 'Jewelry Stores' 'Manufactured Housing' 'Beverages - Brewers'\n",
      " 'Computers Wholesale' 'Meat Products' 'Textile Industrial'\n",
      " 'Tobacco Products']\n"
     ]
    },
    {
     "data": {
      "text/html": [
       "<div>\n",
       "<style>\n",
       "    .dataframe thead tr:only-child th {\n",
       "        text-align: right;\n",
       "    }\n",
       "\n",
       "    .dataframe thead th {\n",
       "        text-align: left;\n",
       "    }\n",
       "\n",
       "    .dataframe tbody tr th {\n",
       "        vertical-align: top;\n",
       "    }\n",
       "</style>\n",
       "<table border=\"1\" class=\"dataframe\">\n",
       "  <thead>\n",
       "    <tr style=\"text-align: right;\">\n",
       "      <th></th>\n",
       "      <th>Category</th>\n",
       "      <th>count</th>\n",
       "      <th>fulltext</th>\n",
       "      <th>ReturnBin_4Weeks</th>\n",
       "      <th>ReturnBin_26Weeks</th>\n",
       "    </tr>\n",
       "  </thead>\n",
       "  <tbody>\n",
       "    <tr>\n",
       "      <th>1</th>\n",
       "      <td>Major Airlines</td>\n",
       "      <td>87146</td>\n",
       "      <td>BusinessOverview.   AAL.   OverviewAmerican Ai...</td>\n",
       "      <td>0</td>\n",
       "      <td>1</td>\n",
       "    </tr>\n",
       "    <tr>\n",
       "      <th>2</th>\n",
       "      <td>Major Airlines</td>\n",
       "      <td>37564</td>\n",
       "      <td>BusinessOverview.   AAL.   Chapter 11 Proceedi...</td>\n",
       "      <td>2</td>\n",
       "      <td>2</td>\n",
       "    </tr>\n",
       "  </tbody>\n",
       "</table>\n",
       "</div>"
      ],
      "text/plain": [
       "         Category  count                                           fulltext  \\\n",
       "1  Major Airlines  87146  BusinessOverview.   AAL.   OverviewAmerican Ai...   \n",
       "2  Major Airlines  37564  BusinessOverview.   AAL.   Chapter 11 Proceedi...   \n",
       "\n",
       "  ReturnBin_4Weeks ReturnBin_26Weeks  \n",
       "1                0                 1  \n",
       "2                2                 2  "
      ]
     },
     "execution_count": 12,
     "metadata": {},
     "output_type": "execute_result"
    }
   ],
   "source": [
    "allindustrydata=df\n",
    "allindustrydata=allindustrydata.drop(['PercReturn_4_Weeks',\n",
    "                                      'Future_4_weeks','Future_26_weeks','Date','Price_4_weeks','Price_26_weeks','Price_Date','PercReturn_26_Weeks','Return_4_weeks','Return_26_weeks'], axis=1)\n",
    "print(allindustrydata.Category.unique())\n",
    "allindustrydata.head(2)"
   ]
  },
  {
   "cell_type": "code",
   "execution_count": 13,
   "metadata": {},
   "outputs": [],
   "source": [
    "with open('allindustriessource.pkl', 'wb') as f:\n",
    "    pickle.dump(allindustrydata, f)\n",
    "#df = pd.read_pickle(file_name)"
   ]
  },
  {
   "cell_type": "code",
   "execution_count": 14,
   "metadata": {},
   "outputs": [
    {
     "name": "stdout",
     "output_type": "stream",
     "text": [
      "Biotechnology    921\n",
      "Name: Category, dtype: int64\n"
     ]
    },
    {
     "data": {
      "text/html": [
       "<div>\n",
       "<style>\n",
       "    .dataframe thead tr:only-child th {\n",
       "        text-align: right;\n",
       "    }\n",
       "\n",
       "    .dataframe thead th {\n",
       "        text-align: left;\n",
       "    }\n",
       "\n",
       "    .dataframe tbody tr th {\n",
       "        vertical-align: top;\n",
       "    }\n",
       "</style>\n",
       "<table border=\"1\" class=\"dataframe\">\n",
       "  <thead>\n",
       "    <tr style=\"text-align: right;\">\n",
       "      <th></th>\n",
       "      <th>Date</th>\n",
       "      <th>Category</th>\n",
       "      <th>Future_4_weeks</th>\n",
       "      <th>Future_26_weeks</th>\n",
       "      <th>Price_Date</th>\n",
       "      <th>Price_4_weeks</th>\n",
       "      <th>Price_26_weeks</th>\n",
       "      <th>Return_4_weeks</th>\n",
       "      <th>Return_26_weeks</th>\n",
       "      <th>count</th>\n",
       "      <th>fulltext</th>\n",
       "      <th>PercReturn_4_Weeks</th>\n",
       "      <th>PercReturn_26_Weeks</th>\n",
       "      <th>ReturnBin_4Weeks</th>\n",
       "      <th>ReturnBin_26Weeks</th>\n",
       "    </tr>\n",
       "  </thead>\n",
       "  <tbody>\n",
       "    <tr>\n",
       "      <th>131</th>\n",
       "      <td>2008-03-05</td>\n",
       "      <td>Biotechnology</td>\n",
       "      <td>2008-04-02</td>\n",
       "      <td>2008-09-03</td>\n",
       "      <td>9.30</td>\n",
       "      <td>8.990000</td>\n",
       "      <td>2.690000</td>\n",
       "      <td>-6.196167</td>\n",
       "      <td>-65.182894</td>\n",
       "      <td>72955</td>\n",
       "      <td>BusinessOverview.   ACAD.   . Overview We are ...</td>\n",
       "      <td>-0.666255</td>\n",
       "      <td>-7.008913</td>\n",
       "      <td>0</td>\n",
       "      <td>0</td>\n",
       "    </tr>\n",
       "    <tr>\n",
       "      <th>133</th>\n",
       "      <td>2016-02-29</td>\n",
       "      <td>Biotechnology</td>\n",
       "      <td>2016-03-28</td>\n",
       "      <td>2016-08-29</td>\n",
       "      <td>17.26</td>\n",
       "      <td>23.809999</td>\n",
       "      <td>32.619999</td>\n",
       "      <td>31.780087</td>\n",
       "      <td>76.964577</td>\n",
       "      <td>74741</td>\n",
       "      <td>BusinessOverview.   ACAD.   . Company Overview...</td>\n",
       "      <td>1.841257</td>\n",
       "      <td>4.459130</td>\n",
       "      <td>2</td>\n",
       "      <td>2</td>\n",
       "    </tr>\n",
       "  </tbody>\n",
       "</table>\n",
       "</div>"
      ],
      "text/plain": [
       "           Date       Category Future_4_weeks Future_26_weeks  Price_Date  \\\n",
       "131  2008-03-05  Biotechnology     2008-04-02      2008-09-03        9.30   \n",
       "133  2016-02-29  Biotechnology     2016-03-28      2016-08-29       17.26   \n",
       "\n",
       "     Price_4_weeks  Price_26_weeks  Return_4_weeks  Return_26_weeks  count  \\\n",
       "131       8.990000        2.690000       -6.196167       -65.182894  72955   \n",
       "133      23.809999       32.619999       31.780087        76.964577  74741   \n",
       "\n",
       "                                              fulltext  PercReturn_4_Weeks  \\\n",
       "131  BusinessOverview.   ACAD.   . Overview We are ...           -0.666255   \n",
       "133  BusinessOverview.   ACAD.   . Company Overview...            1.841257   \n",
       "\n",
       "     PercReturn_26_Weeks ReturnBin_4Weeks ReturnBin_26Weeks  \n",
       "131            -7.008913                0                 0  \n",
       "133             4.459130                2                 2  "
      ]
     },
     "execution_count": 14,
     "metadata": {},
     "output_type": "execute_result"
    }
   ],
   "source": [
    "\n",
    "df1 = df[(df['Category'] ==\"Biotechnology\")]\n",
    "print(df1['Category'].value_counts())\n",
    "df1.shape\n",
    "df1.head(2)"
   ]
  },
  {
   "cell_type": "code",
   "execution_count": 15,
   "metadata": {},
   "outputs": [
    {
     "name": "stderr",
     "output_type": "stream",
     "text": [
      "C:\\Users\\pattyry\\AppData\\local\\AmlWorkbench\\Python\\lib\\site-packages\\ipykernel_launcher.py:2: SettingWithCopyWarning: \n",
      "A value is trying to be set on a copy of a slice from a DataFrame.\n",
      "Try using .loc[row_indexer,col_indexer] = value instead\n",
      "\n",
      "See the caveats in the documentation: http://pandas.pydata.org/pandas-docs/stable/indexing.html#indexing-view-versus-copy\n",
      "  \n",
      "C:\\Users\\pattyry\\AppData\\local\\AmlWorkbench\\Python\\lib\\site-packages\\ipykernel_launcher.py:3: SettingWithCopyWarning: \n",
      "A value is trying to be set on a copy of a slice from a DataFrame.\n",
      "Try using .loc[row_indexer,col_indexer] = value instead\n",
      "\n",
      "See the caveats in the documentation: http://pandas.pydata.org/pandas-docs/stable/indexing.html#indexing-view-versus-copy\n",
      "  This is separate from the ipykernel package so we can avoid doing imports until\n",
      "C:\\Users\\pattyry\\AppData\\local\\AmlWorkbench\\Python\\lib\\site-packages\\ipykernel_launcher.py:4: SettingWithCopyWarning: \n",
      "A value is trying to be set on a copy of a slice from a DataFrame.\n",
      "Try using .loc[row_indexer,col_indexer] = value instead\n",
      "\n",
      "See the caveats in the documentation: http://pandas.pydata.org/pandas-docs/stable/indexing.html#indexing-view-versus-copy\n",
      "  after removing the cwd from sys.path.\n",
      "C:\\Users\\pattyry\\AppData\\local\\AmlWorkbench\\Python\\lib\\site-packages\\ipykernel_launcher.py:5: SettingWithCopyWarning: \n",
      "A value is trying to be set on a copy of a slice from a DataFrame.\n",
      "Try using .loc[row_indexer,col_indexer] = value instead\n",
      "\n",
      "See the caveats in the documentation: http://pandas.pydata.org/pandas-docs/stable/indexing.html#indexing-view-versus-copy\n",
      "  \"\"\"\n"
     ]
    },
    {
     "name": "stdout",
     "output_type": "stream",
     "text": [
      "(921, 15)\n"
     ]
    },
    {
     "data": {
      "image/png": "[encoded data removed]",
      "text/plain": [
       "<matplotlib.figure.Figure at 0x1592980bf98>"
      ]
     },
     "metadata": {},
     "output_type": "display_data"
    },
    {
     "data": {
      "text/plain": [
       "<ggplot: (-9223371944201034983)>"
      ]
     },
     "execution_count": 15,
     "metadata": {},
     "output_type": "execute_result"
    }
   ],
   "source": [
    "data2=df1\n",
    "data2[\"PercReturn_4_Weeks\"] = data2.Return_4_weeks / data2.Price_Date\n",
    "data2[\"PercReturn_26_Weeks\"] = data2.Return_26_weeks / data2.Price_Date\n",
    "data2[\"ReturnBin_4Weeks\"] = pd.qcut(data2[\"PercReturn_4_Weeks\"], 3,labels=range(3))\n",
    "data2[\"ReturnBin_26Weeks\"] = pd.qcut(data2[\"PercReturn_26_Weeks\"], 3,labels=range(3))\n",
    "referencedata=data2\n",
    "print(data2.shape)\n",
    "data2.head(2)\n",
    "import ggplot\n",
    "from ggplot import *\n",
    "ggplot(data2, aes(x='ReturnBin_4Weeks')) + \\\n",
    "    geom_histogram() "
   ]
  },
  {
   "cell_type": "code",
   "execution_count": 16,
   "metadata": {},
   "outputs": [
    {
     "name": "stdout",
     "output_type": "stream",
     "text": [
      "(921, 4)\n"
     ]
    },
    {
     "data": {
      "text/html": [
       "<div>\n",
       "<style>\n",
       "    .dataframe thead tr:only-child th {\n",
       "        text-align: right;\n",
       "    }\n",
       "\n",
       "    .dataframe thead th {\n",
       "        text-align: left;\n",
       "    }\n",
       "\n",
       "    .dataframe tbody tr th {\n",
       "        vertical-align: top;\n",
       "    }\n",
       "</style>\n",
       "<table border=\"1\" class=\"dataframe\">\n",
       "  <thead>\n",
       "    <tr style=\"text-align: right;\">\n",
       "      <th></th>\n",
       "      <th>count</th>\n",
       "      <th>fulltext</th>\n",
       "      <th>ReturnBin_4Weeks</th>\n",
       "      <th>ReturnBin_26Weeks</th>\n",
       "    </tr>\n",
       "  </thead>\n",
       "  <tbody>\n",
       "    <tr>\n",
       "      <th>131</th>\n",
       "      <td>72955</td>\n",
       "      <td>BusinessOverview.   ACAD.   . Overview We are ...</td>\n",
       "      <td>0</td>\n",
       "      <td>0</td>\n",
       "    </tr>\n",
       "    <tr>\n",
       "      <th>133</th>\n",
       "      <td>74741</td>\n",
       "      <td>BusinessOverview.   ACAD.   . Company Overview...</td>\n",
       "      <td>2</td>\n",
       "      <td>2</td>\n",
       "    </tr>\n",
       "  </tbody>\n",
       "</table>\n",
       "</div>"
      ],
      "text/plain": [
       "     count                                           fulltext  \\\n",
       "131  72955  BusinessOverview.   ACAD.   . Overview We are ...   \n",
       "133  74741  BusinessOverview.   ACAD.   . Company Overview...   \n",
       "\n",
       "    ReturnBin_4Weeks ReturnBin_26Weeks  \n",
       "131                0                 0  \n",
       "133                2                 2  "
      ]
     },
     "execution_count": 16,
     "metadata": {},
     "output_type": "execute_result"
    }
   ],
   "source": [
    "data2=data2.drop(['PercReturn_4_Weeks','Category',\n",
    "                    'Future_4_weeks','Future_26_weeks','Date','Price_4_weeks','Price_26_weeks',\n",
    "                    'Price_Date','PercReturn_26_Weeks','Return_4_weeks','Return_26_weeks'], axis=1)\n",
    "\n",
    "print(data2.shape)\n",
    "data2.head(2)"
   ]
  },
  {
   "cell_type": "code",
   "execution_count": 17,
   "metadata": {},
   "outputs": [],
   "source": [
    "with open('biotechsource.pkl', 'wb') as f:\n",
    "    pickle.dump(data2, f)\n",
    "#df = pd.read_pickle(file_name)"
   ]
  }
 ],
 "metadata": {
  "kernelspec": {
   "display_name": "Python 3",
   "language": "python",
   "name": "python3"
  },
  "language_info": {
   "codemirror_mode": {
    "name": "ipython",
    "version": 3
   },
   "file_extension": ".py",
   "mimetype": "text/x-python",
   "name": "python",
   "nbconvert_exporter": "python",
   "pygments_lexer": "ipython3",
   "version": "3.5.2"
  }
 },
 "nbformat": 4,
 "nbformat_minor": 2
}
